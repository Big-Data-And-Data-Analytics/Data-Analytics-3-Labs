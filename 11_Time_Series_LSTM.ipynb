{
  "cells": [
    {
      "cell_type": "markdown",
      "metadata": {
        "id": "view-in-github",
        "colab_type": "text"
      },
      "source": [
        "<a href=\"https://colab.research.google.com/github/binhvd/Data-Analytics-3-Labs/blob/main/11_Time_Series_LSTM.ipynb\" target=\"_parent\"><img src=\"https://colab.research.google.com/assets/colab-badge.svg\" alt=\"Open In Colab\"/></a>"
      ]
    },
    {
      "cell_type": "markdown",
      "metadata": {
        "id": "jtBZQxLF0k17"
      },
      "source": [
        "# Modeling air pollution\n",
        "\n",
        "Let us try to predict Beijing's air pollution, especially [PM2.5](https://en.wikipedia.org/wiki/Particulates) values in advance!\n",
        "\n",
        "\n",
        "Inspiration comes from [here](https://machinelearningmastery.com/multivariate-time-series-forecasting-lstms-keras/).\n",
        "\n",
        "## Dataset\n",
        "\n",
        "[Beijing PM2.5 Data Data Set](https://archive.ics.uci.edu/ml/datasets/Beijing+PM2.5+Data)\n",
        "\n",
        "### Columns of the dataset:\n",
        "\n",
        "**No:** row number\n",
        "\n",
        "**year:** year of data in this row\n",
        "\n",
        "**month:** month of data in this row\n",
        "\n",
        "**day:** day of data in this row\n",
        "\n",
        "**hour:** hour of data in this row\n",
        "\n",
        "**pm2.5:** PM2.5 concentration\n",
        "\n",
        "**DEWP:** Dew Point\n",
        "\n",
        "**TEMP:** Temperature\n",
        "\n",
        "**PRES:** Pressure\n",
        "\n",
        "**cbwd:** Combined wind direction\n",
        "\n",
        "**Iws:** Cumulated wind speed\n",
        "\n",
        "**Is:** Cumulated hours of snow\n",
        "\n",
        "**Ir:** Cumulated hours of rain"
      ]
    },
    {
      "cell_type": "code",
      "execution_count": null,
      "metadata": {
        "ExecuteTime": {
          "end_time": "2019-05-02T06:10:13.431328Z",
          "start_time": "2019-05-02T06:10:11.256909Z"
        },
        "colab": {
          "base_uri": "https://localhost:8080/"
        },
        "id": "SYEZLmow0k2A",
        "outputId": "08428042-d17c-48fc-92ce-e19c352e1242"
      },
      "outputs": [
        {
          "output_type": "stream",
          "name": "stdout",
          "text": [
            "Looking in indexes: https://pypi.org/simple, https://us-python.pkg.dev/colab-wheels/public/simple/\n",
            "Requirement already satisfied: seglearn in /usr/local/lib/python3.7/dist-packages (1.2.5)\n",
            "Requirement already satisfied: scipy in /usr/local/lib/python3.7/dist-packages (from seglearn) (1.7.3)\n",
            "Requirement already satisfied: numpy in /usr/local/lib/python3.7/dist-packages (from seglearn) (1.21.6)\n",
            "Requirement already satisfied: scikit-learn>=0.21.3 in /usr/local/lib/python3.7/dist-packages (from seglearn) (1.0.2)\n",
            "Requirement already satisfied: threadpoolctl>=2.0.0 in /usr/local/lib/python3.7/dist-packages (from scikit-learn>=0.21.3->seglearn) (3.1.0)\n",
            "Requirement already satisfied: joblib>=0.11 in /usr/local/lib/python3.7/dist-packages (from scikit-learn>=0.21.3->seglearn) (1.2.0)\n"
          ]
        }
      ],
      "source": [
        "!pip install seglearn"
      ]
    },
    {
      "cell_type": "code",
      "execution_count": null,
      "metadata": {
        "ExecuteTime": {
          "end_time": "2019-05-02T06:10:13.687821Z",
          "start_time": "2019-05-02T06:10:13.438084Z"
        },
        "id": "J0JCUQRz0k2A"
      },
      "outputs": [],
      "source": [
        "import pandas as pd \n",
        "import csv\n",
        "import numpy as np \n",
        "import matplotlib.pyplot as plt"
      ]
    },
    {
      "cell_type": "code",
      "execution_count": null,
      "metadata": {
        "ExecuteTime": {
          "end_time": "2019-05-02T06:10:11.249973Z",
          "start_time": "2019-05-02T06:10:10.635735Z"
        },
        "colab": {
          "base_uri": "https://localhost:8080/"
        },
        "id": "D68DKnAb0k1_",
        "outputId": "6628677c-0ffd-41dc-807e-d2c1d43cabd4"
      },
      "outputs": [
        {
          "output_type": "stream",
          "name": "stdout",
          "text": [
            "--2022-10-25 14:03:11--  https://raw.githubusercontent.com/jbrownlee/Datasets/master/pollution.csv\n",
            "Resolving raw.githubusercontent.com (raw.githubusercontent.com)... 185.199.108.133, 185.199.109.133, 185.199.110.133, ...\n",
            "Connecting to raw.githubusercontent.com (raw.githubusercontent.com)|185.199.108.133|:443... connected.\n",
            "HTTP request sent, awaiting response... 200 OK\n",
            "Length: 2010492 (1.9M) [text/plain]\n",
            "Saving to: ‘pollution.csv.1’\n",
            "\n",
            "pollution.csv.1     100%[===================>]   1.92M  --.-KB/s    in 0.06s   \n",
            "\n",
            "2022-10-25 14:03:12 (33.9 MB/s) - ‘pollution.csv.1’ saved [2010492/2010492]\n",
            "\n"
          ]
        }
      ],
      "source": [
        "!wget https://raw.githubusercontent.com/jbrownlee/Datasets/master/pollution.csv"
      ]
    },
    {
      "cell_type": "code",
      "source": [
        "df = pd.read_csv(\"pollution.csv\")\n",
        "df.head()"
      ],
      "metadata": {
        "colab": {
          "base_uri": "https://localhost:8080/",
          "height": 206
        },
        "id": "LGIyyEsX6_6L",
        "outputId": "1e318da7-d95c-4ed4-cc2f-d249d73af911"
      },
      "execution_count": null,
      "outputs": [
        {
          "output_type": "execute_result",
          "data": {
            "text/plain": [
              "   No  year  month  day  hour  pm2.5  DEWP  TEMP    PRES cbwd    Iws  Is  Ir\n",
              "0   1  2010      1    1     0    NaN   -21 -11.0  1021.0   NW   1.79   0   0\n",
              "1   2  2010      1    1     1    NaN   -21 -12.0  1020.0   NW   4.92   0   0\n",
              "2   3  2010      1    1     2    NaN   -21 -11.0  1019.0   NW   6.71   0   0\n",
              "3   4  2010      1    1     3    NaN   -21 -14.0  1019.0   NW   9.84   0   0\n",
              "4   5  2010      1    1     4    NaN   -20 -12.0  1018.0   NW  12.97   0   0"
            ],
            "text/html": [
              "\n",
              "  <div id=\"df-ea20118f-c30e-45cc-8443-cafd6bd182bd\">\n",
              "    <div class=\"colab-df-container\">\n",
              "      <div>\n",
              "<style scoped>\n",
              "    .dataframe tbody tr th:only-of-type {\n",
              "        vertical-align: middle;\n",
              "    }\n",
              "\n",
              "    .dataframe tbody tr th {\n",
              "        vertical-align: top;\n",
              "    }\n",
              "\n",
              "    .dataframe thead th {\n",
              "        text-align: right;\n",
              "    }\n",
              "</style>\n",
              "<table border=\"1\" class=\"dataframe\">\n",
              "  <thead>\n",
              "    <tr style=\"text-align: right;\">\n",
              "      <th></th>\n",
              "      <th>No</th>\n",
              "      <th>year</th>\n",
              "      <th>month</th>\n",
              "      <th>day</th>\n",
              "      <th>hour</th>\n",
              "      <th>pm2.5</th>\n",
              "      <th>DEWP</th>\n",
              "      <th>TEMP</th>\n",
              "      <th>PRES</th>\n",
              "      <th>cbwd</th>\n",
              "      <th>Iws</th>\n",
              "      <th>Is</th>\n",
              "      <th>Ir</th>\n",
              "    </tr>\n",
              "  </thead>\n",
              "  <tbody>\n",
              "    <tr>\n",
              "      <th>0</th>\n",
              "      <td>1</td>\n",
              "      <td>2010</td>\n",
              "      <td>1</td>\n",
              "      <td>1</td>\n",
              "      <td>0</td>\n",
              "      <td>NaN</td>\n",
              "      <td>-21</td>\n",
              "      <td>-11.0</td>\n",
              "      <td>1021.0</td>\n",
              "      <td>NW</td>\n",
              "      <td>1.79</td>\n",
              "      <td>0</td>\n",
              "      <td>0</td>\n",
              "    </tr>\n",
              "    <tr>\n",
              "      <th>1</th>\n",
              "      <td>2</td>\n",
              "      <td>2010</td>\n",
              "      <td>1</td>\n",
              "      <td>1</td>\n",
              "      <td>1</td>\n",
              "      <td>NaN</td>\n",
              "      <td>-21</td>\n",
              "      <td>-12.0</td>\n",
              "      <td>1020.0</td>\n",
              "      <td>NW</td>\n",
              "      <td>4.92</td>\n",
              "      <td>0</td>\n",
              "      <td>0</td>\n",
              "    </tr>\n",
              "    <tr>\n",
              "      <th>2</th>\n",
              "      <td>3</td>\n",
              "      <td>2010</td>\n",
              "      <td>1</td>\n",
              "      <td>1</td>\n",
              "      <td>2</td>\n",
              "      <td>NaN</td>\n",
              "      <td>-21</td>\n",
              "      <td>-11.0</td>\n",
              "      <td>1019.0</td>\n",
              "      <td>NW</td>\n",
              "      <td>6.71</td>\n",
              "      <td>0</td>\n",
              "      <td>0</td>\n",
              "    </tr>\n",
              "    <tr>\n",
              "      <th>3</th>\n",
              "      <td>4</td>\n",
              "      <td>2010</td>\n",
              "      <td>1</td>\n",
              "      <td>1</td>\n",
              "      <td>3</td>\n",
              "      <td>NaN</td>\n",
              "      <td>-21</td>\n",
              "      <td>-14.0</td>\n",
              "      <td>1019.0</td>\n",
              "      <td>NW</td>\n",
              "      <td>9.84</td>\n",
              "      <td>0</td>\n",
              "      <td>0</td>\n",
              "    </tr>\n",
              "    <tr>\n",
              "      <th>4</th>\n",
              "      <td>5</td>\n",
              "      <td>2010</td>\n",
              "      <td>1</td>\n",
              "      <td>1</td>\n",
              "      <td>4</td>\n",
              "      <td>NaN</td>\n",
              "      <td>-20</td>\n",
              "      <td>-12.0</td>\n",
              "      <td>1018.0</td>\n",
              "      <td>NW</td>\n",
              "      <td>12.97</td>\n",
              "      <td>0</td>\n",
              "      <td>0</td>\n",
              "    </tr>\n",
              "  </tbody>\n",
              "</table>\n",
              "</div>\n",
              "      <button class=\"colab-df-convert\" onclick=\"convertToInteractive('df-ea20118f-c30e-45cc-8443-cafd6bd182bd')\"\n",
              "              title=\"Convert this dataframe to an interactive table.\"\n",
              "              style=\"display:none;\">\n",
              "        \n",
              "  <svg xmlns=\"http://www.w3.org/2000/svg\" height=\"24px\"viewBox=\"0 0 24 24\"\n",
              "       width=\"24px\">\n",
              "    <path d=\"M0 0h24v24H0V0z\" fill=\"none\"/>\n",
              "    <path d=\"M18.56 5.44l.94 2.06.94-2.06 2.06-.94-2.06-.94-.94-2.06-.94 2.06-2.06.94zm-11 1L8.5 8.5l.94-2.06 2.06-.94-2.06-.94L8.5 2.5l-.94 2.06-2.06.94zm10 10l.94 2.06.94-2.06 2.06-.94-2.06-.94-.94-2.06-.94 2.06-2.06.94z\"/><path d=\"M17.41 7.96l-1.37-1.37c-.4-.4-.92-.59-1.43-.59-.52 0-1.04.2-1.43.59L10.3 9.45l-7.72 7.72c-.78.78-.78 2.05 0 2.83L4 21.41c.39.39.9.59 1.41.59.51 0 1.02-.2 1.41-.59l7.78-7.78 2.81-2.81c.8-.78.8-2.07 0-2.86zM5.41 20L4 18.59l7.72-7.72 1.47 1.35L5.41 20z\"/>\n",
              "  </svg>\n",
              "      </button>\n",
              "      \n",
              "  <style>\n",
              "    .colab-df-container {\n",
              "      display:flex;\n",
              "      flex-wrap:wrap;\n",
              "      gap: 12px;\n",
              "    }\n",
              "\n",
              "    .colab-df-convert {\n",
              "      background-color: #E8F0FE;\n",
              "      border: none;\n",
              "      border-radius: 50%;\n",
              "      cursor: pointer;\n",
              "      display: none;\n",
              "      fill: #1967D2;\n",
              "      height: 32px;\n",
              "      padding: 0 0 0 0;\n",
              "      width: 32px;\n",
              "    }\n",
              "\n",
              "    .colab-df-convert:hover {\n",
              "      background-color: #E2EBFA;\n",
              "      box-shadow: 0px 1px 2px rgba(60, 64, 67, 0.3), 0px 1px 3px 1px rgba(60, 64, 67, 0.15);\n",
              "      fill: #174EA6;\n",
              "    }\n",
              "\n",
              "    [theme=dark] .colab-df-convert {\n",
              "      background-color: #3B4455;\n",
              "      fill: #D2E3FC;\n",
              "    }\n",
              "\n",
              "    [theme=dark] .colab-df-convert:hover {\n",
              "      background-color: #434B5C;\n",
              "      box-shadow: 0px 1px 3px 1px rgba(0, 0, 0, 0.15);\n",
              "      filter: drop-shadow(0px 1px 2px rgba(0, 0, 0, 0.3));\n",
              "      fill: #FFFFFF;\n",
              "    }\n",
              "  </style>\n",
              "\n",
              "      <script>\n",
              "        const buttonEl =\n",
              "          document.querySelector('#df-ea20118f-c30e-45cc-8443-cafd6bd182bd button.colab-df-convert');\n",
              "        buttonEl.style.display =\n",
              "          google.colab.kernel.accessAllowed ? 'block' : 'none';\n",
              "\n",
              "        async function convertToInteractive(key) {\n",
              "          const element = document.querySelector('#df-ea20118f-c30e-45cc-8443-cafd6bd182bd');\n",
              "          const dataTable =\n",
              "            await google.colab.kernel.invokeFunction('convertToInteractive',\n",
              "                                                     [key], {});\n",
              "          if (!dataTable) return;\n",
              "\n",
              "          const docLinkHtml = 'Like what you see? Visit the ' +\n",
              "            '<a target=\"_blank\" href=https://colab.research.google.com/notebooks/data_table.ipynb>data table notebook</a>'\n",
              "            + ' to learn more about interactive tables.';\n",
              "          element.innerHTML = '';\n",
              "          dataTable['output_type'] = 'display_data';\n",
              "          await google.colab.output.renderOutput(dataTable, element);\n",
              "          const docLink = document.createElement('div');\n",
              "          docLink.innerHTML = docLinkHtml;\n",
              "          element.appendChild(docLink);\n",
              "        }\n",
              "      </script>\n",
              "    </div>\n",
              "  </div>\n",
              "  "
            ]
          },
          "metadata": {},
          "execution_count": 2
        }
      ]
    },
    {
      "cell_type": "code",
      "execution_count": null,
      "metadata": {
        "ExecuteTime": {
          "end_time": "2019-05-02T06:10:14.015860Z",
          "start_time": "2019-05-02T06:10:13.702307Z"
        },
        "colab": {
          "base_uri": "https://localhost:8080/",
          "height": 344
        },
        "id": "GrUdhIl60k2C",
        "outputId": "1d70e83e-d9e3-4512-b337-ea3a63eef336"
      },
      "outputs": [
        {
          "output_type": "execute_result",
          "data": {
            "text/plain": [
              "                 No          year         month           day          hour  \\\n",
              "count  43824.000000  43824.000000  43824.000000  43824.000000  43824.000000   \n",
              "mean   21912.500000   2012.000000      6.523549     15.727820     11.500000   \n",
              "std    12651.043435      1.413842      3.448572      8.799425      6.922266   \n",
              "min        1.000000   2010.000000      1.000000      1.000000      0.000000   \n",
              "25%    10956.750000   2011.000000      4.000000      8.000000      5.750000   \n",
              "50%    21912.500000   2012.000000      7.000000     16.000000     11.500000   \n",
              "75%    32868.250000   2013.000000     10.000000     23.000000     17.250000   \n",
              "max    43824.000000   2014.000000     12.000000     31.000000     23.000000   \n",
              "\n",
              "              pm2.5          DEWP          TEMP          PRES           Iws  \\\n",
              "count  41757.000000  43824.000000  43824.000000  43824.000000  43824.000000   \n",
              "mean      98.613215      1.817246     12.448521   1016.447654     23.889140   \n",
              "std       92.050387     14.433440     12.198613     10.268698     50.010635   \n",
              "min        0.000000    -40.000000    -19.000000    991.000000      0.450000   \n",
              "25%       29.000000    -10.000000      2.000000   1008.000000      1.790000   \n",
              "50%       72.000000      2.000000     14.000000   1016.000000      5.370000   \n",
              "75%      137.000000     15.000000     23.000000   1025.000000     21.910000   \n",
              "max      994.000000     28.000000     42.000000   1046.000000    585.600000   \n",
              "\n",
              "                 Is            Ir  \n",
              "count  43824.000000  43824.000000  \n",
              "mean       0.052734      0.194916  \n",
              "std        0.760375      1.415867  \n",
              "min        0.000000      0.000000  \n",
              "25%        0.000000      0.000000  \n",
              "50%        0.000000      0.000000  \n",
              "75%        0.000000      0.000000  \n",
              "max       27.000000     36.000000  "
            ],
            "text/html": [
              "\n",
              "  <div id=\"df-aa2ee2de-1553-4244-a8de-17bd54059028\">\n",
              "    <div class=\"colab-df-container\">\n",
              "      <div>\n",
              "<style scoped>\n",
              "    .dataframe tbody tr th:only-of-type {\n",
              "        vertical-align: middle;\n",
              "    }\n",
              "\n",
              "    .dataframe tbody tr th {\n",
              "        vertical-align: top;\n",
              "    }\n",
              "\n",
              "    .dataframe thead th {\n",
              "        text-align: right;\n",
              "    }\n",
              "</style>\n",
              "<table border=\"1\" class=\"dataframe\">\n",
              "  <thead>\n",
              "    <tr style=\"text-align: right;\">\n",
              "      <th></th>\n",
              "      <th>No</th>\n",
              "      <th>year</th>\n",
              "      <th>month</th>\n",
              "      <th>day</th>\n",
              "      <th>hour</th>\n",
              "      <th>pm2.5</th>\n",
              "      <th>DEWP</th>\n",
              "      <th>TEMP</th>\n",
              "      <th>PRES</th>\n",
              "      <th>Iws</th>\n",
              "      <th>Is</th>\n",
              "      <th>Ir</th>\n",
              "    </tr>\n",
              "  </thead>\n",
              "  <tbody>\n",
              "    <tr>\n",
              "      <th>count</th>\n",
              "      <td>43824.000000</td>\n",
              "      <td>43824.000000</td>\n",
              "      <td>43824.000000</td>\n",
              "      <td>43824.000000</td>\n",
              "      <td>43824.000000</td>\n",
              "      <td>41757.000000</td>\n",
              "      <td>43824.000000</td>\n",
              "      <td>43824.000000</td>\n",
              "      <td>43824.000000</td>\n",
              "      <td>43824.000000</td>\n",
              "      <td>43824.000000</td>\n",
              "      <td>43824.000000</td>\n",
              "    </tr>\n",
              "    <tr>\n",
              "      <th>mean</th>\n",
              "      <td>21912.500000</td>\n",
              "      <td>2012.000000</td>\n",
              "      <td>6.523549</td>\n",
              "      <td>15.727820</td>\n",
              "      <td>11.500000</td>\n",
              "      <td>98.613215</td>\n",
              "      <td>1.817246</td>\n",
              "      <td>12.448521</td>\n",
              "      <td>1016.447654</td>\n",
              "      <td>23.889140</td>\n",
              "      <td>0.052734</td>\n",
              "      <td>0.194916</td>\n",
              "    </tr>\n",
              "    <tr>\n",
              "      <th>std</th>\n",
              "      <td>12651.043435</td>\n",
              "      <td>1.413842</td>\n",
              "      <td>3.448572</td>\n",
              "      <td>8.799425</td>\n",
              "      <td>6.922266</td>\n",
              "      <td>92.050387</td>\n",
              "      <td>14.433440</td>\n",
              "      <td>12.198613</td>\n",
              "      <td>10.268698</td>\n",
              "      <td>50.010635</td>\n",
              "      <td>0.760375</td>\n",
              "      <td>1.415867</td>\n",
              "    </tr>\n",
              "    <tr>\n",
              "      <th>min</th>\n",
              "      <td>1.000000</td>\n",
              "      <td>2010.000000</td>\n",
              "      <td>1.000000</td>\n",
              "      <td>1.000000</td>\n",
              "      <td>0.000000</td>\n",
              "      <td>0.000000</td>\n",
              "      <td>-40.000000</td>\n",
              "      <td>-19.000000</td>\n",
              "      <td>991.000000</td>\n",
              "      <td>0.450000</td>\n",
              "      <td>0.000000</td>\n",
              "      <td>0.000000</td>\n",
              "    </tr>\n",
              "    <tr>\n",
              "      <th>25%</th>\n",
              "      <td>10956.750000</td>\n",
              "      <td>2011.000000</td>\n",
              "      <td>4.000000</td>\n",
              "      <td>8.000000</td>\n",
              "      <td>5.750000</td>\n",
              "      <td>29.000000</td>\n",
              "      <td>-10.000000</td>\n",
              "      <td>2.000000</td>\n",
              "      <td>1008.000000</td>\n",
              "      <td>1.790000</td>\n",
              "      <td>0.000000</td>\n",
              "      <td>0.000000</td>\n",
              "    </tr>\n",
              "    <tr>\n",
              "      <th>50%</th>\n",
              "      <td>21912.500000</td>\n",
              "      <td>2012.000000</td>\n",
              "      <td>7.000000</td>\n",
              "      <td>16.000000</td>\n",
              "      <td>11.500000</td>\n",
              "      <td>72.000000</td>\n",
              "      <td>2.000000</td>\n",
              "      <td>14.000000</td>\n",
              "      <td>1016.000000</td>\n",
              "      <td>5.370000</td>\n",
              "      <td>0.000000</td>\n",
              "      <td>0.000000</td>\n",
              "    </tr>\n",
              "    <tr>\n",
              "      <th>75%</th>\n",
              "      <td>32868.250000</td>\n",
              "      <td>2013.000000</td>\n",
              "      <td>10.000000</td>\n",
              "      <td>23.000000</td>\n",
              "      <td>17.250000</td>\n",
              "      <td>137.000000</td>\n",
              "      <td>15.000000</td>\n",
              "      <td>23.000000</td>\n",
              "      <td>1025.000000</td>\n",
              "      <td>21.910000</td>\n",
              "      <td>0.000000</td>\n",
              "      <td>0.000000</td>\n",
              "    </tr>\n",
              "    <tr>\n",
              "      <th>max</th>\n",
              "      <td>43824.000000</td>\n",
              "      <td>2014.000000</td>\n",
              "      <td>12.000000</td>\n",
              "      <td>31.000000</td>\n",
              "      <td>23.000000</td>\n",
              "      <td>994.000000</td>\n",
              "      <td>28.000000</td>\n",
              "      <td>42.000000</td>\n",
              "      <td>1046.000000</td>\n",
              "      <td>585.600000</td>\n",
              "      <td>27.000000</td>\n",
              "      <td>36.000000</td>\n",
              "    </tr>\n",
              "  </tbody>\n",
              "</table>\n",
              "</div>\n",
              "      <button class=\"colab-df-convert\" onclick=\"convertToInteractive('df-aa2ee2de-1553-4244-a8de-17bd54059028')\"\n",
              "              title=\"Convert this dataframe to an interactive table.\"\n",
              "              style=\"display:none;\">\n",
              "        \n",
              "  <svg xmlns=\"http://www.w3.org/2000/svg\" height=\"24px\"viewBox=\"0 0 24 24\"\n",
              "       width=\"24px\">\n",
              "    <path d=\"M0 0h24v24H0V0z\" fill=\"none\"/>\n",
              "    <path d=\"M18.56 5.44l.94 2.06.94-2.06 2.06-.94-2.06-.94-.94-2.06-.94 2.06-2.06.94zm-11 1L8.5 8.5l.94-2.06 2.06-.94-2.06-.94L8.5 2.5l-.94 2.06-2.06.94zm10 10l.94 2.06.94-2.06 2.06-.94-2.06-.94-.94-2.06-.94 2.06-2.06.94z\"/><path d=\"M17.41 7.96l-1.37-1.37c-.4-.4-.92-.59-1.43-.59-.52 0-1.04.2-1.43.59L10.3 9.45l-7.72 7.72c-.78.78-.78 2.05 0 2.83L4 21.41c.39.39.9.59 1.41.59.51 0 1.02-.2 1.41-.59l7.78-7.78 2.81-2.81c.8-.78.8-2.07 0-2.86zM5.41 20L4 18.59l7.72-7.72 1.47 1.35L5.41 20z\"/>\n",
              "  </svg>\n",
              "      </button>\n",
              "      \n",
              "  <style>\n",
              "    .colab-df-container {\n",
              "      display:flex;\n",
              "      flex-wrap:wrap;\n",
              "      gap: 12px;\n",
              "    }\n",
              "\n",
              "    .colab-df-convert {\n",
              "      background-color: #E8F0FE;\n",
              "      border: none;\n",
              "      border-radius: 50%;\n",
              "      cursor: pointer;\n",
              "      display: none;\n",
              "      fill: #1967D2;\n",
              "      height: 32px;\n",
              "      padding: 0 0 0 0;\n",
              "      width: 32px;\n",
              "    }\n",
              "\n",
              "    .colab-df-convert:hover {\n",
              "      background-color: #E2EBFA;\n",
              "      box-shadow: 0px 1px 2px rgba(60, 64, 67, 0.3), 0px 1px 3px 1px rgba(60, 64, 67, 0.15);\n",
              "      fill: #174EA6;\n",
              "    }\n",
              "\n",
              "    [theme=dark] .colab-df-convert {\n",
              "      background-color: #3B4455;\n",
              "      fill: #D2E3FC;\n",
              "    }\n",
              "\n",
              "    [theme=dark] .colab-df-convert:hover {\n",
              "      background-color: #434B5C;\n",
              "      box-shadow: 0px 1px 3px 1px rgba(0, 0, 0, 0.15);\n",
              "      filter: drop-shadow(0px 1px 2px rgba(0, 0, 0, 0.3));\n",
              "      fill: #FFFFFF;\n",
              "    }\n",
              "  </style>\n",
              "\n",
              "      <script>\n",
              "        const buttonEl =\n",
              "          document.querySelector('#df-aa2ee2de-1553-4244-a8de-17bd54059028 button.colab-df-convert');\n",
              "        buttonEl.style.display =\n",
              "          google.colab.kernel.accessAllowed ? 'block' : 'none';\n",
              "\n",
              "        async function convertToInteractive(key) {\n",
              "          const element = document.querySelector('#df-aa2ee2de-1553-4244-a8de-17bd54059028');\n",
              "          const dataTable =\n",
              "            await google.colab.kernel.invokeFunction('convertToInteractive',\n",
              "                                                     [key], {});\n",
              "          if (!dataTable) return;\n",
              "\n",
              "          const docLinkHtml = 'Like what you see? Visit the ' +\n",
              "            '<a target=\"_blank\" href=https://colab.research.google.com/notebooks/data_table.ipynb>data table notebook</a>'\n",
              "            + ' to learn more about interactive tables.';\n",
              "          element.innerHTML = '';\n",
              "          dataTable['output_type'] = 'display_data';\n",
              "          await google.colab.output.renderOutput(dataTable, element);\n",
              "          const docLink = document.createElement('div');\n",
              "          docLink.innerHTML = docLinkHtml;\n",
              "          element.appendChild(docLink);\n",
              "        }\n",
              "      </script>\n",
              "    </div>\n",
              "  </div>\n",
              "  "
            ]
          },
          "metadata": {},
          "execution_count": 79
        }
      ],
      "source": [
        "df.describe()"
      ]
    },
    {
      "cell_type": "code",
      "execution_count": null,
      "metadata": {
        "ExecuteTime": {
          "end_time": "2019-05-02T06:10:14.236455Z",
          "start_time": "2019-05-02T06:10:14.030737Z"
        },
        "colab": {
          "base_uri": "https://localhost:8080/",
          "height": 394
        },
        "id": "VGSlcaTd0k2D",
        "outputId": "c589bde4-fd11-4483-e121-554fc55ae96e"
      },
      "outputs": [
        {
          "output_type": "execute_result",
          "data": {
            "text/plain": [
              "                     year  month  day  hour  pm2.5  DEWP  TEMP    PRES cbwd  \\\n",
              "date                                                                          \n",
              "2010-01-01 00:00:00  2010      1    1     0    NaN   -21 -11.0  1021.0   NW   \n",
              "2010-01-01 01:00:00  2010      1    1     1    NaN   -21 -12.0  1020.0   NW   \n",
              "2010-01-01 02:00:00  2010      1    1     2    NaN   -21 -11.0  1019.0   NW   \n",
              "2010-01-01 03:00:00  2010      1    1     3    NaN   -21 -14.0  1019.0   NW   \n",
              "2010-01-01 04:00:00  2010      1    1     4    NaN   -20 -12.0  1018.0   NW   \n",
              "2010-01-01 05:00:00  2010      1    1     5    NaN   -19 -10.0  1017.0   NW   \n",
              "2010-01-01 06:00:00  2010      1    1     6    NaN   -19  -9.0  1017.0   NW   \n",
              "2010-01-01 07:00:00  2010      1    1     7    NaN   -19  -9.0  1017.0   NW   \n",
              "2010-01-01 08:00:00  2010      1    1     8    NaN   -19  -9.0  1017.0   NW   \n",
              "2010-01-01 09:00:00  2010      1    1     9    NaN   -20  -8.0  1017.0   NW   \n",
              "\n",
              "                       Iws  Is  Ir  \n",
              "date                                \n",
              "2010-01-01 00:00:00   1.79   0   0  \n",
              "2010-01-01 01:00:00   4.92   0   0  \n",
              "2010-01-01 02:00:00   6.71   0   0  \n",
              "2010-01-01 03:00:00   9.84   0   0  \n",
              "2010-01-01 04:00:00  12.97   0   0  \n",
              "2010-01-01 05:00:00  16.10   0   0  \n",
              "2010-01-01 06:00:00  19.23   0   0  \n",
              "2010-01-01 07:00:00  21.02   0   0  \n",
              "2010-01-01 08:00:00  24.15   0   0  \n",
              "2010-01-01 09:00:00  27.28   0   0  "
            ],
            "text/html": [
              "\n",
              "  <div id=\"df-166cc574-d918-4a92-9e05-f8a95190d4cd\">\n",
              "    <div class=\"colab-df-container\">\n",
              "      <div>\n",
              "<style scoped>\n",
              "    .dataframe tbody tr th:only-of-type {\n",
              "        vertical-align: middle;\n",
              "    }\n",
              "\n",
              "    .dataframe tbody tr th {\n",
              "        vertical-align: top;\n",
              "    }\n",
              "\n",
              "    .dataframe thead th {\n",
              "        text-align: right;\n",
              "    }\n",
              "</style>\n",
              "<table border=\"1\" class=\"dataframe\">\n",
              "  <thead>\n",
              "    <tr style=\"text-align: right;\">\n",
              "      <th></th>\n",
              "      <th>year</th>\n",
              "      <th>month</th>\n",
              "      <th>day</th>\n",
              "      <th>hour</th>\n",
              "      <th>pm2.5</th>\n",
              "      <th>DEWP</th>\n",
              "      <th>TEMP</th>\n",
              "      <th>PRES</th>\n",
              "      <th>cbwd</th>\n",
              "      <th>Iws</th>\n",
              "      <th>Is</th>\n",
              "      <th>Ir</th>\n",
              "    </tr>\n",
              "    <tr>\n",
              "      <th>date</th>\n",
              "      <th></th>\n",
              "      <th></th>\n",
              "      <th></th>\n",
              "      <th></th>\n",
              "      <th></th>\n",
              "      <th></th>\n",
              "      <th></th>\n",
              "      <th></th>\n",
              "      <th></th>\n",
              "      <th></th>\n",
              "      <th></th>\n",
              "      <th></th>\n",
              "    </tr>\n",
              "  </thead>\n",
              "  <tbody>\n",
              "    <tr>\n",
              "      <th>2010-01-01 00:00:00</th>\n",
              "      <td>2010</td>\n",
              "      <td>1</td>\n",
              "      <td>1</td>\n",
              "      <td>0</td>\n",
              "      <td>NaN</td>\n",
              "      <td>-21</td>\n",
              "      <td>-11.0</td>\n",
              "      <td>1021.0</td>\n",
              "      <td>NW</td>\n",
              "      <td>1.79</td>\n",
              "      <td>0</td>\n",
              "      <td>0</td>\n",
              "    </tr>\n",
              "    <tr>\n",
              "      <th>2010-01-01 01:00:00</th>\n",
              "      <td>2010</td>\n",
              "      <td>1</td>\n",
              "      <td>1</td>\n",
              "      <td>1</td>\n",
              "      <td>NaN</td>\n",
              "      <td>-21</td>\n",
              "      <td>-12.0</td>\n",
              "      <td>1020.0</td>\n",
              "      <td>NW</td>\n",
              "      <td>4.92</td>\n",
              "      <td>0</td>\n",
              "      <td>0</td>\n",
              "    </tr>\n",
              "    <tr>\n",
              "      <th>2010-01-01 02:00:00</th>\n",
              "      <td>2010</td>\n",
              "      <td>1</td>\n",
              "      <td>1</td>\n",
              "      <td>2</td>\n",
              "      <td>NaN</td>\n",
              "      <td>-21</td>\n",
              "      <td>-11.0</td>\n",
              "      <td>1019.0</td>\n",
              "      <td>NW</td>\n",
              "      <td>6.71</td>\n",
              "      <td>0</td>\n",
              "      <td>0</td>\n",
              "    </tr>\n",
              "    <tr>\n",
              "      <th>2010-01-01 03:00:00</th>\n",
              "      <td>2010</td>\n",
              "      <td>1</td>\n",
              "      <td>1</td>\n",
              "      <td>3</td>\n",
              "      <td>NaN</td>\n",
              "      <td>-21</td>\n",
              "      <td>-14.0</td>\n",
              "      <td>1019.0</td>\n",
              "      <td>NW</td>\n",
              "      <td>9.84</td>\n",
              "      <td>0</td>\n",
              "      <td>0</td>\n",
              "    </tr>\n",
              "    <tr>\n",
              "      <th>2010-01-01 04:00:00</th>\n",
              "      <td>2010</td>\n",
              "      <td>1</td>\n",
              "      <td>1</td>\n",
              "      <td>4</td>\n",
              "      <td>NaN</td>\n",
              "      <td>-20</td>\n",
              "      <td>-12.0</td>\n",
              "      <td>1018.0</td>\n",
              "      <td>NW</td>\n",
              "      <td>12.97</td>\n",
              "      <td>0</td>\n",
              "      <td>0</td>\n",
              "    </tr>\n",
              "    <tr>\n",
              "      <th>2010-01-01 05:00:00</th>\n",
              "      <td>2010</td>\n",
              "      <td>1</td>\n",
              "      <td>1</td>\n",
              "      <td>5</td>\n",
              "      <td>NaN</td>\n",
              "      <td>-19</td>\n",
              "      <td>-10.0</td>\n",
              "      <td>1017.0</td>\n",
              "      <td>NW</td>\n",
              "      <td>16.10</td>\n",
              "      <td>0</td>\n",
              "      <td>0</td>\n",
              "    </tr>\n",
              "    <tr>\n",
              "      <th>2010-01-01 06:00:00</th>\n",
              "      <td>2010</td>\n",
              "      <td>1</td>\n",
              "      <td>1</td>\n",
              "      <td>6</td>\n",
              "      <td>NaN</td>\n",
              "      <td>-19</td>\n",
              "      <td>-9.0</td>\n",
              "      <td>1017.0</td>\n",
              "      <td>NW</td>\n",
              "      <td>19.23</td>\n",
              "      <td>0</td>\n",
              "      <td>0</td>\n",
              "    </tr>\n",
              "    <tr>\n",
              "      <th>2010-01-01 07:00:00</th>\n",
              "      <td>2010</td>\n",
              "      <td>1</td>\n",
              "      <td>1</td>\n",
              "      <td>7</td>\n",
              "      <td>NaN</td>\n",
              "      <td>-19</td>\n",
              "      <td>-9.0</td>\n",
              "      <td>1017.0</td>\n",
              "      <td>NW</td>\n",
              "      <td>21.02</td>\n",
              "      <td>0</td>\n",
              "      <td>0</td>\n",
              "    </tr>\n",
              "    <tr>\n",
              "      <th>2010-01-01 08:00:00</th>\n",
              "      <td>2010</td>\n",
              "      <td>1</td>\n",
              "      <td>1</td>\n",
              "      <td>8</td>\n",
              "      <td>NaN</td>\n",
              "      <td>-19</td>\n",
              "      <td>-9.0</td>\n",
              "      <td>1017.0</td>\n",
              "      <td>NW</td>\n",
              "      <td>24.15</td>\n",
              "      <td>0</td>\n",
              "      <td>0</td>\n",
              "    </tr>\n",
              "    <tr>\n",
              "      <th>2010-01-01 09:00:00</th>\n",
              "      <td>2010</td>\n",
              "      <td>1</td>\n",
              "      <td>1</td>\n",
              "      <td>9</td>\n",
              "      <td>NaN</td>\n",
              "      <td>-20</td>\n",
              "      <td>-8.0</td>\n",
              "      <td>1017.0</td>\n",
              "      <td>NW</td>\n",
              "      <td>27.28</td>\n",
              "      <td>0</td>\n",
              "      <td>0</td>\n",
              "    </tr>\n",
              "  </tbody>\n",
              "</table>\n",
              "</div>\n",
              "      <button class=\"colab-df-convert\" onclick=\"convertToInteractive('df-166cc574-d918-4a92-9e05-f8a95190d4cd')\"\n",
              "              title=\"Convert this dataframe to an interactive table.\"\n",
              "              style=\"display:none;\">\n",
              "        \n",
              "  <svg xmlns=\"http://www.w3.org/2000/svg\" height=\"24px\"viewBox=\"0 0 24 24\"\n",
              "       width=\"24px\">\n",
              "    <path d=\"M0 0h24v24H0V0z\" fill=\"none\"/>\n",
              "    <path d=\"M18.56 5.44l.94 2.06.94-2.06 2.06-.94-2.06-.94-.94-2.06-.94 2.06-2.06.94zm-11 1L8.5 8.5l.94-2.06 2.06-.94-2.06-.94L8.5 2.5l-.94 2.06-2.06.94zm10 10l.94 2.06.94-2.06 2.06-.94-2.06-.94-.94-2.06-.94 2.06-2.06.94z\"/><path d=\"M17.41 7.96l-1.37-1.37c-.4-.4-.92-.59-1.43-.59-.52 0-1.04.2-1.43.59L10.3 9.45l-7.72 7.72c-.78.78-.78 2.05 0 2.83L4 21.41c.39.39.9.59 1.41.59.51 0 1.02-.2 1.41-.59l7.78-7.78 2.81-2.81c.8-.78.8-2.07 0-2.86zM5.41 20L4 18.59l7.72-7.72 1.47 1.35L5.41 20z\"/>\n",
              "  </svg>\n",
              "      </button>\n",
              "      \n",
              "  <style>\n",
              "    .colab-df-container {\n",
              "      display:flex;\n",
              "      flex-wrap:wrap;\n",
              "      gap: 12px;\n",
              "    }\n",
              "\n",
              "    .colab-df-convert {\n",
              "      background-color: #E8F0FE;\n",
              "      border: none;\n",
              "      border-radius: 50%;\n",
              "      cursor: pointer;\n",
              "      display: none;\n",
              "      fill: #1967D2;\n",
              "      height: 32px;\n",
              "      padding: 0 0 0 0;\n",
              "      width: 32px;\n",
              "    }\n",
              "\n",
              "    .colab-df-convert:hover {\n",
              "      background-color: #E2EBFA;\n",
              "      box-shadow: 0px 1px 2px rgba(60, 64, 67, 0.3), 0px 1px 3px 1px rgba(60, 64, 67, 0.15);\n",
              "      fill: #174EA6;\n",
              "    }\n",
              "\n",
              "    [theme=dark] .colab-df-convert {\n",
              "      background-color: #3B4455;\n",
              "      fill: #D2E3FC;\n",
              "    }\n",
              "\n",
              "    [theme=dark] .colab-df-convert:hover {\n",
              "      background-color: #434B5C;\n",
              "      box-shadow: 0px 1px 3px 1px rgba(0, 0, 0, 0.15);\n",
              "      filter: drop-shadow(0px 1px 2px rgba(0, 0, 0, 0.3));\n",
              "      fill: #FFFFFF;\n",
              "    }\n",
              "  </style>\n",
              "\n",
              "      <script>\n",
              "        const buttonEl =\n",
              "          document.querySelector('#df-166cc574-d918-4a92-9e05-f8a95190d4cd button.colab-df-convert');\n",
              "        buttonEl.style.display =\n",
              "          google.colab.kernel.accessAllowed ? 'block' : 'none';\n",
              "\n",
              "        async function convertToInteractive(key) {\n",
              "          const element = document.querySelector('#df-166cc574-d918-4a92-9e05-f8a95190d4cd');\n",
              "          const dataTable =\n",
              "            await google.colab.kernel.invokeFunction('convertToInteractive',\n",
              "                                                     [key], {});\n",
              "          if (!dataTable) return;\n",
              "\n",
              "          const docLinkHtml = 'Like what you see? Visit the ' +\n",
              "            '<a target=\"_blank\" href=https://colab.research.google.com/notebooks/data_table.ipynb>data table notebook</a>'\n",
              "            + ' to learn more about interactive tables.';\n",
              "          element.innerHTML = '';\n",
              "          dataTable['output_type'] = 'display_data';\n",
              "          await google.colab.output.renderOutput(dataTable, element);\n",
              "          const docLink = document.createElement('div');\n",
              "          docLink.innerHTML = docLinkHtml;\n",
              "          element.appendChild(docLink);\n",
              "        }\n",
              "      </script>\n",
              "    </div>\n",
              "  </div>\n",
              "  "
            ]
          },
          "metadata": {},
          "execution_count": 3
        }
      ],
      "source": [
        "# TODO: Drop No\n",
        "...\n",
        "\n",
        "# TODO: Create a \"date\" column with \"year-month-day hour:minute:second\"\n",
        "...\n",
        "\n",
        "# TODO: Set \"date\" as index and drop date\n",
        "..."
      ]
    },
    {
      "cell_type": "markdown",
      "metadata": {
        "id": "tKKjdRby0k2D"
      },
      "source": [
        "## Encoding day of week\n",
        "\n",
        "We explicitly encode the day of week, since we assume that weekends and workdays behave differently."
      ]
    },
    {
      "cell_type": "code",
      "execution_count": null,
      "metadata": {
        "ExecuteTime": {
          "end_time": "2019-05-02T06:10:14.248106Z",
          "start_time": "2019-05-02T06:10:14.238757Z"
        },
        "colab": {
          "base_uri": "https://localhost:8080/",
          "height": 238
        },
        "id": "4o15Bv3n0k2E",
        "outputId": "43637504-31aa-4130-d457-9ed0c2d19f37"
      },
      "outputs": [
        {
          "output_type": "execute_result",
          "data": {
            "text/plain": [
              "                     year  month  day  hour  pm2.5  DEWP  TEMP    PRES cbwd  \\\n",
              "date                                                                          \n",
              "2010-01-01 00:00:00  2010      1    1     0    NaN   -21 -11.0  1021.0   NW   \n",
              "2010-01-01 01:00:00  2010      1    1     1    NaN   -21 -12.0  1020.0   NW   \n",
              "2010-01-01 02:00:00  2010      1    1     2    NaN   -21 -11.0  1019.0   NW   \n",
              "2010-01-01 03:00:00  2010      1    1     3    NaN   -21 -14.0  1019.0   NW   \n",
              "2010-01-01 04:00:00  2010      1    1     4    NaN   -20 -12.0  1018.0   NW   \n",
              "\n",
              "                       Iws  Is  Ir  dayofweek  \n",
              "date                                           \n",
              "2010-01-01 00:00:00   1.79   0   0          5  \n",
              "2010-01-01 01:00:00   4.92   0   0          5  \n",
              "2010-01-01 02:00:00   6.71   0   0          5  \n",
              "2010-01-01 03:00:00   9.84   0   0          5  \n",
              "2010-01-01 04:00:00  12.97   0   0          5  "
            ],
            "text/html": [
              "\n",
              "  <div id=\"df-e5f3d769-7be9-4936-b2d3-862f3739c38c\">\n",
              "    <div class=\"colab-df-container\">\n",
              "      <div>\n",
              "<style scoped>\n",
              "    .dataframe tbody tr th:only-of-type {\n",
              "        vertical-align: middle;\n",
              "    }\n",
              "\n",
              "    .dataframe tbody tr th {\n",
              "        vertical-align: top;\n",
              "    }\n",
              "\n",
              "    .dataframe thead th {\n",
              "        text-align: right;\n",
              "    }\n",
              "</style>\n",
              "<table border=\"1\" class=\"dataframe\">\n",
              "  <thead>\n",
              "    <tr style=\"text-align: right;\">\n",
              "      <th></th>\n",
              "      <th>year</th>\n",
              "      <th>month</th>\n",
              "      <th>day</th>\n",
              "      <th>hour</th>\n",
              "      <th>pm2.5</th>\n",
              "      <th>DEWP</th>\n",
              "      <th>TEMP</th>\n",
              "      <th>PRES</th>\n",
              "      <th>cbwd</th>\n",
              "      <th>Iws</th>\n",
              "      <th>Is</th>\n",
              "      <th>Ir</th>\n",
              "      <th>dayofweek</th>\n",
              "    </tr>\n",
              "    <tr>\n",
              "      <th>date</th>\n",
              "      <th></th>\n",
              "      <th></th>\n",
              "      <th></th>\n",
              "      <th></th>\n",
              "      <th></th>\n",
              "      <th></th>\n",
              "      <th></th>\n",
              "      <th></th>\n",
              "      <th></th>\n",
              "      <th></th>\n",
              "      <th></th>\n",
              "      <th></th>\n",
              "      <th></th>\n",
              "    </tr>\n",
              "  </thead>\n",
              "  <tbody>\n",
              "    <tr>\n",
              "      <th>2010-01-01 00:00:00</th>\n",
              "      <td>2010</td>\n",
              "      <td>1</td>\n",
              "      <td>1</td>\n",
              "      <td>0</td>\n",
              "      <td>NaN</td>\n",
              "      <td>-21</td>\n",
              "      <td>-11.0</td>\n",
              "      <td>1021.0</td>\n",
              "      <td>NW</td>\n",
              "      <td>1.79</td>\n",
              "      <td>0</td>\n",
              "      <td>0</td>\n",
              "      <td>5</td>\n",
              "    </tr>\n",
              "    <tr>\n",
              "      <th>2010-01-01 01:00:00</th>\n",
              "      <td>2010</td>\n",
              "      <td>1</td>\n",
              "      <td>1</td>\n",
              "      <td>1</td>\n",
              "      <td>NaN</td>\n",
              "      <td>-21</td>\n",
              "      <td>-12.0</td>\n",
              "      <td>1020.0</td>\n",
              "      <td>NW</td>\n",
              "      <td>4.92</td>\n",
              "      <td>0</td>\n",
              "      <td>0</td>\n",
              "      <td>5</td>\n",
              "    </tr>\n",
              "    <tr>\n",
              "      <th>2010-01-01 02:00:00</th>\n",
              "      <td>2010</td>\n",
              "      <td>1</td>\n",
              "      <td>1</td>\n",
              "      <td>2</td>\n",
              "      <td>NaN</td>\n",
              "      <td>-21</td>\n",
              "      <td>-11.0</td>\n",
              "      <td>1019.0</td>\n",
              "      <td>NW</td>\n",
              "      <td>6.71</td>\n",
              "      <td>0</td>\n",
              "      <td>0</td>\n",
              "      <td>5</td>\n",
              "    </tr>\n",
              "    <tr>\n",
              "      <th>2010-01-01 03:00:00</th>\n",
              "      <td>2010</td>\n",
              "      <td>1</td>\n",
              "      <td>1</td>\n",
              "      <td>3</td>\n",
              "      <td>NaN</td>\n",
              "      <td>-21</td>\n",
              "      <td>-14.0</td>\n",
              "      <td>1019.0</td>\n",
              "      <td>NW</td>\n",
              "      <td>9.84</td>\n",
              "      <td>0</td>\n",
              "      <td>0</td>\n",
              "      <td>5</td>\n",
              "    </tr>\n",
              "    <tr>\n",
              "      <th>2010-01-01 04:00:00</th>\n",
              "      <td>2010</td>\n",
              "      <td>1</td>\n",
              "      <td>1</td>\n",
              "      <td>4</td>\n",
              "      <td>NaN</td>\n",
              "      <td>-20</td>\n",
              "      <td>-12.0</td>\n",
              "      <td>1018.0</td>\n",
              "      <td>NW</td>\n",
              "      <td>12.97</td>\n",
              "      <td>0</td>\n",
              "      <td>0</td>\n",
              "      <td>5</td>\n",
              "    </tr>\n",
              "  </tbody>\n",
              "</table>\n",
              "</div>\n",
              "      <button class=\"colab-df-convert\" onclick=\"convertToInteractive('df-e5f3d769-7be9-4936-b2d3-862f3739c38c')\"\n",
              "              title=\"Convert this dataframe to an interactive table.\"\n",
              "              style=\"display:none;\">\n",
              "        \n",
              "  <svg xmlns=\"http://www.w3.org/2000/svg\" height=\"24px\"viewBox=\"0 0 24 24\"\n",
              "       width=\"24px\">\n",
              "    <path d=\"M0 0h24v24H0V0z\" fill=\"none\"/>\n",
              "    <path d=\"M18.56 5.44l.94 2.06.94-2.06 2.06-.94-2.06-.94-.94-2.06-.94 2.06-2.06.94zm-11 1L8.5 8.5l.94-2.06 2.06-.94-2.06-.94L8.5 2.5l-.94 2.06-2.06.94zm10 10l.94 2.06.94-2.06 2.06-.94-2.06-.94-.94-2.06-.94 2.06-2.06.94z\"/><path d=\"M17.41 7.96l-1.37-1.37c-.4-.4-.92-.59-1.43-.59-.52 0-1.04.2-1.43.59L10.3 9.45l-7.72 7.72c-.78.78-.78 2.05 0 2.83L4 21.41c.39.39.9.59 1.41.59.51 0 1.02-.2 1.41-.59l7.78-7.78 2.81-2.81c.8-.78.8-2.07 0-2.86zM5.41 20L4 18.59l7.72-7.72 1.47 1.35L5.41 20z\"/>\n",
              "  </svg>\n",
              "      </button>\n",
              "      \n",
              "  <style>\n",
              "    .colab-df-container {\n",
              "      display:flex;\n",
              "      flex-wrap:wrap;\n",
              "      gap: 12px;\n",
              "    }\n",
              "\n",
              "    .colab-df-convert {\n",
              "      background-color: #E8F0FE;\n",
              "      border: none;\n",
              "      border-radius: 50%;\n",
              "      cursor: pointer;\n",
              "      display: none;\n",
              "      fill: #1967D2;\n",
              "      height: 32px;\n",
              "      padding: 0 0 0 0;\n",
              "      width: 32px;\n",
              "    }\n",
              "\n",
              "    .colab-df-convert:hover {\n",
              "      background-color: #E2EBFA;\n",
              "      box-shadow: 0px 1px 2px rgba(60, 64, 67, 0.3), 0px 1px 3px 1px rgba(60, 64, 67, 0.15);\n",
              "      fill: #174EA6;\n",
              "    }\n",
              "\n",
              "    [theme=dark] .colab-df-convert {\n",
              "      background-color: #3B4455;\n",
              "      fill: #D2E3FC;\n",
              "    }\n",
              "\n",
              "    [theme=dark] .colab-df-convert:hover {\n",
              "      background-color: #434B5C;\n",
              "      box-shadow: 0px 1px 3px 1px rgba(0, 0, 0, 0.15);\n",
              "      filter: drop-shadow(0px 1px 2px rgba(0, 0, 0, 0.3));\n",
              "      fill: #FFFFFF;\n",
              "    }\n",
              "  </style>\n",
              "\n",
              "      <script>\n",
              "        const buttonEl =\n",
              "          document.querySelector('#df-e5f3d769-7be9-4936-b2d3-862f3739c38c button.colab-df-convert');\n",
              "        buttonEl.style.display =\n",
              "          google.colab.kernel.accessAllowed ? 'block' : 'none';\n",
              "\n",
              "        async function convertToInteractive(key) {\n",
              "          const element = document.querySelector('#df-e5f3d769-7be9-4936-b2d3-862f3739c38c');\n",
              "          const dataTable =\n",
              "            await google.colab.kernel.invokeFunction('convertToInteractive',\n",
              "                                                     [key], {});\n",
              "          if (!dataTable) return;\n",
              "\n",
              "          const docLinkHtml = 'Like what you see? Visit the ' +\n",
              "            '<a target=\"_blank\" href=https://colab.research.google.com/notebooks/data_table.ipynb>data table notebook</a>'\n",
              "            + ' to learn more about interactive tables.';\n",
              "          element.innerHTML = '';\n",
              "          dataTable['output_type'] = 'display_data';\n",
              "          await google.colab.output.renderOutput(dataTable, element);\n",
              "          const docLink = document.createElement('div');\n",
              "          docLink.innerHTML = docLinkHtml;\n",
              "          element.appendChild(docLink);\n",
              "        }\n",
              "      </script>\n",
              "    </div>\n",
              "  </div>\n",
              "  "
            ]
          },
          "metadata": {},
          "execution_count": 4
        }
      ],
      "source": [
        "# TODO: Create a \"dayofweek\" column\n",
        "..."
      ]
    },
    {
      "cell_type": "markdown",
      "metadata": {
        "id": "LhBcrtzg0k2E"
      },
      "source": [
        "# Decision about NaN-s"
      ]
    },
    {
      "cell_type": "code",
      "source": [
        "df.isnull().sum()"
      ],
      "metadata": {
        "colab": {
          "base_uri": "https://localhost:8080/"
        },
        "id": "y_dTb_ko8bVT",
        "outputId": "d034603a-7676-48dc-e6a4-4157e852bd4a"
      },
      "execution_count": null,
      "outputs": [
        {
          "output_type": "execute_result",
          "data": {
            "text/plain": [
              "year            0\n",
              "month           0\n",
              "day             0\n",
              "hour            0\n",
              "pm2.5        2067\n",
              "DEWP            0\n",
              "TEMP            0\n",
              "PRES            0\n",
              "cbwd            0\n",
              "Iws             0\n",
              "Is              0\n",
              "Ir              0\n",
              "dayofweek       0\n",
              "dtype: int64"
            ]
          },
          "metadata": {},
          "execution_count": 82
        }
      ]
    },
    {
      "cell_type": "code",
      "execution_count": null,
      "metadata": {
        "ExecuteTime": {
          "end_time": "2019-05-02T06:10:14.844386Z",
          "start_time": "2019-05-02T06:10:14.751521Z"
        },
        "colab": {
          "base_uri": "https://localhost:8080/"
        },
        "id": "IUC4eo1h0k2F",
        "outputId": "46651e82-80b9-48f9-d91d-e3e874808c59"
      },
      "outputs": [
        {
          "output_type": "stream",
          "name": "stdout",
          "text": [
            "--------------------------------\n",
            "% NaN datapoints per year: year\n",
            "2010    8.268446\n",
            "2011    9.063745\n",
            "2012    5.895118\n",
            "2013    0.944918\n",
            "2014    1.143055\n",
            "Name: pm2.5, dtype: float64\n",
            "\n",
            "--------------------------------\n",
            "% NaN datapoints per month: month\n",
            "1      7.173725\n",
            "2      0.326119\n",
            "3      4.611924\n",
            "4      5.726872\n",
            "5      3.075644\n",
            "6      5.726872\n",
            "7      2.001645\n",
            "8     11.477375\n",
            "9      8.010801\n",
            "10     3.939648\n",
            "11     2.827763\n",
            "12     5.055069\n",
            "Name: pm2.5, dtype: float64\n",
            "\n",
            "--------------------------------\n",
            "% NaN datapoints per dayofweek: dayofweek\n",
            "1    5.757218\n",
            "2    5.596763\n",
            "3    4.591752\n",
            "4    3.809682\n",
            "5    4.070444\n",
            "6    4.977376\n",
            "7    5.882353\n",
            "Name: pm2.5, dtype: float64\n",
            "\n",
            "--------------------------------\n",
            "% NaN datapoints per hour: hour\n",
            "0     5.244957\n",
            "1     4.641834\n",
            "2     5.002875\n",
            "3     4.641834\n",
            "4     4.701835\n",
            "5     4.942529\n",
            "6     4.942529\n",
            "7     5.002875\n",
            "8     5.063291\n",
            "9     5.002875\n",
            "10    5.305652\n",
            "11    5.732484\n",
            "12    5.488157\n",
            "13    4.402516\n",
            "14    5.123777\n",
            "15    5.002875\n",
            "16    5.123777\n",
            "17    4.822044\n",
            "18    4.283267\n",
            "19    4.822044\n",
            "20    4.942529\n",
            "21    4.882252\n",
            "22    4.882252\n",
            "23    4.822044\n",
            "Name: pm2.5, dtype: float64\n"
          ]
        }
      ],
      "source": [
        "def countNullEntries(df):\n",
        "    return df.isnull().sum()\n",
        "\n",
        "def countNullPercentByColumn(column):\n",
        "    values = df.groupby(column)[\"pm2.5\"]\n",
        "    return values.apply(countNullEntries) / values.count() * 100.0\n",
        "    \n",
        "print(\"--------------------------------\")\n",
        "print(\"% NaN datapoints per year:\", countNullPercentByColumn(\"year\"))\n",
        "\n",
        "print(\"\\n--------------------------------\")\n",
        "print(\"% NaN datapoints per month:\", countNullPercentByColumn(\"month\"))\n",
        "\n",
        "print(\"\\n--------------------------------\")\n",
        "print(\"% NaN datapoints per dayofweek:\", countNullPercentByColumn(\"dayofweek\"))\n",
        "\n",
        "print(\"\\n--------------------------------\")\n",
        "print(\"% NaN datapoints per hour:\", countNullPercentByColumn(\"hour\"))\n"
      ]
    },
    {
      "cell_type": "markdown",
      "metadata": {
        "id": "792hlPjm0k2F"
      },
      "source": [
        "After examining the NaN values in pm2.5, we see no obvious temporal pattern. This is cause for worry, since by simply dropping the rows with NaN values, we can destroy the temporal coherence of the data, hence **data imputation is desirable.**\n",
        "\n",
        "The autocorrelation charts below imply, that it is not unreasonable to take the previous value to fill NaN-s (high autocorrelation with the previous timestep)."
      ]
    },
    {
      "cell_type": "code",
      "execution_count": null,
      "metadata": {
        "ExecuteTime": {
          "end_time": "2019-05-02T06:10:14.910399Z",
          "start_time": "2019-05-02T06:10:14.846764Z"
        },
        "colab": {
          "base_uri": "https://localhost:8080/"
        },
        "id": "cv1cd46F0k2F",
        "outputId": "77f38ff7-7d70-49f8-eb47-ef96068ae0c5"
      },
      "outputs": [
        {
          "output_type": "stream",
          "name": "stdout",
          "text": [
            "year          0\n",
            "month         0\n",
            "day           0\n",
            "hour          0\n",
            "pm2.5        24\n",
            "DEWP          0\n",
            "TEMP          0\n",
            "PRES          0\n",
            "cbwd          0\n",
            "Iws           0\n",
            "Is            0\n",
            "Ir            0\n",
            "dayofweek     0\n",
            "dtype: int64\n",
            "\n",
            "\n",
            "year         0\n",
            "month        0\n",
            "day          0\n",
            "hour         0\n",
            "pm2.5        0\n",
            "DEWP         0\n",
            "TEMP         0\n",
            "PRES         0\n",
            "cbwd         0\n",
            "Iws          0\n",
            "Is           0\n",
            "Ir           0\n",
            "dayofweek    0\n",
            "dtype: int64\n"
          ]
        }
      ],
      "source": [
        "# TODO: Replace NULL values with the value from the previous row\n",
        "...\n",
        "\n",
        "# TODO: Drop the unfillable rows left\n",
        "..."
      ]
    },
    {
      "cell_type": "markdown",
      "metadata": {
        "id": "aV9ibyNn0k2I"
      },
      "source": [
        "# Train, valid, test split - before normalization\n",
        "\n",
        "Contamination by the normalization values is a distant possibility, but let's stick to paranoid practices."
      ]
    },
    {
      "cell_type": "code",
      "execution_count": null,
      "metadata": {
        "ExecuteTime": {
          "end_time": "2019-05-02T06:10:46.758254Z",
          "start_time": "2019-05-02T06:10:46.746022Z"
        },
        "id": "Qizdc_PV0k2I"
      },
      "outputs": [],
      "source": [
        "# TODO: Split data into train, validate, and test sets with a ratio of 8/1/1\n",
        "..."
      ]
    },
    {
      "cell_type": "markdown",
      "metadata": {
        "id": "La72L4hL0k2I"
      },
      "source": [
        "We could have used `temporal_split` from `seglearn`, but that would have cast everything to numpy, so it was more convenient this way for now. Using `seglearn` is encouraged - if we would like to go into classical modeling."
      ]
    },
    {
      "cell_type": "markdown",
      "metadata": {
        "ExecuteTime": {
          "end_time": "2019-04-28T08:49:44.040034Z",
          "start_time": "2019-04-28T08:49:43.994879Z"
        },
        "id": "QsXXOpAy0k2I"
      },
      "source": [
        "# Data normalization\n",
        "\n",
        "Our default assumption is to use Scikit's minmax scaler for easier learning by neural models."
      ]
    },
    {
      "cell_type": "markdown",
      "metadata": {
        "ExecuteTime": {
          "end_time": "2019-04-28T08:49:44.040034Z",
          "start_time": "2019-04-28T08:49:43.994879Z"
        },
        "id": "7wTWF2hl0k2I"
      },
      "source": [
        "But there are some exceptions:\n",
        "\n",
        "## How to normalize dates?\n",
        "\n",
        "For the year it is more tricky, it is basically an ordinal.\n",
        "Subtracting the first year is nice, but how to handle the normalization to 0,1?\n",
        "\n",
        "We could use 2018 as a max, but **WE WOULD HAVE TO WRITE A BIG CAVEAT MESSAGE FOR DEPLOY PEOPLE!**\n",
        "\n",
        "So it should be something like  `(df.year - (df.year.min())-1)/((df.year.max()-df.year.min())*2)` (-1 is for avoiding zero, making the life of the network more easy...)\n",
        "\n",
        "For now we stick to the minmax scaler (living risky... :-)\n",
        "\n",
        "For month, day, hour default assumption is, scikit's minmax scaler could work, but we will choose a more elaborate solution from [here](https://ianlondon.github.io/blog/encoding-cyclical-features-24hour-time/). This capitalizes on the circular nature of these quasi ordinals.\n"
      ]
    },
    {
      "cell_type": "code",
      "execution_count": null,
      "metadata": {
        "ExecuteTime": {
          "end_time": "2019-05-02T06:10:46.770740Z",
          "start_time": "2019-05-02T06:10:46.760217Z"
        },
        "id": "0trp-wM90k2I"
      },
      "outputs": [],
      "source": [
        "from sklearn.preprocessing import MinMaxScaler\n",
        "\n",
        "def minmax_scale(df_x,series_y, normalizers=None):\n",
        "    features_to_minmax = [\"year\",\"pm2.5\",\"DEWP\",\"TEMP\",\"PRES\",\"Iws\",\"Is\",\"Ir\"]\n",
        "\n",
        "    if not normalizers:\n",
        "        normalizers = {}\n",
        "\n",
        "    for feat in features_to_minmax:\n",
        "        if feat not in normalizers:\n",
        "            normalizers[feat] = MinMaxScaler()\n",
        "            normalizers[feat].fit(df_x[feat].values.reshape(-1, 1))\n",
        "        \n",
        "        df_x[feat] = normalizers[feat].transform(df_x[feat].values.reshape(-1, 1))\n",
        "\n",
        "    series_y=normalizers[\"pm2.5\"].transform(series_y.values.reshape(-1, 1))\n",
        "\n",
        "    return df_x, series_y, normalizers"
      ]
    },
    {
      "cell_type": "code",
      "execution_count": null,
      "metadata": {
        "ExecuteTime": {
          "end_time": "2019-05-02T06:10:48.003046Z",
          "start_time": "2019-05-02T06:10:46.773080Z"
        },
        "id": "9aVulU9o0k2J"
      },
      "outputs": [],
      "source": [
        "X_train_norm, y_train_norm, normalizers = minmax_scale(X_train, y_train)\n",
        "X_valid_norm, y_valid_norm, _ = minmax_scale(X_valid, y_valid, normalizers=normalizers)\n",
        "X_test_norm, y_test_norm, _ = minmax_scale(X_test, y_test, normalizers=normalizers)"
      ]
    },
    {
      "cell_type": "code",
      "source": [
        "X_train_norm"
      ],
      "metadata": {
        "colab": {
          "base_uri": "https://localhost:8080/",
          "height": 455
        },
        "id": "PIGn-TuQUivb",
        "outputId": "485876bc-84ef-483a-e8e9-fa9a8e76837e"
      },
      "execution_count": null,
      "outputs": [
        {
          "output_type": "execute_result",
          "data": {
            "text/plain": [
              "                     year  month  day  hour     pm2.5      DEWP      TEMP  \\\n",
              "date                                                                        \n",
              "2010-01-02 00:00:00   0.0      1    2     0  0.129779  0.278689  0.250000   \n",
              "2010-01-02 01:00:00   0.0      1    2     1  0.148893  0.295082  0.250000   \n",
              "2010-01-02 02:00:00   0.0      1    2     2  0.159960  0.360656  0.233333   \n",
              "2010-01-02 03:00:00   0.0      1    2     3  0.182093  0.426230  0.233333   \n",
              "2010-01-02 04:00:00   0.0      1    2     4  0.138833  0.426230  0.233333   \n",
              "...                   ...    ...  ...   ...       ...       ...       ...   \n",
              "2013-12-31 19:00:00   1.0     12   31    19  0.022133  0.229508  0.433333   \n",
              "2013-12-31 20:00:00   1.0     12   31    20  0.018109  0.196721  0.433333   \n",
              "2013-12-31 21:00:00   1.0     12   31    21  0.023139  0.196721  0.433333   \n",
              "2013-12-31 22:00:00   1.0     12   31    22  0.020121  0.196721  0.416667   \n",
              "2013-12-31 23:00:00   1.0     12   31    23  0.023139  0.213115  0.433333   \n",
              "\n",
              "                         PRES cbwd       Iws        Is   Ir  dayofweek  \n",
              "date                                                                    \n",
              "2010-01-02 00:00:00  0.527273   SE  0.002290  0.000000  0.0          6  \n",
              "2010-01-02 01:00:00  0.527273   SE  0.003811  0.000000  0.0          6  \n",
              "2010-01-02 02:00:00  0.545455   SE  0.005332  0.000000  0.0          6  \n",
              "2010-01-02 03:00:00  0.563636   SE  0.008391  0.037037  0.0          6  \n",
              "2010-01-02 04:00:00  0.563636   SE  0.009912  0.074074  0.0          6  \n",
              "...                       ...  ...       ...       ...  ...        ...  \n",
              "2013-12-31 19:00:00  0.400000   NW  0.195540  0.000000  0.0          2  \n",
              "2013-12-31 20:00:00  0.418182   NW  0.203948  0.000000  0.0          2  \n",
              "2013-12-31 21:00:00  0.418182   NW  0.213877  0.000000  0.0          2  \n",
              "2013-12-31 22:00:00  0.418182   NW  0.222285  0.000000  0.0          2  \n",
              "2013-12-31 23:00:00  0.418182   NW  0.234504  0.000000  0.0          2  \n",
              "\n",
              "[35040 rows x 13 columns]"
            ],
            "text/html": [
              "\n",
              "  <div id=\"df-f0564fcd-4506-453e-8804-98488afe8183\">\n",
              "    <div class=\"colab-df-container\">\n",
              "      <div>\n",
              "<style scoped>\n",
              "    .dataframe tbody tr th:only-of-type {\n",
              "        vertical-align: middle;\n",
              "    }\n",
              "\n",
              "    .dataframe tbody tr th {\n",
              "        vertical-align: top;\n",
              "    }\n",
              "\n",
              "    .dataframe thead th {\n",
              "        text-align: right;\n",
              "    }\n",
              "</style>\n",
              "<table border=\"1\" class=\"dataframe\">\n",
              "  <thead>\n",
              "    <tr style=\"text-align: right;\">\n",
              "      <th></th>\n",
              "      <th>year</th>\n",
              "      <th>month</th>\n",
              "      <th>day</th>\n",
              "      <th>hour</th>\n",
              "      <th>pm2.5</th>\n",
              "      <th>DEWP</th>\n",
              "      <th>TEMP</th>\n",
              "      <th>PRES</th>\n",
              "      <th>cbwd</th>\n",
              "      <th>Iws</th>\n",
              "      <th>Is</th>\n",
              "      <th>Ir</th>\n",
              "      <th>dayofweek</th>\n",
              "    </tr>\n",
              "    <tr>\n",
              "      <th>date</th>\n",
              "      <th></th>\n",
              "      <th></th>\n",
              "      <th></th>\n",
              "      <th></th>\n",
              "      <th></th>\n",
              "      <th></th>\n",
              "      <th></th>\n",
              "      <th></th>\n",
              "      <th></th>\n",
              "      <th></th>\n",
              "      <th></th>\n",
              "      <th></th>\n",
              "      <th></th>\n",
              "    </tr>\n",
              "  </thead>\n",
              "  <tbody>\n",
              "    <tr>\n",
              "      <th>2010-01-02 00:00:00</th>\n",
              "      <td>0.0</td>\n",
              "      <td>1</td>\n",
              "      <td>2</td>\n",
              "      <td>0</td>\n",
              "      <td>0.129779</td>\n",
              "      <td>0.278689</td>\n",
              "      <td>0.250000</td>\n",
              "      <td>0.527273</td>\n",
              "      <td>SE</td>\n",
              "      <td>0.002290</td>\n",
              "      <td>0.000000</td>\n",
              "      <td>0.0</td>\n",
              "      <td>6</td>\n",
              "    </tr>\n",
              "    <tr>\n",
              "      <th>2010-01-02 01:00:00</th>\n",
              "      <td>0.0</td>\n",
              "      <td>1</td>\n",
              "      <td>2</td>\n",
              "      <td>1</td>\n",
              "      <td>0.148893</td>\n",
              "      <td>0.295082</td>\n",
              "      <td>0.250000</td>\n",
              "      <td>0.527273</td>\n",
              "      <td>SE</td>\n",
              "      <td>0.003811</td>\n",
              "      <td>0.000000</td>\n",
              "      <td>0.0</td>\n",
              "      <td>6</td>\n",
              "    </tr>\n",
              "    <tr>\n",
              "      <th>2010-01-02 02:00:00</th>\n",
              "      <td>0.0</td>\n",
              "      <td>1</td>\n",
              "      <td>2</td>\n",
              "      <td>2</td>\n",
              "      <td>0.159960</td>\n",
              "      <td>0.360656</td>\n",
              "      <td>0.233333</td>\n",
              "      <td>0.545455</td>\n",
              "      <td>SE</td>\n",
              "      <td>0.005332</td>\n",
              "      <td>0.000000</td>\n",
              "      <td>0.0</td>\n",
              "      <td>6</td>\n",
              "    </tr>\n",
              "    <tr>\n",
              "      <th>2010-01-02 03:00:00</th>\n",
              "      <td>0.0</td>\n",
              "      <td>1</td>\n",
              "      <td>2</td>\n",
              "      <td>3</td>\n",
              "      <td>0.182093</td>\n",
              "      <td>0.426230</td>\n",
              "      <td>0.233333</td>\n",
              "      <td>0.563636</td>\n",
              "      <td>SE</td>\n",
              "      <td>0.008391</td>\n",
              "      <td>0.037037</td>\n",
              "      <td>0.0</td>\n",
              "      <td>6</td>\n",
              "    </tr>\n",
              "    <tr>\n",
              "      <th>2010-01-02 04:00:00</th>\n",
              "      <td>0.0</td>\n",
              "      <td>1</td>\n",
              "      <td>2</td>\n",
              "      <td>4</td>\n",
              "      <td>0.138833</td>\n",
              "      <td>0.426230</td>\n",
              "      <td>0.233333</td>\n",
              "      <td>0.563636</td>\n",
              "      <td>SE</td>\n",
              "      <td>0.009912</td>\n",
              "      <td>0.074074</td>\n",
              "      <td>0.0</td>\n",
              "      <td>6</td>\n",
              "    </tr>\n",
              "    <tr>\n",
              "      <th>...</th>\n",
              "      <td>...</td>\n",
              "      <td>...</td>\n",
              "      <td>...</td>\n",
              "      <td>...</td>\n",
              "      <td>...</td>\n",
              "      <td>...</td>\n",
              "      <td>...</td>\n",
              "      <td>...</td>\n",
              "      <td>...</td>\n",
              "      <td>...</td>\n",
              "      <td>...</td>\n",
              "      <td>...</td>\n",
              "      <td>...</td>\n",
              "    </tr>\n",
              "    <tr>\n",
              "      <th>2013-12-31 19:00:00</th>\n",
              "      <td>1.0</td>\n",
              "      <td>12</td>\n",
              "      <td>31</td>\n",
              "      <td>19</td>\n",
              "      <td>0.022133</td>\n",
              "      <td>0.229508</td>\n",
              "      <td>0.433333</td>\n",
              "      <td>0.400000</td>\n",
              "      <td>NW</td>\n",
              "      <td>0.195540</td>\n",
              "      <td>0.000000</td>\n",
              "      <td>0.0</td>\n",
              "      <td>2</td>\n",
              "    </tr>\n",
              "    <tr>\n",
              "      <th>2013-12-31 20:00:00</th>\n",
              "      <td>1.0</td>\n",
              "      <td>12</td>\n",
              "      <td>31</td>\n",
              "      <td>20</td>\n",
              "      <td>0.018109</td>\n",
              "      <td>0.196721</td>\n",
              "      <td>0.433333</td>\n",
              "      <td>0.418182</td>\n",
              "      <td>NW</td>\n",
              "      <td>0.203948</td>\n",
              "      <td>0.000000</td>\n",
              "      <td>0.0</td>\n",
              "      <td>2</td>\n",
              "    </tr>\n",
              "    <tr>\n",
              "      <th>2013-12-31 21:00:00</th>\n",
              "      <td>1.0</td>\n",
              "      <td>12</td>\n",
              "      <td>31</td>\n",
              "      <td>21</td>\n",
              "      <td>0.023139</td>\n",
              "      <td>0.196721</td>\n",
              "      <td>0.433333</td>\n",
              "      <td>0.418182</td>\n",
              "      <td>NW</td>\n",
              "      <td>0.213877</td>\n",
              "      <td>0.000000</td>\n",
              "      <td>0.0</td>\n",
              "      <td>2</td>\n",
              "    </tr>\n",
              "    <tr>\n",
              "      <th>2013-12-31 22:00:00</th>\n",
              "      <td>1.0</td>\n",
              "      <td>12</td>\n",
              "      <td>31</td>\n",
              "      <td>22</td>\n",
              "      <td>0.020121</td>\n",
              "      <td>0.196721</td>\n",
              "      <td>0.416667</td>\n",
              "      <td>0.418182</td>\n",
              "      <td>NW</td>\n",
              "      <td>0.222285</td>\n",
              "      <td>0.000000</td>\n",
              "      <td>0.0</td>\n",
              "      <td>2</td>\n",
              "    </tr>\n",
              "    <tr>\n",
              "      <th>2013-12-31 23:00:00</th>\n",
              "      <td>1.0</td>\n",
              "      <td>12</td>\n",
              "      <td>31</td>\n",
              "      <td>23</td>\n",
              "      <td>0.023139</td>\n",
              "      <td>0.213115</td>\n",
              "      <td>0.433333</td>\n",
              "      <td>0.418182</td>\n",
              "      <td>NW</td>\n",
              "      <td>0.234504</td>\n",
              "      <td>0.000000</td>\n",
              "      <td>0.0</td>\n",
              "      <td>2</td>\n",
              "    </tr>\n",
              "  </tbody>\n",
              "</table>\n",
              "<p>35040 rows × 13 columns</p>\n",
              "</div>\n",
              "      <button class=\"colab-df-convert\" onclick=\"convertToInteractive('df-f0564fcd-4506-453e-8804-98488afe8183')\"\n",
              "              title=\"Convert this dataframe to an interactive table.\"\n",
              "              style=\"display:none;\">\n",
              "        \n",
              "  <svg xmlns=\"http://www.w3.org/2000/svg\" height=\"24px\"viewBox=\"0 0 24 24\"\n",
              "       width=\"24px\">\n",
              "    <path d=\"M0 0h24v24H0V0z\" fill=\"none\"/>\n",
              "    <path d=\"M18.56 5.44l.94 2.06.94-2.06 2.06-.94-2.06-.94-.94-2.06-.94 2.06-2.06.94zm-11 1L8.5 8.5l.94-2.06 2.06-.94-2.06-.94L8.5 2.5l-.94 2.06-2.06.94zm10 10l.94 2.06.94-2.06 2.06-.94-2.06-.94-.94-2.06-.94 2.06-2.06.94z\"/><path d=\"M17.41 7.96l-1.37-1.37c-.4-.4-.92-.59-1.43-.59-.52 0-1.04.2-1.43.59L10.3 9.45l-7.72 7.72c-.78.78-.78 2.05 0 2.83L4 21.41c.39.39.9.59 1.41.59.51 0 1.02-.2 1.41-.59l7.78-7.78 2.81-2.81c.8-.78.8-2.07 0-2.86zM5.41 20L4 18.59l7.72-7.72 1.47 1.35L5.41 20z\"/>\n",
              "  </svg>\n",
              "      </button>\n",
              "      \n",
              "  <style>\n",
              "    .colab-df-container {\n",
              "      display:flex;\n",
              "      flex-wrap:wrap;\n",
              "      gap: 12px;\n",
              "    }\n",
              "\n",
              "    .colab-df-convert {\n",
              "      background-color: #E8F0FE;\n",
              "      border: none;\n",
              "      border-radius: 50%;\n",
              "      cursor: pointer;\n",
              "      display: none;\n",
              "      fill: #1967D2;\n",
              "      height: 32px;\n",
              "      padding: 0 0 0 0;\n",
              "      width: 32px;\n",
              "    }\n",
              "\n",
              "    .colab-df-convert:hover {\n",
              "      background-color: #E2EBFA;\n",
              "      box-shadow: 0px 1px 2px rgba(60, 64, 67, 0.3), 0px 1px 3px 1px rgba(60, 64, 67, 0.15);\n",
              "      fill: #174EA6;\n",
              "    }\n",
              "\n",
              "    [theme=dark] .colab-df-convert {\n",
              "      background-color: #3B4455;\n",
              "      fill: #D2E3FC;\n",
              "    }\n",
              "\n",
              "    [theme=dark] .colab-df-convert:hover {\n",
              "      background-color: #434B5C;\n",
              "      box-shadow: 0px 1px 3px 1px rgba(0, 0, 0, 0.15);\n",
              "      filter: drop-shadow(0px 1px 2px rgba(0, 0, 0, 0.3));\n",
              "      fill: #FFFFFF;\n",
              "    }\n",
              "  </style>\n",
              "\n",
              "      <script>\n",
              "        const buttonEl =\n",
              "          document.querySelector('#df-f0564fcd-4506-453e-8804-98488afe8183 button.colab-df-convert');\n",
              "        buttonEl.style.display =\n",
              "          google.colab.kernel.accessAllowed ? 'block' : 'none';\n",
              "\n",
              "        async function convertToInteractive(key) {\n",
              "          const element = document.querySelector('#df-f0564fcd-4506-453e-8804-98488afe8183');\n",
              "          const dataTable =\n",
              "            await google.colab.kernel.invokeFunction('convertToInteractive',\n",
              "                                                     [key], {});\n",
              "          if (!dataTable) return;\n",
              "\n",
              "          const docLinkHtml = 'Like what you see? Visit the ' +\n",
              "            '<a target=\"_blank\" href=https://colab.research.google.com/notebooks/data_table.ipynb>data table notebook</a>'\n",
              "            + ' to learn more about interactive tables.';\n",
              "          element.innerHTML = '';\n",
              "          dataTable['output_type'] = 'display_data';\n",
              "          await google.colab.output.renderOutput(dataTable, element);\n",
              "          const docLink = document.createElement('div');\n",
              "          docLink.innerHTML = docLinkHtml;\n",
              "          element.appendChild(docLink);\n",
              "        }\n",
              "      </script>\n",
              "    </div>\n",
              "  </div>\n",
              "  "
            ]
          },
          "metadata": {},
          "execution_count": 10
        }
      ]
    },
    {
      "cell_type": "markdown",
      "metadata": {
        "ExecuteTime": {
          "end_time": "2019-04-28T08:49:44.040034Z",
          "start_time": "2019-04-28T08:49:43.994879Z"
        },
        "id": "3fXm__ys0k2J"
      },
      "source": [
        "## Encoding of ordinals\n",
        "\n",
        "The encoding of `cbwd` is interesting, since it is an ordinal again, or better to say not even that, it has a nice circular topology, so we will use the same sin-cos solution.\n",
        "\n",
        "Problem is, that there is a valid \"zero\" value, marked \"cv\" in there. We are tempted to replace that with 0."
      ]
    },
    {
      "cell_type": "code",
      "execution_count": null,
      "metadata": {
        "ExecuteTime": {
          "end_time": "2019-05-02T06:10:48.017895Z",
          "start_time": "2019-05-02T06:10:48.006356Z"
        },
        "id": "6kaVMEXp0k2J"
      },
      "outputs": [],
      "source": [
        "def encode_cyclicals(df_x):\n",
        "    #\"month\",\"day\",\"hour\", \"cdbw\", \"dayofweek\"\n",
        "    \n",
        "    DIRECTIONS = {\"N\":1.0,\"NE\":2.0, \"E\":3.0, \"SE\":4.0, \"S\":5.0, \"SW\":6.0, \"W\":7.0, \"NW\":8.0, \"cv\":np.nan}\n",
        "\n",
        "    df_x['month_sin'] = np.sin(2*np.pi*df_x.month/12)\n",
        "    df_x['month_cos'] = np.cos(2*np.pi*df_x.month/12)\n",
        "    df_x.drop('month', axis=1, inplace=True)\n",
        "    \n",
        "    df_x['day_sin'] = np.sin(2*np.pi*df_x.day/31)\n",
        "    df_x['day_cos'] = np.cos(2*np.pi*df_x.day/31)\n",
        "    df_x.drop('day', axis=1, inplace=True)\n",
        "\n",
        "    df_x['dayofweek_sin'] = np.sin(2*np.pi*df_x.dayofweek/7)\n",
        "    df_x['dayofweek_cos'] = np.cos(2*np.pi*df_x.dayofweek/7)\n",
        "    df_x.drop('dayofweek', axis=1, inplace=True)\n",
        "    \n",
        "    df_x['hour_sin'] = np.sin(2*np.pi*df_x.hour/24)\n",
        "    df_x['hour_cos'] = np.cos(2*np.pi*df_x.hour/24)\n",
        "    df_x.drop('hour', axis=1, inplace=True)\n",
        "    \n",
        "    df_x.replace({'cbwd': DIRECTIONS}, inplace=True)\n",
        "    df_x['cbwd'] = df_x['cbwd'].astype(np.float64) \n",
        "\n",
        "    df_x['cbwd_sin'] = np.sin(2.0*np.pi*df_x.cbwd/8.0)\n",
        "    df_x['cbwd_sin'].replace(np.nan, 0.0, inplace=True) #Let's handle the case with no wind specially\n",
        "    df_x['cbwd_cos'] = np.cos(2.0*np.pi*df_x.cbwd/8.0)\n",
        "    df_x['cbwd_cos'].replace(np.nan, 0.0, inplace=True) #Let's handle the case with no wind specially\n",
        "    df_x.drop('cbwd', axis=1, inplace=True)\n",
        "   \n",
        "    return df_x"
      ]
    },
    {
      "cell_type": "code",
      "execution_count": null,
      "metadata": {
        "ExecuteTime": {
          "end_time": "2019-05-02T06:10:50.981689Z",
          "start_time": "2019-05-02T06:10:48.021082Z"
        },
        "id": "be3fx6vm0k2J"
      },
      "outputs": [],
      "source": [
        "X_train_norm = encode_cyclicals(X_train_norm)\n",
        "X_valid_norm = encode_cyclicals(X_valid_norm)\n",
        "X_test_norm = encode_cyclicals(X_test_norm)"
      ]
    },
    {
      "cell_type": "code",
      "execution_count": null,
      "metadata": {
        "ExecuteTime": {
          "end_time": "2019-05-02T06:10:51.059885Z",
          "start_time": "2019-05-02T06:10:50.985222Z"
        },
        "colab": {
          "base_uri": "https://localhost:8080/",
          "height": 866
        },
        "id": "w6UX1YUk0k2J",
        "outputId": "52650af9-b4c2-4ab1-ff7a-889698caa7c4"
      },
      "outputs": [
        {
          "output_type": "execute_result",
          "data": {
            "text/plain": [
              "                     year     pm2.5      DEWP      TEMP      PRES       Iws  \\\n",
              "date                                                                          \n",
              "2010-01-02 00:00:00   0.0  0.129779  0.278689  0.250000  0.527273  0.002290   \n",
              "2010-01-02 01:00:00   0.0  0.148893  0.295082  0.250000  0.527273  0.003811   \n",
              "2010-01-02 02:00:00   0.0  0.159960  0.360656  0.233333  0.545455  0.005332   \n",
              "2010-01-02 03:00:00   0.0  0.182093  0.426230  0.233333  0.563636  0.008391   \n",
              "2010-01-02 04:00:00   0.0  0.138833  0.426230  0.233333  0.563636  0.009912   \n",
              "...                   ...       ...       ...       ...       ...       ...   \n",
              "2013-12-31 19:00:00   1.0  0.022133  0.229508  0.433333  0.400000  0.195540   \n",
              "2013-12-31 20:00:00   1.0  0.018109  0.196721  0.433333  0.418182  0.203948   \n",
              "2013-12-31 21:00:00   1.0  0.023139  0.196721  0.433333  0.418182  0.213877   \n",
              "2013-12-31 22:00:00   1.0  0.020121  0.196721  0.416667  0.418182  0.222285   \n",
              "2013-12-31 23:00:00   1.0  0.023139  0.213115  0.433333  0.418182  0.234504   \n",
              "\n",
              "                           Is   Ir     month_sin  month_cos       day_sin  \\\n",
              "date                                                                        \n",
              "2010-01-02 00:00:00  0.000000  0.0  5.000000e-01   0.866025  3.943559e-01   \n",
              "2010-01-02 01:00:00  0.000000  0.0  5.000000e-01   0.866025  3.943559e-01   \n",
              "2010-01-02 02:00:00  0.000000  0.0  5.000000e-01   0.866025  3.943559e-01   \n",
              "2010-01-02 03:00:00  0.037037  0.0  5.000000e-01   0.866025  3.943559e-01   \n",
              "2010-01-02 04:00:00  0.074074  0.0  5.000000e-01   0.866025  3.943559e-01   \n",
              "...                       ...  ...           ...        ...           ...   \n",
              "2013-12-31 19:00:00  0.000000  0.0 -2.449294e-16   1.000000 -2.449294e-16   \n",
              "2013-12-31 20:00:00  0.000000  0.0 -2.449294e-16   1.000000 -2.449294e-16   \n",
              "2013-12-31 21:00:00  0.000000  0.0 -2.449294e-16   1.000000 -2.449294e-16   \n",
              "2013-12-31 22:00:00  0.000000  0.0 -2.449294e-16   1.000000 -2.449294e-16   \n",
              "2013-12-31 23:00:00  0.000000  0.0 -2.449294e-16   1.000000 -2.449294e-16   \n",
              "\n",
              "                      day_cos  dayofweek_sin  dayofweek_cos  hour_sin  \\\n",
              "date                                                                    \n",
              "2010-01-02 00:00:00  0.918958      -0.781831       0.623490  0.000000   \n",
              "2010-01-02 01:00:00  0.918958      -0.781831       0.623490  0.258819   \n",
              "2010-01-02 02:00:00  0.918958      -0.781831       0.623490  0.500000   \n",
              "2010-01-02 03:00:00  0.918958      -0.781831       0.623490  0.707107   \n",
              "2010-01-02 04:00:00  0.918958      -0.781831       0.623490  0.866025   \n",
              "...                       ...            ...            ...       ...   \n",
              "2013-12-31 19:00:00  1.000000       0.974928      -0.222521 -0.965926   \n",
              "2013-12-31 20:00:00  1.000000       0.974928      -0.222521 -0.866025   \n",
              "2013-12-31 21:00:00  1.000000       0.974928      -0.222521 -0.707107   \n",
              "2013-12-31 22:00:00  1.000000       0.974928      -0.222521 -0.500000   \n",
              "2013-12-31 23:00:00  1.000000       0.974928      -0.222521 -0.258819   \n",
              "\n",
              "                     hour_cos      cbwd_sin  cbwd_cos  \n",
              "date                                                   \n",
              "2010-01-02 00:00:00  1.000000  1.224647e-16      -1.0  \n",
              "2010-01-02 01:00:00  0.965926  1.224647e-16      -1.0  \n",
              "2010-01-02 02:00:00  0.866025  1.224647e-16      -1.0  \n",
              "2010-01-02 03:00:00  0.707107  1.224647e-16      -1.0  \n",
              "2010-01-02 04:00:00  0.500000  1.224647e-16      -1.0  \n",
              "...                       ...           ...       ...  \n",
              "2013-12-31 19:00:00  0.258819 -2.449294e-16       1.0  \n",
              "2013-12-31 20:00:00  0.500000 -2.449294e-16       1.0  \n",
              "2013-12-31 21:00:00  0.707107 -2.449294e-16       1.0  \n",
              "2013-12-31 22:00:00  0.866025 -2.449294e-16       1.0  \n",
              "2013-12-31 23:00:00  0.965926 -2.449294e-16       1.0  \n",
              "\n",
              "[35040 rows x 18 columns]"
            ],
            "text/html": [
              "\n",
              "  <div id=\"df-6a0269ea-2e3a-4e40-8e00-7389942b8ea8\">\n",
              "    <div class=\"colab-df-container\">\n",
              "      <div>\n",
              "<style scoped>\n",
              "    .dataframe tbody tr th:only-of-type {\n",
              "        vertical-align: middle;\n",
              "    }\n",
              "\n",
              "    .dataframe tbody tr th {\n",
              "        vertical-align: top;\n",
              "    }\n",
              "\n",
              "    .dataframe thead th {\n",
              "        text-align: right;\n",
              "    }\n",
              "</style>\n",
              "<table border=\"1\" class=\"dataframe\">\n",
              "  <thead>\n",
              "    <tr style=\"text-align: right;\">\n",
              "      <th></th>\n",
              "      <th>year</th>\n",
              "      <th>pm2.5</th>\n",
              "      <th>DEWP</th>\n",
              "      <th>TEMP</th>\n",
              "      <th>PRES</th>\n",
              "      <th>Iws</th>\n",
              "      <th>Is</th>\n",
              "      <th>Ir</th>\n",
              "      <th>month_sin</th>\n",
              "      <th>month_cos</th>\n",
              "      <th>day_sin</th>\n",
              "      <th>day_cos</th>\n",
              "      <th>dayofweek_sin</th>\n",
              "      <th>dayofweek_cos</th>\n",
              "      <th>hour_sin</th>\n",
              "      <th>hour_cos</th>\n",
              "      <th>cbwd_sin</th>\n",
              "      <th>cbwd_cos</th>\n",
              "    </tr>\n",
              "    <tr>\n",
              "      <th>date</th>\n",
              "      <th></th>\n",
              "      <th></th>\n",
              "      <th></th>\n",
              "      <th></th>\n",
              "      <th></th>\n",
              "      <th></th>\n",
              "      <th></th>\n",
              "      <th></th>\n",
              "      <th></th>\n",
              "      <th></th>\n",
              "      <th></th>\n",
              "      <th></th>\n",
              "      <th></th>\n",
              "      <th></th>\n",
              "      <th></th>\n",
              "      <th></th>\n",
              "      <th></th>\n",
              "      <th></th>\n",
              "    </tr>\n",
              "  </thead>\n",
              "  <tbody>\n",
              "    <tr>\n",
              "      <th>2010-01-02 00:00:00</th>\n",
              "      <td>0.0</td>\n",
              "      <td>0.129779</td>\n",
              "      <td>0.278689</td>\n",
              "      <td>0.250000</td>\n",
              "      <td>0.527273</td>\n",
              "      <td>0.002290</td>\n",
              "      <td>0.000000</td>\n",
              "      <td>0.0</td>\n",
              "      <td>5.000000e-01</td>\n",
              "      <td>0.866025</td>\n",
              "      <td>3.943559e-01</td>\n",
              "      <td>0.918958</td>\n",
              "      <td>-0.781831</td>\n",
              "      <td>0.623490</td>\n",
              "      <td>0.000000</td>\n",
              "      <td>1.000000</td>\n",
              "      <td>1.224647e-16</td>\n",
              "      <td>-1.0</td>\n",
              "    </tr>\n",
              "    <tr>\n",
              "      <th>2010-01-02 01:00:00</th>\n",
              "      <td>0.0</td>\n",
              "      <td>0.148893</td>\n",
              "      <td>0.295082</td>\n",
              "      <td>0.250000</td>\n",
              "      <td>0.527273</td>\n",
              "      <td>0.003811</td>\n",
              "      <td>0.000000</td>\n",
              "      <td>0.0</td>\n",
              "      <td>5.000000e-01</td>\n",
              "      <td>0.866025</td>\n",
              "      <td>3.943559e-01</td>\n",
              "      <td>0.918958</td>\n",
              "      <td>-0.781831</td>\n",
              "      <td>0.623490</td>\n",
              "      <td>0.258819</td>\n",
              "      <td>0.965926</td>\n",
              "      <td>1.224647e-16</td>\n",
              "      <td>-1.0</td>\n",
              "    </tr>\n",
              "    <tr>\n",
              "      <th>2010-01-02 02:00:00</th>\n",
              "      <td>0.0</td>\n",
              "      <td>0.159960</td>\n",
              "      <td>0.360656</td>\n",
              "      <td>0.233333</td>\n",
              "      <td>0.545455</td>\n",
              "      <td>0.005332</td>\n",
              "      <td>0.000000</td>\n",
              "      <td>0.0</td>\n",
              "      <td>5.000000e-01</td>\n",
              "      <td>0.866025</td>\n",
              "      <td>3.943559e-01</td>\n",
              "      <td>0.918958</td>\n",
              "      <td>-0.781831</td>\n",
              "      <td>0.623490</td>\n",
              "      <td>0.500000</td>\n",
              "      <td>0.866025</td>\n",
              "      <td>1.224647e-16</td>\n",
              "      <td>-1.0</td>\n",
              "    </tr>\n",
              "    <tr>\n",
              "      <th>2010-01-02 03:00:00</th>\n",
              "      <td>0.0</td>\n",
              "      <td>0.182093</td>\n",
              "      <td>0.426230</td>\n",
              "      <td>0.233333</td>\n",
              "      <td>0.563636</td>\n",
              "      <td>0.008391</td>\n",
              "      <td>0.037037</td>\n",
              "      <td>0.0</td>\n",
              "      <td>5.000000e-01</td>\n",
              "      <td>0.866025</td>\n",
              "      <td>3.943559e-01</td>\n",
              "      <td>0.918958</td>\n",
              "      <td>-0.781831</td>\n",
              "      <td>0.623490</td>\n",
              "      <td>0.707107</td>\n",
              "      <td>0.707107</td>\n",
              "      <td>1.224647e-16</td>\n",
              "      <td>-1.0</td>\n",
              "    </tr>\n",
              "    <tr>\n",
              "      <th>2010-01-02 04:00:00</th>\n",
              "      <td>0.0</td>\n",
              "      <td>0.138833</td>\n",
              "      <td>0.426230</td>\n",
              "      <td>0.233333</td>\n",
              "      <td>0.563636</td>\n",
              "      <td>0.009912</td>\n",
              "      <td>0.074074</td>\n",
              "      <td>0.0</td>\n",
              "      <td>5.000000e-01</td>\n",
              "      <td>0.866025</td>\n",
              "      <td>3.943559e-01</td>\n",
              "      <td>0.918958</td>\n",
              "      <td>-0.781831</td>\n",
              "      <td>0.623490</td>\n",
              "      <td>0.866025</td>\n",
              "      <td>0.500000</td>\n",
              "      <td>1.224647e-16</td>\n",
              "      <td>-1.0</td>\n",
              "    </tr>\n",
              "    <tr>\n",
              "      <th>...</th>\n",
              "      <td>...</td>\n",
              "      <td>...</td>\n",
              "      <td>...</td>\n",
              "      <td>...</td>\n",
              "      <td>...</td>\n",
              "      <td>...</td>\n",
              "      <td>...</td>\n",
              "      <td>...</td>\n",
              "      <td>...</td>\n",
              "      <td>...</td>\n",
              "      <td>...</td>\n",
              "      <td>...</td>\n",
              "      <td>...</td>\n",
              "      <td>...</td>\n",
              "      <td>...</td>\n",
              "      <td>...</td>\n",
              "      <td>...</td>\n",
              "      <td>...</td>\n",
              "    </tr>\n",
              "    <tr>\n",
              "      <th>2013-12-31 19:00:00</th>\n",
              "      <td>1.0</td>\n",
              "      <td>0.022133</td>\n",
              "      <td>0.229508</td>\n",
              "      <td>0.433333</td>\n",
              "      <td>0.400000</td>\n",
              "      <td>0.195540</td>\n",
              "      <td>0.000000</td>\n",
              "      <td>0.0</td>\n",
              "      <td>-2.449294e-16</td>\n",
              "      <td>1.000000</td>\n",
              "      <td>-2.449294e-16</td>\n",
              "      <td>1.000000</td>\n",
              "      <td>0.974928</td>\n",
              "      <td>-0.222521</td>\n",
              "      <td>-0.965926</td>\n",
              "      <td>0.258819</td>\n",
              "      <td>-2.449294e-16</td>\n",
              "      <td>1.0</td>\n",
              "    </tr>\n",
              "    <tr>\n",
              "      <th>2013-12-31 20:00:00</th>\n",
              "      <td>1.0</td>\n",
              "      <td>0.018109</td>\n",
              "      <td>0.196721</td>\n",
              "      <td>0.433333</td>\n",
              "      <td>0.418182</td>\n",
              "      <td>0.203948</td>\n",
              "      <td>0.000000</td>\n",
              "      <td>0.0</td>\n",
              "      <td>-2.449294e-16</td>\n",
              "      <td>1.000000</td>\n",
              "      <td>-2.449294e-16</td>\n",
              "      <td>1.000000</td>\n",
              "      <td>0.974928</td>\n",
              "      <td>-0.222521</td>\n",
              "      <td>-0.866025</td>\n",
              "      <td>0.500000</td>\n",
              "      <td>-2.449294e-16</td>\n",
              "      <td>1.0</td>\n",
              "    </tr>\n",
              "    <tr>\n",
              "      <th>2013-12-31 21:00:00</th>\n",
              "      <td>1.0</td>\n",
              "      <td>0.023139</td>\n",
              "      <td>0.196721</td>\n",
              "      <td>0.433333</td>\n",
              "      <td>0.418182</td>\n",
              "      <td>0.213877</td>\n",
              "      <td>0.000000</td>\n",
              "      <td>0.0</td>\n",
              "      <td>-2.449294e-16</td>\n",
              "      <td>1.000000</td>\n",
              "      <td>-2.449294e-16</td>\n",
              "      <td>1.000000</td>\n",
              "      <td>0.974928</td>\n",
              "      <td>-0.222521</td>\n",
              "      <td>-0.707107</td>\n",
              "      <td>0.707107</td>\n",
              "      <td>-2.449294e-16</td>\n",
              "      <td>1.0</td>\n",
              "    </tr>\n",
              "    <tr>\n",
              "      <th>2013-12-31 22:00:00</th>\n",
              "      <td>1.0</td>\n",
              "      <td>0.020121</td>\n",
              "      <td>0.196721</td>\n",
              "      <td>0.416667</td>\n",
              "      <td>0.418182</td>\n",
              "      <td>0.222285</td>\n",
              "      <td>0.000000</td>\n",
              "      <td>0.0</td>\n",
              "      <td>-2.449294e-16</td>\n",
              "      <td>1.000000</td>\n",
              "      <td>-2.449294e-16</td>\n",
              "      <td>1.000000</td>\n",
              "      <td>0.974928</td>\n",
              "      <td>-0.222521</td>\n",
              "      <td>-0.500000</td>\n",
              "      <td>0.866025</td>\n",
              "      <td>-2.449294e-16</td>\n",
              "      <td>1.0</td>\n",
              "    </tr>\n",
              "    <tr>\n",
              "      <th>2013-12-31 23:00:00</th>\n",
              "      <td>1.0</td>\n",
              "      <td>0.023139</td>\n",
              "      <td>0.213115</td>\n",
              "      <td>0.433333</td>\n",
              "      <td>0.418182</td>\n",
              "      <td>0.234504</td>\n",
              "      <td>0.000000</td>\n",
              "      <td>0.0</td>\n",
              "      <td>-2.449294e-16</td>\n",
              "      <td>1.000000</td>\n",
              "      <td>-2.449294e-16</td>\n",
              "      <td>1.000000</td>\n",
              "      <td>0.974928</td>\n",
              "      <td>-0.222521</td>\n",
              "      <td>-0.258819</td>\n",
              "      <td>0.965926</td>\n",
              "      <td>-2.449294e-16</td>\n",
              "      <td>1.0</td>\n",
              "    </tr>\n",
              "  </tbody>\n",
              "</table>\n",
              "<p>35040 rows × 18 columns</p>\n",
              "</div>\n",
              "      <button class=\"colab-df-convert\" onclick=\"convertToInteractive('df-6a0269ea-2e3a-4e40-8e00-7389942b8ea8')\"\n",
              "              title=\"Convert this dataframe to an interactive table.\"\n",
              "              style=\"display:none;\">\n",
              "        \n",
              "  <svg xmlns=\"http://www.w3.org/2000/svg\" height=\"24px\"viewBox=\"0 0 24 24\"\n",
              "       width=\"24px\">\n",
              "    <path d=\"M0 0h24v24H0V0z\" fill=\"none\"/>\n",
              "    <path d=\"M18.56 5.44l.94 2.06.94-2.06 2.06-.94-2.06-.94-.94-2.06-.94 2.06-2.06.94zm-11 1L8.5 8.5l.94-2.06 2.06-.94-2.06-.94L8.5 2.5l-.94 2.06-2.06.94zm10 10l.94 2.06.94-2.06 2.06-.94-2.06-.94-.94-2.06-.94 2.06-2.06.94z\"/><path d=\"M17.41 7.96l-1.37-1.37c-.4-.4-.92-.59-1.43-.59-.52 0-1.04.2-1.43.59L10.3 9.45l-7.72 7.72c-.78.78-.78 2.05 0 2.83L4 21.41c.39.39.9.59 1.41.59.51 0 1.02-.2 1.41-.59l7.78-7.78 2.81-2.81c.8-.78.8-2.07 0-2.86zM5.41 20L4 18.59l7.72-7.72 1.47 1.35L5.41 20z\"/>\n",
              "  </svg>\n",
              "      </button>\n",
              "      \n",
              "  <style>\n",
              "    .colab-df-container {\n",
              "      display:flex;\n",
              "      flex-wrap:wrap;\n",
              "      gap: 12px;\n",
              "    }\n",
              "\n",
              "    .colab-df-convert {\n",
              "      background-color: #E8F0FE;\n",
              "      border: none;\n",
              "      border-radius: 50%;\n",
              "      cursor: pointer;\n",
              "      display: none;\n",
              "      fill: #1967D2;\n",
              "      height: 32px;\n",
              "      padding: 0 0 0 0;\n",
              "      width: 32px;\n",
              "    }\n",
              "\n",
              "    .colab-df-convert:hover {\n",
              "      background-color: #E2EBFA;\n",
              "      box-shadow: 0px 1px 2px rgba(60, 64, 67, 0.3), 0px 1px 3px 1px rgba(60, 64, 67, 0.15);\n",
              "      fill: #174EA6;\n",
              "    }\n",
              "\n",
              "    [theme=dark] .colab-df-convert {\n",
              "      background-color: #3B4455;\n",
              "      fill: #D2E3FC;\n",
              "    }\n",
              "\n",
              "    [theme=dark] .colab-df-convert:hover {\n",
              "      background-color: #434B5C;\n",
              "      box-shadow: 0px 1px 3px 1px rgba(0, 0, 0, 0.15);\n",
              "      filter: drop-shadow(0px 1px 2px rgba(0, 0, 0, 0.3));\n",
              "      fill: #FFFFFF;\n",
              "    }\n",
              "  </style>\n",
              "\n",
              "      <script>\n",
              "        const buttonEl =\n",
              "          document.querySelector('#df-6a0269ea-2e3a-4e40-8e00-7389942b8ea8 button.colab-df-convert');\n",
              "        buttonEl.style.display =\n",
              "          google.colab.kernel.accessAllowed ? 'block' : 'none';\n",
              "\n",
              "        async function convertToInteractive(key) {\n",
              "          const element = document.querySelector('#df-6a0269ea-2e3a-4e40-8e00-7389942b8ea8');\n",
              "          const dataTable =\n",
              "            await google.colab.kernel.invokeFunction('convertToInteractive',\n",
              "                                                     [key], {});\n",
              "          if (!dataTable) return;\n",
              "\n",
              "          const docLinkHtml = 'Like what you see? Visit the ' +\n",
              "            '<a target=\"_blank\" href=https://colab.research.google.com/notebooks/data_table.ipynb>data table notebook</a>'\n",
              "            + ' to learn more about interactive tables.';\n",
              "          element.innerHTML = '';\n",
              "          dataTable['output_type'] = 'display_data';\n",
              "          await google.colab.output.renderOutput(dataTable, element);\n",
              "          const docLink = document.createElement('div');\n",
              "          docLink.innerHTML = docLinkHtml;\n",
              "          element.appendChild(docLink);\n",
              "        }\n",
              "      </script>\n",
              "    </div>\n",
              "  </div>\n",
              "  "
            ]
          },
          "metadata": {},
          "execution_count": 13
        }
      ],
      "source": [
        "X_train_norm"
      ]
    },
    {
      "cell_type": "code",
      "execution_count": null,
      "metadata": {
        "ExecuteTime": {
          "end_time": "2019-05-02T06:10:51.064770Z",
          "start_time": "2019-05-02T06:10:51.061767Z"
        },
        "id": "JjnOK82S0k2J"
      },
      "outputs": [],
      "source": [
        "#Just in case to ensure we did everything right\n",
        "assert all(x==np.float64 for x in list(X_train_norm.dtypes))"
      ]
    },
    {
      "cell_type": "markdown",
      "metadata": {
        "id": "Qa0HO1g80k2J"
      },
      "source": [
        "It would be worth checking with some assertions that the manual normalizers work well. Let's leave it to later work."
      ]
    },
    {
      "cell_type": "markdown",
      "metadata": {
        "id": "hyfmk-Af0k2J"
      },
      "source": [
        "It is also worth noting, that the normalizers should be saved and used in production."
      ]
    },
    {
      "cell_type": "markdown",
      "metadata": {
        "id": "WLPjtop10k2K"
      },
      "source": [
        "# Creating target (y) and \"windows\" (X) for modeling\n",
        "\n",
        "By default we use the next 24 hour value of \"pm2.5\" for prediction, that is, I would like to predict what the pm2.5 will be like **at this hour 24 hours from now.**\n",
        "\n",
        "We use the quite handy **seglearn** package for this."
      ]
    },
    {
      "cell_type": "markdown",
      "metadata": {
        "id": "QUjp0V_K0k2K"
      },
      "source": [
        "Because of computational reasons, we **use the window of 100 hours** to predict. Classical models would have hard time to accommodate substantially (like 5-10x) context windows, LSTM-s would suffer from the challenge of long term memory. After a basic run of modeling the next big challenge would be to investigate PACF structure more and use eg. stateful LSTM modeling to try to accommodate the large \"lookback\".   "
      ]
    },
    {
      "cell_type": "code",
      "execution_count": null,
      "metadata": {
        "ExecuteTime": {
          "end_time": "2019-05-02T06:10:51.072470Z",
          "start_time": "2019-05-02T06:10:51.066835Z"
        },
        "id": "fYIi1Cgm0k2K"
      },
      "outputs": [],
      "source": [
        "TIME_WINDOW=100\n",
        "FORECAST_DISTANCE=24"
      ]
    },
    {
      "cell_type": "code",
      "execution_count": null,
      "metadata": {
        "ExecuteTime": {
          "end_time": "2019-05-02T06:10:53.223440Z",
          "start_time": "2019-05-02T06:10:51.074357Z"
        },
        "id": "lV13idUm0k2K"
      },
      "outputs": [],
      "source": [
        "from seglearn.transform import FeatureRep, SegmentXYForecast, last\n",
        "\n",
        "segmenter = SegmentXYForecast(width=TIME_WINDOW, step=1, y_func=last, forecast=FORECAST_DISTANCE)\n",
        "\n",
        "X_train_rolled, y_train_rolled,_=segmenter.fit_transform([X_train_norm.values],[y_train_norm.flatten()])"
      ]
    },
    {
      "cell_type": "code",
      "execution_count": null,
      "metadata": {
        "ExecuteTime": {
          "end_time": "2019-05-02T06:10:53.230978Z",
          "start_time": "2019-05-02T06:10:53.225334Z"
        },
        "colab": {
          "base_uri": "https://localhost:8080/"
        },
        "id": "8vKegwFC0k2K",
        "outputId": "8734e3a1-841b-4c1e-e816-41f36c1dcabb"
      },
      "outputs": [
        {
          "output_type": "execute_result",
          "data": {
            "text/plain": [
              "array([[[ 0.00000000e+00,  1.29778672e-01,  2.78688525e-01, ...,\n",
              "          1.00000000e+00,  1.22464680e-16, -1.00000000e+00],\n",
              "        [ 0.00000000e+00,  1.48893360e-01,  2.95081967e-01, ...,\n",
              "          9.65925826e-01,  1.22464680e-16, -1.00000000e+00],\n",
              "        [ 0.00000000e+00,  1.59959759e-01,  3.60655738e-01, ...,\n",
              "          8.66025404e-01,  1.22464680e-16, -1.00000000e+00],\n",
              "        ...,\n",
              "        [ 0.00000000e+00,  7.74647887e-02,  1.31147541e-01, ...,\n",
              "          9.65925826e-01,  1.00000000e+00,  6.12323400e-17],\n",
              "        [ 0.00000000e+00,  5.03018109e-02,  1.14754098e-01, ...,\n",
              "          8.66025404e-01,  1.00000000e+00,  6.12323400e-17],\n",
              "        [ 0.00000000e+00,  4.42655936e-02,  1.14754098e-01, ...,\n",
              "          7.07106781e-01,  1.00000000e+00,  6.12323400e-17]]])"
            ]
          },
          "metadata": {},
          "execution_count": 17
        }
      ],
      "source": [
        "X_train_rolled[:1]"
      ]
    },
    {
      "cell_type": "markdown",
      "metadata": {
        "id": "PANcV9JW0k2K"
      },
      "source": [
        "# Classical modeling"
      ]
    },
    {
      "cell_type": "markdown",
      "metadata": {
        "id": "zm5T-BbC0k2K"
      },
      "source": [
        "## Baseline - DummyPredictor"
      ]
    },
    {
      "cell_type": "code",
      "execution_count": null,
      "metadata": {
        "ExecuteTime": {
          "end_time": "2019-05-02T06:10:53.242343Z",
          "start_time": "2019-05-02T06:10:53.233484Z"
        },
        "colab": {
          "base_uri": "https://localhost:8080/"
        },
        "id": "YzXWj1l30k2K",
        "outputId": "96df1ff3-bdf2-419e-d1df-3dbac0dbcc58"
      },
      "outputs": [
        {
          "output_type": "execute_result",
          "data": {
            "text/plain": [
              "(34917, 100, 18)"
            ]
          },
          "metadata": {},
          "execution_count": 19
        }
      ],
      "source": [
        "X_train_rolled.shape"
      ]
    },
    {
      "cell_type": "code",
      "execution_count": null,
      "metadata": {
        "ExecuteTime": {
          "end_time": "2019-05-02T06:10:53.251960Z",
          "start_time": "2019-05-02T06:10:53.245289Z"
        },
        "colab": {
          "base_uri": "https://localhost:8080/"
        },
        "id": "uSq092V30k2L",
        "outputId": "7a0b2d67-1ca8-459a-fc17-72c251c64cf6"
      },
      "outputs": [
        {
          "output_type": "execute_result",
          "data": {
            "text/plain": [
              "(34917, 1800)"
            ]
          },
          "metadata": {},
          "execution_count": 20
        }
      ],
      "source": [
        "shape = X_train_rolled.shape\n",
        "X_train_flattened = X_train_rolled.reshape(shape[0],shape[1]*shape[2])\n",
        "X_train_flattened.shape"
      ]
    },
    {
      "cell_type": "code",
      "execution_count": null,
      "metadata": {
        "ExecuteTime": {
          "end_time": "2019-05-02T06:10:53.266310Z",
          "start_time": "2019-05-02T06:10:53.255422Z"
        },
        "colab": {
          "base_uri": "https://localhost:8080/"
        },
        "id": "CjQ_fGUW0k2L",
        "outputId": "2a3ccb99-e1a9-4a14-f9c6-9d7d577f80d9"
      },
      "outputs": [
        {
          "output_type": "execute_result",
          "data": {
            "text/plain": [
              "DummyRegressor()"
            ]
          },
          "metadata": {},
          "execution_count": 21
        }
      ],
      "source": [
        "from sklearn.dummy import DummyRegressor\n",
        "\n",
        "dummy_model = DummyRegressor()\n",
        "\n",
        "dummy_model.fit(X_train_flattened, y_train_rolled)"
      ]
    },
    {
      "cell_type": "markdown",
      "metadata": {
        "id": "5Pj-ncar0k2L"
      },
      "source": [
        "### Evaluation"
      ]
    },
    {
      "cell_type": "code",
      "execution_count": null,
      "metadata": {
        "ExecuteTime": {
          "end_time": "2019-05-02T06:10:53.565113Z",
          "start_time": "2019-05-02T06:10:53.269005Z"
        },
        "id": "10X1TGX10k2L"
      },
      "outputs": [],
      "source": [
        "X_valid_rolled, y_valid_rolled,_=segmenter.fit_transform([X_valid_norm.values],[y_valid_norm.flatten()])\n",
        "\n",
        "shape = X_valid_rolled.shape\n",
        "X_valid_flattened = X_valid_rolled.reshape(shape[0],shape[1]*shape[2])\n",
        "\n",
        "dummy_model_predictions = dummy_model.predict(X_valid_flattened)"
      ]
    },
    {
      "cell_type": "code",
      "execution_count": null,
      "metadata": {
        "ExecuteTime": {
          "end_time": "2019-05-02T06:11:12.075315Z",
          "start_time": "2019-05-02T06:11:12.070621Z"
        },
        "colab": {
          "base_uri": "https://localhost:8080/"
        },
        "id": "jkXmT-OB0k2L",
        "outputId": "0e072883-97de-40a8-81a2-de4727c204d0"
      },
      "outputs": [
        {
          "output_type": "stream",
          "name": "stdout",
          "text": [
            "Root mean squared error on valid: 0.0986950073704243\n",
            "Root mean squared error on valid inverse transformed from normalization: [[98.10283733]]\n"
          ]
        }
      ],
      "source": [
        "from sklearn.metrics import mean_squared_error\n",
        "from math import sqrt\n",
        "\n",
        "rms_base = sqrt(mean_squared_error(y_valid_rolled, dummy_model_predictions))\n",
        "\n",
        "print(\"Root mean squared error on valid:\",rms_base)\n",
        "print(\"Root mean squared error on valid inverse transformed from normalization:\",normalizers[\"pm2.5\"].inverse_transform(np.array([rms_base]).reshape(1, -1)))"
      ]
    },
    {
      "cell_type": "markdown",
      "metadata": {
        "id": "cpi_4Lld0k2L"
      },
      "source": [
        "## Fitting a RandomForest on raw data"
      ]
    },
    {
      "cell_type": "code",
      "execution_count": null,
      "metadata": {
        "ExecuteTime": {
          "end_time": "2019-05-01T10:11:07.813341Z",
          "start_time": "2019-05-01T10:11:07.788679Z"
        },
        "id": "w8lzzlLp0k2L"
      },
      "outputs": [],
      "source": [
        "from sklearn.ensemble import RandomForestRegressor\n",
        "\n",
        "N_ESTIMATORS = 30\n",
        "RANDOM_STATE = 452543634"
      ]
    },
    {
      "cell_type": "code",
      "execution_count": null,
      "metadata": {
        "ExecuteTime": {
          "end_time": "2019-05-01T10:16:14.567716Z",
          "start_time": "2019-05-01T10:11:07.815443Z"
        },
        "colab": {
          "base_uri": "https://localhost:8080/"
        },
        "id": "703a3aLE0k2L",
        "outputId": "727ca7a2-6aa9-4284-f00c-b2fb05a65f86"
      },
      "outputs": [
        {
          "output_type": "stream",
          "name": "stdout",
          "text": [
            "[Parallel(n_jobs=-1)]: Using backend ThreadingBackend with 2 concurrent workers.\n",
            "building tree 1 of 30\n",
            "building tree 2 of 30\n",
            "building tree 3 of 30[Parallel(n_jobs=-1)]: Done   1 tasks      | elapsed:   33.7s\n",
            "\n",
            "building tree 4 of 30[Parallel(n_jobs=-1)]: Done   2 tasks      | elapsed:   34.7s\n",
            "\n",
            "building tree 5 of 30[Parallel(n_jobs=-1)]: Done   3 tasks      | elapsed:  1.1min\n",
            "\n",
            "building tree 6 of 30[Parallel(n_jobs=-1)]: Done   4 tasks      | elapsed:  1.1min\n",
            "\n",
            "building tree 7 of 30[Parallel(n_jobs=-1)]: Done   5 tasks      | elapsed:  1.7min\n",
            "\n",
            "building tree 8 of 30[Parallel(n_jobs=-1)]: Done   6 tasks      | elapsed:  1.7min\n",
            "\n",
            "building tree 9 of 30[Parallel(n_jobs=-1)]: Done   7 tasks      | elapsed:  2.2min\n",
            "\n",
            "building tree 10 of 30[Parallel(n_jobs=-1)]: Done   8 tasks      | elapsed:  2.2min\n",
            "\n",
            "building tree 11 of 30[Parallel(n_jobs=-1)]: Done   9 tasks      | elapsed:  2.8min\n",
            "\n",
            "building tree 12 of 30[Parallel(n_jobs=-1)]: Done  10 tasks      | elapsed:  2.8min\n",
            "\n",
            "building tree 13 of 30[Parallel(n_jobs=-1)]: Done  11 tasks      | elapsed:  3.3min\n",
            "\n",
            "building tree 14 of 30[Parallel(n_jobs=-1)]: Done  12 tasks      | elapsed:  3.4min\n",
            "\n",
            "building tree 15 of 30[Parallel(n_jobs=-1)]: Done  13 tasks      | elapsed:  3.9min\n",
            "\n",
            "building tree 16 of 30[Parallel(n_jobs=-1)]: Done  14 tasks      | elapsed:  3.9min\n",
            "\n",
            "building tree 17 of 30[Parallel(n_jobs=-1)]: Done  15 tasks      | elapsed:  4.4min\n",
            "\n",
            "building tree 18 of 30[Parallel(n_jobs=-1)]: Done  16 tasks      | elapsed:  4.5min\n",
            "\n",
            "building tree 19 of 30[Parallel(n_jobs=-1)]: Done  17 tasks      | elapsed:  5.0min\n",
            "\n",
            "building tree 20 of 30[Parallel(n_jobs=-1)]: Done  18 tasks      | elapsed:  5.0min\n",
            "\n",
            "building tree 21 of 30[Parallel(n_jobs=-1)]: Done  19 tasks      | elapsed:  5.5min\n",
            "\n",
            "building tree 22 of 30[Parallel(n_jobs=-1)]: Done  20 tasks      | elapsed:  5.6min\n",
            "\n",
            "building tree 23 of 30[Parallel(n_jobs=-1)]: Done  21 tasks      | elapsed:  6.1min\n",
            "\n",
            "building tree 24 of 30[Parallel(n_jobs=-1)]: Done  22 tasks      | elapsed:  6.1min\n",
            "\n",
            "building tree 25 of 30[Parallel(n_jobs=-1)]: Done  23 tasks      | elapsed:  6.6min\n",
            "\n",
            "building tree 26 of 30[Parallel(n_jobs=-1)]: Done  24 tasks      | elapsed:  6.7min\n",
            "\n",
            "building tree 27 of 30[Parallel(n_jobs=-1)]: Done  25 tasks      | elapsed:  7.2min\n",
            "\n",
            "building tree 28 of 30[Parallel(n_jobs=-1)]: Done  26 tasks      | elapsed:  7.3min\n",
            "\n",
            "building tree 29 of 30[Parallel(n_jobs=-1)]: Done  27 tasks      | elapsed:  7.8min\n",
            "\n",
            "building tree 30 of 30[Parallel(n_jobs=-1)]: Done  28 out of  30 | elapsed:  7.9min remaining:   33.6s\n",
            "\n",
            "[Parallel(n_jobs=-1)]: Done  30 out of  30 | elapsed:  8.4min remaining:    0.0s\n",
            "[Parallel(n_jobs=-1)]: Done  30 out of  30 | elapsed:  8.4min finished\n"
          ]
        },
        {
          "output_type": "execute_result",
          "data": {
            "text/plain": [
              "RandomForestRegressor(n_estimators=30, n_jobs=-1, random_state=452543634,\n",
              "                      verbose=100)"
            ]
          },
          "metadata": {},
          "execution_count": 65
        }
      ],
      "source": [
        "RF_base_model = RandomForestRegressor(random_state=RANDOM_STATE, n_estimators=N_ESTIMATORS, n_jobs=-1, verbose=100)\n",
        "\n",
        "RF_base_model.fit(X_train_flattened,y_train_rolled)"
      ]
    },
    {
      "cell_type": "markdown",
      "metadata": {
        "id": "BIa0C9ge0k2L"
      },
      "source": [
        "### Evaluation\n",
        "\n",
        "WARNING: This is just a basic evaluation scheme, more thorough investigation needed!"
      ]
    },
    {
      "cell_type": "code",
      "execution_count": null,
      "metadata": {
        "ExecuteTime": {
          "end_time": "2019-05-01T10:16:14.705936Z",
          "start_time": "2019-05-01T10:16:14.570432Z"
        },
        "colab": {
          "base_uri": "https://localhost:8080/"
        },
        "id": "tVNhO7-n0k2M",
        "outputId": "61d32d82-40ca-4f6c-debd-4b34b7523283"
      },
      "outputs": [
        {
          "output_type": "stream",
          "name": "stdout",
          "text": [
            "[Parallel(n_jobs=2)]: Using backend ThreadingBackend with 2 concurrent workers.\n",
            "[Parallel(n_jobs=2)]: Done   1 tasks      | elapsed:    0.0s\n",
            "[Parallel(n_jobs=2)]: Done   2 tasks      | elapsed:    0.0s\n",
            "[Parallel(n_jobs=2)]: Done   3 tasks      | elapsed:    0.0s\n",
            "[Parallel(n_jobs=2)]: Done   4 tasks      | elapsed:    0.0s\n",
            "[Parallel(n_jobs=2)]: Done   5 tasks      | elapsed:    0.0s\n",
            "[Parallel(n_jobs=2)]: Done   6 tasks      | elapsed:    0.0s\n",
            "[Parallel(n_jobs=2)]: Done   7 tasks      | elapsed:    0.0s\n",
            "[Parallel(n_jobs=2)]: Done   8 tasks      | elapsed:    0.0s\n",
            "[Parallel(n_jobs=2)]: Done   9 tasks      | elapsed:    0.0s\n",
            "[Parallel(n_jobs=2)]: Done  10 tasks      | elapsed:    0.0s\n",
            "[Parallel(n_jobs=2)]: Done  11 tasks      | elapsed:    0.0s\n",
            "[Parallel(n_jobs=2)]: Done  12 tasks      | elapsed:    0.0s\n",
            "[Parallel(n_jobs=2)]: Done  13 tasks      | elapsed:    0.0s\n",
            "[Parallel(n_jobs=2)]: Done  14 tasks      | elapsed:    0.0s\n",
            "[Parallel(n_jobs=2)]: Done  15 tasks      | elapsed:    0.0s\n",
            "[Parallel(n_jobs=2)]: Done  16 tasks      | elapsed:    0.0s\n",
            "[Parallel(n_jobs=2)]: Done  17 tasks      | elapsed:    0.0s\n",
            "[Parallel(n_jobs=2)]: Done  18 tasks      | elapsed:    0.0s\n",
            "[Parallel(n_jobs=2)]: Done  19 tasks      | elapsed:    0.0s\n",
            "[Parallel(n_jobs=2)]: Done  20 tasks      | elapsed:    0.0s\n",
            "[Parallel(n_jobs=2)]: Done  21 tasks      | elapsed:    0.0s\n",
            "[Parallel(n_jobs=2)]: Done  22 tasks      | elapsed:    0.0s\n",
            "[Parallel(n_jobs=2)]: Done  23 tasks      | elapsed:    0.0s\n",
            "[Parallel(n_jobs=2)]: Done  24 tasks      | elapsed:    0.0s\n",
            "[Parallel(n_jobs=2)]: Done  25 tasks      | elapsed:    0.0s\n",
            "[Parallel(n_jobs=2)]: Done  26 tasks      | elapsed:    0.0s\n",
            "[Parallel(n_jobs=2)]: Done  27 tasks      | elapsed:    0.0s\n",
            "[Parallel(n_jobs=2)]: Done  28 out of  30 | elapsed:    0.0s remaining:    0.0s\n",
            "[Parallel(n_jobs=2)]: Done  30 out of  30 | elapsed:    0.0s remaining:    0.0s\n",
            "[Parallel(n_jobs=2)]: Done  30 out of  30 | elapsed:    0.0s finished\n"
          ]
        }
      ],
      "source": [
        "RF_base_model_predictions = RF_base_model.predict(X_valid_flattened)"
      ]
    },
    {
      "cell_type": "code",
      "execution_count": null,
      "metadata": {
        "ExecuteTime": {
          "end_time": "2019-05-01T10:16:14.713719Z",
          "start_time": "2019-05-01T10:16:14.708266Z"
        },
        "colab": {
          "base_uri": "https://localhost:8080/"
        },
        "id": "4XiYaP0H0k2M",
        "outputId": "ce655420-41c4-44c0-c73b-63af00332d2c"
      },
      "outputs": [
        {
          "output_type": "stream",
          "name": "stdout",
          "text": [
            "Root mean squared error on valid: 0.08835802709609038\n",
            "Root mean squared error on valid inverse transformed from normalization: [[0.08835803]]\n"
          ]
        }
      ],
      "source": [
        "rms_base = sqrt(mean_squared_error(y_valid_rolled, RF_base_model_predictions))\n",
        "\n",
        "print(\"Root mean squared error on valid:\",rms_base)\n",
        "print(\"Root mean squared error on valid inverse transformed from normalization:\",normalizers[\"pm2.5\"].inverse_transform(np.array([rms_base]).reshape(1, -1)))"
      ]
    },
    {
      "cell_type": "markdown",
      "metadata": {
        "id": "Y8HydOcT0k2M"
      },
      "source": [
        "## Fitting a RandomForest on feature transformed data"
      ]
    },
    {
      "cell_type": "code",
      "execution_count": null,
      "metadata": {
        "ExecuteTime": {
          "end_time": "2019-05-01T10:17:07.588970Z",
          "start_time": "2019-05-01T10:16:14.716636Z"
        },
        "colab": {
          "base_uri": "https://localhost:8080/"
        },
        "id": "9xdsOOL_0k2M",
        "outputId": "8dc8b07f-d83f-462c-d693-6adbfcd619f6"
      },
      "outputs": [
        {
          "output_type": "stream",
          "name": "stdout",
          "text": [
            "[Parallel(n_jobs=-1)]: Using backend ThreadingBackend with 2 concurrent workers.\n",
            "building tree 1 of 30\n",
            "building tree 2 of 30\n",
            "building tree 3 of 30[Parallel(n_jobs=-1)]: Done   1 tasks      | elapsed:    4.5s\n",
            "\n",
            "building tree 4 of 30[Parallel(n_jobs=-1)]: Done   2 tasks      | elapsed:    4.8s\n",
            "\n",
            "building tree 5 of 30[Parallel(n_jobs=-1)]: Done   3 tasks      | elapsed:    9.0s\n",
            "\n",
            "building tree 6 of 30[Parallel(n_jobs=-1)]: Done   4 tasks      | elapsed:    9.1s\n",
            "\n",
            "building tree 7 of 30[Parallel(n_jobs=-1)]: Done   5 tasks      | elapsed:   13.3s\n",
            "\n",
            "building tree 8 of 30[Parallel(n_jobs=-1)]: Done   6 tasks      | elapsed:   13.4s\n",
            "\n",
            "building tree 9 of 30[Parallel(n_jobs=-1)]: Done   7 tasks      | elapsed:   17.9s\n",
            "\n",
            "building tree 10 of 30[Parallel(n_jobs=-1)]: Done   8 tasks      | elapsed:   18.1s\n",
            "\n",
            "building tree 11 of 30[Parallel(n_jobs=-1)]: Done   9 tasks      | elapsed:   22.4s\n",
            "\n",
            "building tree 12 of 30[Parallel(n_jobs=-1)]: Done  10 tasks      | elapsed:   22.5s\n",
            "\n",
            "building tree 13 of 30[Parallel(n_jobs=-1)]: Done  11 tasks      | elapsed:   26.8s\n",
            "\n",
            "building tree 14 of 30[Parallel(n_jobs=-1)]: Done  12 tasks      | elapsed:   27.3s\n",
            "\n",
            "building tree 15 of 30[Parallel(n_jobs=-1)]: Done  13 tasks      | elapsed:   31.4s\n",
            "\n",
            "building tree 16 of 30[Parallel(n_jobs=-1)]: Done  14 tasks      | elapsed:   31.8s\n",
            "\n",
            "building tree 17 of 30[Parallel(n_jobs=-1)]: Done  15 tasks      | elapsed:   35.8s\n",
            "\n",
            "building tree 18 of 30[Parallel(n_jobs=-1)]: Done  16 tasks      | elapsed:   36.5s\n",
            "\n",
            "building tree 19 of 30[Parallel(n_jobs=-1)]: Done  17 tasks      | elapsed:   40.1s\n",
            "\n",
            "building tree 20 of 30[Parallel(n_jobs=-1)]: Done  18 tasks      | elapsed:   41.2s\n",
            "\n",
            "building tree 21 of 30[Parallel(n_jobs=-1)]: Done  19 tasks      | elapsed:   44.7s\n",
            "\n",
            "building tree 22 of 30[Parallel(n_jobs=-1)]: Done  20 tasks      | elapsed:   45.6s\n",
            "\n",
            "building tree 23 of 30[Parallel(n_jobs=-1)]: Done  21 tasks      | elapsed:   49.2s\n",
            "\n",
            "building tree 24 of 30[Parallel(n_jobs=-1)]: Done  22 tasks      | elapsed:   50.6s\n",
            "\n",
            "building tree 25 of 30[Parallel(n_jobs=-1)]: Done  23 tasks      | elapsed:   56.3s\n",
            "\n",
            "building tree 26 of 30[Parallel(n_jobs=-1)]: Done  24 tasks      | elapsed:   57.4s\n",
            "\n",
            "building tree 27 of 30[Parallel(n_jobs=-1)]: Done  25 tasks      | elapsed:  1.0min\n",
            "\n",
            "building tree 28 of 30[Parallel(n_jobs=-1)]: Done  26 tasks      | elapsed:  1.0min\n",
            "\n",
            "building tree 29 of 30[Parallel(n_jobs=-1)]: Done  27 tasks      | elapsed:  1.1min\n",
            "\n",
            "building tree 30 of 30[Parallel(n_jobs=-1)]: Done  28 out of  30 | elapsed:  1.1min remaining:    4.8s\n",
            "\n",
            "[Parallel(n_jobs=-1)]: Done  30 out of  30 | elapsed:  1.2min remaining:    0.0s\n",
            "[Parallel(n_jobs=-1)]: Done  30 out of  30 | elapsed:  1.2min finished\n"
          ]
        },
        {
          "output_type": "execute_result",
          "data": {
            "text/plain": [
              "RandomForestRegressor(n_estimators=30, n_jobs=-1, random_state=452543634,\n",
              "                      verbose=100)"
            ]
          },
          "metadata": {},
          "execution_count": 31
        }
      ],
      "source": [
        "RF_feature_model = RandomForestRegressor(random_state=RANDOM_STATE, n_estimators=N_ESTIMATORS, n_jobs=-1, verbose=100)\n",
        "\n",
        "feature_converter = FeatureRep()\n",
        "\n",
        "RF_feature_model.fit(feature_converter.fit_transform(X_train_rolled),y_train_rolled)"
      ]
    },
    {
      "cell_type": "markdown",
      "metadata": {
        "id": "nDB9NMpB0k2M"
      },
      "source": [
        "### Evaluation\n",
        "\n",
        "WARNING: This is just a basic evaluation scheme, more thorough investigation needed!"
      ]
    },
    {
      "cell_type": "code",
      "execution_count": null,
      "metadata": {
        "ExecuteTime": {
          "end_time": "2019-05-01T10:17:09.529472Z",
          "start_time": "2019-05-01T10:17:07.594586Z"
        },
        "colab": {
          "base_uri": "https://localhost:8080/"
        },
        "id": "vt-_Kdl00k2M",
        "outputId": "5f122edf-cc18-4242-8627-041143a46af1"
      },
      "outputs": [
        {
          "output_type": "stream",
          "name": "stdout",
          "text": [
            "[Parallel(n_jobs=2)]: Using backend ThreadingBackend with 2 concurrent workers.\n",
            "[Parallel(n_jobs=2)]: Done   1 tasks      | elapsed:    0.0s\n",
            "[Parallel(n_jobs=2)]: Done   2 tasks      | elapsed:    0.0s\n",
            "[Parallel(n_jobs=2)]: Done   3 tasks      | elapsed:    0.0s\n",
            "[Parallel(n_jobs=2)]: Done   4 tasks      | elapsed:    0.0s\n",
            "[Parallel(n_jobs=2)]: Done   5 tasks      | elapsed:    0.0s\n",
            "[Parallel(n_jobs=2)]: Done   6 tasks      | elapsed:    0.0s\n",
            "[Parallel(n_jobs=2)]: Done   7 tasks      | elapsed:    0.0s\n",
            "[Parallel(n_jobs=2)]: Done   8 tasks      | elapsed:    0.0s\n",
            "[Parallel(n_jobs=2)]: Done   9 tasks      | elapsed:    0.0s\n",
            "[Parallel(n_jobs=2)]: Done  10 tasks      | elapsed:    0.0s\n",
            "[Parallel(n_jobs=2)]: Done  11 tasks      | elapsed:    0.0s\n",
            "[Parallel(n_jobs=2)]: Done  12 tasks      | elapsed:    0.0s\n",
            "[Parallel(n_jobs=2)]: Done  13 tasks      | elapsed:    0.0s\n",
            "[Parallel(n_jobs=2)]: Done  14 tasks      | elapsed:    0.0s\n",
            "[Parallel(n_jobs=2)]: Done  15 tasks      | elapsed:    0.0s\n",
            "[Parallel(n_jobs=2)]: Done  16 tasks      | elapsed:    0.0s\n",
            "[Parallel(n_jobs=2)]: Done  17 tasks      | elapsed:    0.0s\n",
            "[Parallel(n_jobs=2)]: Done  18 tasks      | elapsed:    0.0s\n",
            "[Parallel(n_jobs=2)]: Done  19 tasks      | elapsed:    0.0s\n",
            "[Parallel(n_jobs=2)]: Done  20 tasks      | elapsed:    0.0s\n",
            "[Parallel(n_jobs=2)]: Done  21 tasks      | elapsed:    0.0s\n",
            "[Parallel(n_jobs=2)]: Done  22 tasks      | elapsed:    0.0s\n",
            "[Parallel(n_jobs=2)]: Done  23 tasks      | elapsed:    0.0s\n",
            "[Parallel(n_jobs=2)]: Done  24 tasks      | elapsed:    0.0s\n",
            "[Parallel(n_jobs=2)]: Done  25 tasks      | elapsed:    0.0s\n",
            "[Parallel(n_jobs=2)]: Done  26 tasks      | elapsed:    0.0s\n",
            "[Parallel(n_jobs=2)]: Done  27 tasks      | elapsed:    0.0s\n",
            "[Parallel(n_jobs=2)]: Done  28 out of  30 | elapsed:    0.0s remaining:    0.0s\n",
            "[Parallel(n_jobs=2)]: Done  30 out of  30 | elapsed:    0.0s remaining:    0.0s\n",
            "[Parallel(n_jobs=2)]: Done  30 out of  30 | elapsed:    0.0s finished\n"
          ]
        }
      ],
      "source": [
        "X_valid_rolled, y_valid_rolled,_=segmenter.fit_transform([X_valid_norm.values],[y_valid_norm.flatten()])\n",
        "\n",
        "RF_feature_model_predictions = RF_feature_model.predict(feature_converter.transform(X_valid_rolled))"
      ]
    },
    {
      "cell_type": "code",
      "execution_count": null,
      "metadata": {
        "ExecuteTime": {
          "end_time": "2019-05-01T10:17:09.547404Z",
          "start_time": "2019-05-01T10:17:09.535683Z"
        },
        "colab": {
          "base_uri": "https://localhost:8080/"
        },
        "id": "Kf8Gs2G60k2M",
        "outputId": "a7f98d5a-111b-465d-eb65-84ea6e92fe4a"
      },
      "outputs": [
        {
          "output_type": "stream",
          "name": "stdout",
          "text": [
            "Root mean squared error on valid: 0.09913531688046091\n",
            "Root mean squared error on valid inverse transformed from normalization: [[98.54050498]]\n"
          ]
        }
      ],
      "source": [
        "rms_feature = sqrt(mean_squared_error(y_valid_rolled, RF_feature_model_predictions))\n",
        "\n",
        "print(\"Root mean squared error on valid:\",rms_feature)\n",
        "print(\"Root mean squared error on valid inverse transformed from normalization:\",normalizers[\"pm2.5\"].inverse_transform(np.array([rms_feature]).reshape(1, -1)))"
      ]
    },
    {
      "cell_type": "markdown",
      "metadata": {
        "id": "mwcKEocW0k2N"
      },
      "source": [
        "(Note: In a real life scenario, I would double check if the result of check inverse_transform is what I expect to be. Most probably is, but printing out error metrics is a sensitive part, one can easily fool oneself.)"
      ]
    },
    {
      "cell_type": "markdown",
      "metadata": {
        "id": "Jkg5-0430k2N"
      },
      "source": [
        "## XGBoost for speedup"
      ]
    },
    {
      "cell_type": "code",
      "execution_count": null,
      "metadata": {
        "ExecuteTime": {
          "end_time": "2019-05-02T06:11:13.503238Z",
          "start_time": "2019-05-02T06:11:12.626351Z"
        },
        "colab": {
          "base_uri": "https://localhost:8080/"
        },
        "id": "vlnSdL0v0k2N",
        "outputId": "65d67338-a55a-4478-cc05-6cc9c42a15ff"
      },
      "outputs": [
        {
          "output_type": "stream",
          "name": "stderr",
          "text": [
            "/usr/local/lib/python3.7/dist-packages/xgboost/core.py:613: UserWarning: Use subset (sliced data) of np.ndarray is not recommended because it will generate extra copies and increase memory consumption\n",
            "  warnings.warn(\"Use subset (sliced data) of np.ndarray is not recommended \" +\n"
          ]
        }
      ],
      "source": [
        "import xgboost as xgb\n",
        "\n",
        "# XGBoost needs it's custom data format to run quickly\n",
        "dmatrix_train = xgb.DMatrix(data=X_train_flattened,label=y_train_rolled)\n",
        "dmatrix_valid = xgb.DMatrix(data=X_valid_flattened,label=y_valid_rolled)"
      ]
    },
    {
      "cell_type": "code",
      "execution_count": null,
      "metadata": {
        "ExecuteTime": {
          "end_time": "2019-05-02T06:12:07.553811Z",
          "start_time": "2019-05-02T06:12:00.484242Z"
        },
        "colab": {
          "base_uri": "https://localhost:8080/"
        },
        "id": "9Z7wiavj0k2N",
        "outputId": "0bcaa159-dbe8-4cea-a16a-4b17bb8d6ae1"
      },
      "outputs": [
        {
          "output_type": "stream",
          "name": "stdout",
          "text": [
            "[14:13:58] WARNING: /workspace/src/objective/regression_obj.cu:152: reg:linear is now deprecated in favor of reg:squarederror.\n",
            "[0]\teval-rmse:0.290804\ttrain-rmse:0.293582\n",
            "[1]\teval-rmse:0.212453\ttrain-rmse:0.212501\n",
            "[2]\teval-rmse:0.160382\ttrain-rmse:0.157461\n",
            "[3]\teval-rmse:0.127522\ttrain-rmse:0.121364\n",
            "[4]\teval-rmse:0.109145\ttrain-rmse:0.098278\n",
            "[5]\teval-rmse:0.098193\ttrain-rmse:0.08405\n",
            "[6]\teval-rmse:0.092595\ttrain-rmse:0.075316\n",
            "[7]\teval-rmse:0.089748\ttrain-rmse:0.070572\n",
            "[8]\teval-rmse:0.088171\ttrain-rmse:0.067781\n",
            "[9]\teval-rmse:0.087828\ttrain-rmse:0.065747\n",
            "[10]\teval-rmse:0.087672\ttrain-rmse:0.064149\n",
            "[11]\teval-rmse:0.087908\ttrain-rmse:0.063032\n"
          ]
        }
      ],
      "source": [
        "params = {'objective': 'reg:linear', 'eval_metric': 'rmse', 'n_estimators': 30, 'tree_method':'gpu_hist'}\n",
        "#param['nthread'] = 4\n",
        "evallist = [(dmatrix_valid, 'eval'), (dmatrix_train, 'train')]\n",
        "\n",
        "#After some tests, it turned out to overfit after this point\n",
        "num_round = 12\n",
        "\n",
        "xg_reg = xgb.train(params, dmatrix_train, num_round, evallist)"
      ]
    },
    {
      "cell_type": "code",
      "execution_count": null,
      "metadata": {
        "ExecuteTime": {
          "end_time": "2019-05-02T06:12:10.017734Z",
          "start_time": "2019-05-02T06:12:09.999673Z"
        },
        "colab": {
          "base_uri": "https://localhost:8080/"
        },
        "id": "iVuzp19I0k2N",
        "outputId": "67e8db5b-b82c-4d35-9a5c-cb1a7739d627"
      },
      "outputs": [
        {
          "output_type": "stream",
          "name": "stdout",
          "text": [
            "Root mean squared error on valid: 0.08790809598282114\n",
            "Root mean squared error on valid inverse transformed from normalization: [[87.38064741]]\n"
          ]
        }
      ],
      "source": [
        "xgb_predictions = xg_reg.predict(dmatrix_valid)\n",
        "\n",
        "rms_base = sqrt(mean_squared_error(y_valid_rolled, xgb_predictions))\n",
        "\n",
        "print(\"Root mean squared error on valid:\",rms_base)\n",
        "print(\"Root mean squared error on valid inverse transformed from normalization:\",normalizers[\"pm2.5\"].inverse_transform(np.array([rms_base]).reshape(1, -1)))"
      ]
    },
    {
      "cell_type": "markdown",
      "metadata": {
        "id": "q_HwwitO0k2N"
      },
      "source": [
        "### Forcing the issue with a bit of grid search\n",
        "\n",
        "Since XGBoost fits quite quickly, especially on GPU, we can try to poke around a small grid of parameters, and see, if we can get some better results."
      ]
    },
    {
      "cell_type": "code",
      "execution_count": null,
      "metadata": {
        "ExecuteTime": {
          "end_time": "2019-05-02T07:29:21.528006Z",
          "start_time": "2019-05-02T07:24:50.767155Z"
        },
        "colab": {
          "base_uri": "https://localhost:8080/"
        },
        "id": "xlJ1iyix0k2N",
        "outputId": "d1950589-b9af-471a-d4f4-e7a6523ff3a2"
      },
      "outputs": [
        {
          "output_type": "stream",
          "name": "stdout",
          "text": [
            "----RUN  1\n",
            "[14:14:13] WARNING: /workspace/src/objective/regression_obj.cu:152: reg:linear is now deprecated in favor of reg:squarederror.\n",
            "[0]\teval-rmse:0.403765\ttrain-rmse:0.407863\n",
            "[1]\teval-rmse:0.399872\ttrain-rmse:0.403934\n",
            "[2]\teval-rmse:0.396027\ttrain-rmse:0.400043\n",
            "[3]\teval-rmse:0.392258\ttrain-rmse:0.396196\n",
            "[4]\teval-rmse:0.388515\ttrain-rmse:0.392385\n",
            "[5]\teval-rmse:0.384828\ttrain-rmse:0.388617\n",
            "[6]\teval-rmse:0.381185\ttrain-rmse:0.384885\n",
            "[7]\teval-rmse:0.37756\ttrain-rmse:0.381194\n",
            "[8]\teval-rmse:0.373959\ttrain-rmse:0.377539\n",
            "[9]\teval-rmse:0.370422\ttrain-rmse:0.373925\n",
            "[10]\teval-rmse:0.366926\ttrain-rmse:0.370348\n",
            "[11]\teval-rmse:0.363475\ttrain-rmse:0.366805\n",
            "[12]\teval-rmse:0.360035\ttrain-rmse:0.363302\n",
            "[13]\teval-rmse:0.356624\ttrain-rmse:0.359836\n",
            "[14]\teval-rmse:0.353316\ttrain-rmse:0.356402\n",
            "[15]\teval-rmse:0.34999\ttrain-rmse:0.353004\n",
            "[16]\teval-rmse:0.34669\ttrain-rmse:0.34964\n",
            "[17]\teval-rmse:0.343447\ttrain-rmse:0.346315\n",
            "[18]\teval-rmse:0.340258\ttrain-rmse:0.343023\n",
            "[19]\teval-rmse:0.337099\ttrain-rmse:0.339763\n",
            "[20]\teval-rmse:0.333943\ttrain-rmse:0.33654\n",
            "[21]\teval-rmse:0.330849\ttrain-rmse:0.333348\n",
            "[22]\teval-rmse:0.32776\ttrain-rmse:0.33019\n",
            "[23]\teval-rmse:0.32472\ttrain-rmse:0.327062\n",
            "[24]\teval-rmse:0.321715\ttrain-rmse:0.323968\n",
            "[25]\teval-rmse:0.318746\ttrain-rmse:0.320907\n",
            "[26]\teval-rmse:0.315761\ttrain-rmse:0.317875\n",
            "[27]\teval-rmse:0.312869\ttrain-rmse:0.314875\n",
            "[28]\teval-rmse:0.310013\ttrain-rmse:0.311912\n",
            "[29]\teval-rmse:0.307137\ttrain-rmse:0.308977\n",
            "[30]\teval-rmse:0.304254\ttrain-rmse:0.306072\n",
            "[31]\teval-rmse:0.301465\ttrain-rmse:0.303195\n",
            "[32]\teval-rmse:0.298694\ttrain-rmse:0.300348\n",
            "[33]\teval-rmse:0.295919\ttrain-rmse:0.297534\n",
            "[34]\teval-rmse:0.293199\ttrain-rmse:0.294751\n",
            "[35]\teval-rmse:0.290529\ttrain-rmse:0.291993\n",
            "----RUN  2\n",
            "[14:14:16] WARNING: /workspace/src/objective/regression_obj.cu:152: reg:linear is now deprecated in favor of reg:squarederror.\n",
            "[0]\teval-rmse:0.403765\ttrain-rmse:0.407863\n",
            "[1]\teval-rmse:0.399872\ttrain-rmse:0.403934\n",
            "[2]\teval-rmse:0.396027\ttrain-rmse:0.400043\n",
            "[3]\teval-rmse:0.392258\ttrain-rmse:0.396196\n",
            "[4]\teval-rmse:0.388515\ttrain-rmse:0.392385\n",
            "[5]\teval-rmse:0.384828\ttrain-rmse:0.388617\n",
            "[6]\teval-rmse:0.381185\ttrain-rmse:0.384885\n",
            "[7]\teval-rmse:0.37756\ttrain-rmse:0.381194\n",
            "[8]\teval-rmse:0.373959\ttrain-rmse:0.377539\n",
            "[9]\teval-rmse:0.370422\ttrain-rmse:0.373925\n",
            "[10]\teval-rmse:0.366926\ttrain-rmse:0.370348\n",
            "[11]\teval-rmse:0.363475\ttrain-rmse:0.366805\n",
            "[12]\teval-rmse:0.360035\ttrain-rmse:0.363302\n",
            "[13]\teval-rmse:0.356624\ttrain-rmse:0.359836\n",
            "[14]\teval-rmse:0.353316\ttrain-rmse:0.356402\n",
            "[15]\teval-rmse:0.34999\ttrain-rmse:0.353004\n",
            "[16]\teval-rmse:0.34669\ttrain-rmse:0.34964\n",
            "[17]\teval-rmse:0.343447\ttrain-rmse:0.346315\n",
            "[18]\teval-rmse:0.340258\ttrain-rmse:0.343023\n",
            "[19]\teval-rmse:0.337099\ttrain-rmse:0.339763\n",
            "[20]\teval-rmse:0.333943\ttrain-rmse:0.33654\n",
            "[21]\teval-rmse:0.330849\ttrain-rmse:0.333348\n",
            "[22]\teval-rmse:0.32776\ttrain-rmse:0.33019\n",
            "[23]\teval-rmse:0.32472\ttrain-rmse:0.327062\n",
            "[24]\teval-rmse:0.321715\ttrain-rmse:0.323968\n",
            "[25]\teval-rmse:0.318746\ttrain-rmse:0.320907\n",
            "[26]\teval-rmse:0.315761\ttrain-rmse:0.317875\n",
            "[27]\teval-rmse:0.312869\ttrain-rmse:0.314875\n",
            "[28]\teval-rmse:0.310013\ttrain-rmse:0.311912\n",
            "[29]\teval-rmse:0.307137\ttrain-rmse:0.308977\n",
            "[30]\teval-rmse:0.304254\ttrain-rmse:0.306072\n",
            "[31]\teval-rmse:0.301465\ttrain-rmse:0.303195\n",
            "[32]\teval-rmse:0.298694\ttrain-rmse:0.300348\n",
            "[33]\teval-rmse:0.295919\ttrain-rmse:0.297534\n",
            "[34]\teval-rmse:0.293199\ttrain-rmse:0.294751\n",
            "[35]\teval-rmse:0.290529\ttrain-rmse:0.291993\n",
            "----RUN  3\n",
            "[14:14:19] WARNING: /workspace/src/objective/regression_obj.cu:152: reg:linear is now deprecated in favor of reg:squarederror.\n",
            "[0]\teval-rmse:0.403765\ttrain-rmse:0.407863\n",
            "[1]\teval-rmse:0.399872\ttrain-rmse:0.403934\n",
            "[2]\teval-rmse:0.396027\ttrain-rmse:0.400043\n",
            "[3]\teval-rmse:0.392258\ttrain-rmse:0.396196\n",
            "[4]\teval-rmse:0.388515\ttrain-rmse:0.392385\n",
            "[5]\teval-rmse:0.384828\ttrain-rmse:0.388617\n",
            "[6]\teval-rmse:0.381185\ttrain-rmse:0.384885\n",
            "[7]\teval-rmse:0.37756\ttrain-rmse:0.381194\n",
            "[8]\teval-rmse:0.373959\ttrain-rmse:0.377539\n",
            "[9]\teval-rmse:0.370422\ttrain-rmse:0.373925\n",
            "[10]\teval-rmse:0.366926\ttrain-rmse:0.370348\n",
            "[11]\teval-rmse:0.363475\ttrain-rmse:0.366805\n",
            "[12]\teval-rmse:0.360035\ttrain-rmse:0.363302\n",
            "[13]\teval-rmse:0.356624\ttrain-rmse:0.359836\n",
            "[14]\teval-rmse:0.353316\ttrain-rmse:0.356402\n",
            "[15]\teval-rmse:0.34999\ttrain-rmse:0.353004\n",
            "[16]\teval-rmse:0.34669\ttrain-rmse:0.34964\n",
            "[17]\teval-rmse:0.343447\ttrain-rmse:0.346315\n",
            "[18]\teval-rmse:0.340258\ttrain-rmse:0.343023\n",
            "[19]\teval-rmse:0.337099\ttrain-rmse:0.339763\n",
            "[20]\teval-rmse:0.333943\ttrain-rmse:0.33654\n",
            "[21]\teval-rmse:0.330849\ttrain-rmse:0.333348\n",
            "[22]\teval-rmse:0.32776\ttrain-rmse:0.33019\n",
            "[23]\teval-rmse:0.32472\ttrain-rmse:0.327062\n",
            "[24]\teval-rmse:0.321715\ttrain-rmse:0.323968\n",
            "[25]\teval-rmse:0.318746\ttrain-rmse:0.320907\n",
            "[26]\teval-rmse:0.315761\ttrain-rmse:0.317875\n",
            "[27]\teval-rmse:0.312869\ttrain-rmse:0.314875\n",
            "[28]\teval-rmse:0.310013\ttrain-rmse:0.311912\n",
            "[29]\teval-rmse:0.307137\ttrain-rmse:0.308977\n",
            "[30]\teval-rmse:0.304254\ttrain-rmse:0.306072\n",
            "[31]\teval-rmse:0.301465\ttrain-rmse:0.303195\n",
            "[32]\teval-rmse:0.298694\ttrain-rmse:0.300348\n",
            "[33]\teval-rmse:0.295919\ttrain-rmse:0.297534\n",
            "[34]\teval-rmse:0.293199\ttrain-rmse:0.294751\n",
            "[35]\teval-rmse:0.290529\ttrain-rmse:0.291993\n",
            "----RUN  4\n",
            "[14:14:21] WARNING: /workspace/src/objective/regression_obj.cu:152: reg:linear is now deprecated in favor of reg:squarederror.\n",
            "[0]\teval-rmse:0.403765\ttrain-rmse:0.407863\n",
            "[1]\teval-rmse:0.399872\ttrain-rmse:0.403934\n",
            "[2]\teval-rmse:0.396027\ttrain-rmse:0.400043\n",
            "[3]\teval-rmse:0.392258\ttrain-rmse:0.396196\n",
            "[4]\teval-rmse:0.388515\ttrain-rmse:0.392385\n",
            "[5]\teval-rmse:0.384828\ttrain-rmse:0.388617\n",
            "[6]\teval-rmse:0.381185\ttrain-rmse:0.384885\n",
            "[7]\teval-rmse:0.37756\ttrain-rmse:0.381194\n",
            "[8]\teval-rmse:0.373959\ttrain-rmse:0.377539\n",
            "[9]\teval-rmse:0.370422\ttrain-rmse:0.373925\n",
            "[10]\teval-rmse:0.366926\ttrain-rmse:0.370348\n",
            "[11]\teval-rmse:0.363475\ttrain-rmse:0.366805\n",
            "[12]\teval-rmse:0.360035\ttrain-rmse:0.363302\n",
            "[13]\teval-rmse:0.356624\ttrain-rmse:0.359836\n",
            "[14]\teval-rmse:0.353316\ttrain-rmse:0.356402\n",
            "[15]\teval-rmse:0.34999\ttrain-rmse:0.353004\n",
            "[16]\teval-rmse:0.34669\ttrain-rmse:0.34964\n",
            "[17]\teval-rmse:0.343447\ttrain-rmse:0.346315\n",
            "[18]\teval-rmse:0.340258\ttrain-rmse:0.343023\n",
            "[19]\teval-rmse:0.337099\ttrain-rmse:0.339763\n",
            "[20]\teval-rmse:0.333943\ttrain-rmse:0.33654\n",
            "[21]\teval-rmse:0.330849\ttrain-rmse:0.333348\n",
            "[22]\teval-rmse:0.32776\ttrain-rmse:0.33019\n",
            "[23]\teval-rmse:0.32472\ttrain-rmse:0.327062\n",
            "[24]\teval-rmse:0.321715\ttrain-rmse:0.323968\n",
            "[25]\teval-rmse:0.318746\ttrain-rmse:0.320907\n",
            "[26]\teval-rmse:0.315761\ttrain-rmse:0.317875\n",
            "[27]\teval-rmse:0.312869\ttrain-rmse:0.314875\n",
            "[28]\teval-rmse:0.310013\ttrain-rmse:0.311912\n",
            "[29]\teval-rmse:0.307137\ttrain-rmse:0.308977\n",
            "[30]\teval-rmse:0.304254\ttrain-rmse:0.306072\n",
            "[31]\teval-rmse:0.301465\ttrain-rmse:0.303195\n",
            "[32]\teval-rmse:0.298694\ttrain-rmse:0.300348\n",
            "[33]\teval-rmse:0.295919\ttrain-rmse:0.297534\n",
            "[34]\teval-rmse:0.293199\ttrain-rmse:0.294751\n",
            "[35]\teval-rmse:0.290529\ttrain-rmse:0.291993\n",
            "----RUN  5\n",
            "[14:14:24] WARNING: /workspace/src/objective/regression_obj.cu:152: reg:linear is now deprecated in favor of reg:squarederror.\n",
            "[0]\teval-rmse:0.368416\ttrain-rmse:0.372201\n",
            "[1]\teval-rmse:0.333661\ttrain-rmse:0.336679\n",
            "[2]\teval-rmse:0.302712\ttrain-rmse:0.304851\n",
            "[3]\teval-rmse:0.274839\ttrain-rmse:0.27633\n",
            "[4]\teval-rmse:0.249839\ttrain-rmse:0.250817\n",
            "[5]\teval-rmse:0.227709\ttrain-rmse:0.227979\n",
            "[6]\teval-rmse:0.20833\ttrain-rmse:0.207565\n",
            "[7]\teval-rmse:0.191119\ttrain-rmse:0.189401\n",
            "[8]\teval-rmse:0.17612\ttrain-rmse:0.173206\n",
            "[9]\teval-rmse:0.162712\ttrain-rmse:0.158808\n",
            "[10]\teval-rmse:0.151498\ttrain-rmse:0.146001\n",
            "[11]\teval-rmse:0.141276\ttrain-rmse:0.134703\n",
            "[12]\teval-rmse:0.132219\ttrain-rmse:0.124789\n",
            "[13]\teval-rmse:0.124883\ttrain-rmse:0.116119\n",
            "[14]\teval-rmse:0.118428\ttrain-rmse:0.108577\n",
            "[15]\teval-rmse:0.113094\ttrain-rmse:0.101915\n",
            "[16]\teval-rmse:0.108567\ttrain-rmse:0.096209\n",
            "[17]\teval-rmse:0.104575\ttrain-rmse:0.091046\n",
            "[18]\teval-rmse:0.101382\ttrain-rmse:0.086741\n",
            "[19]\teval-rmse:0.098645\ttrain-rmse:0.083057\n",
            "[20]\teval-rmse:0.096295\ttrain-rmse:0.079798\n",
            "[21]\teval-rmse:0.094589\ttrain-rmse:0.077045\n",
            "[22]\teval-rmse:0.093233\ttrain-rmse:0.074609\n",
            "[23]\teval-rmse:0.092018\ttrain-rmse:0.072656\n",
            "[24]\teval-rmse:0.090958\ttrain-rmse:0.070895\n",
            "[25]\teval-rmse:0.090129\ttrain-rmse:0.069415\n",
            "[26]\teval-rmse:0.089603\ttrain-rmse:0.068101\n",
            "[27]\teval-rmse:0.089129\ttrain-rmse:0.066917\n",
            "[28]\teval-rmse:0.088787\ttrain-rmse:0.065921\n",
            "[29]\teval-rmse:0.08852\ttrain-rmse:0.065182\n",
            "[30]\teval-rmse:0.088266\ttrain-rmse:0.064525\n",
            "[31]\teval-rmse:0.088023\ttrain-rmse:0.063964\n",
            "[32]\teval-rmse:0.087974\ttrain-rmse:0.06343\n",
            "[33]\teval-rmse:0.087867\ttrain-rmse:0.062981\n",
            "[34]\teval-rmse:0.087947\ttrain-rmse:0.062534\n",
            "[35]\teval-rmse:0.087939\ttrain-rmse:0.062017\n",
            "----RUN  6\n",
            "[14:14:26] WARNING: /workspace/src/objective/regression_obj.cu:152: reg:linear is now deprecated in favor of reg:squarederror.\n",
            "[0]\teval-rmse:0.368416\ttrain-rmse:0.372201\n",
            "[1]\teval-rmse:0.333661\ttrain-rmse:0.336679\n",
            "[2]\teval-rmse:0.302712\ttrain-rmse:0.304851\n",
            "[3]\teval-rmse:0.274839\ttrain-rmse:0.27633\n",
            "[4]\teval-rmse:0.249839\ttrain-rmse:0.250817\n",
            "[5]\teval-rmse:0.227709\ttrain-rmse:0.227979\n",
            "[6]\teval-rmse:0.20833\ttrain-rmse:0.207565\n",
            "[7]\teval-rmse:0.191119\ttrain-rmse:0.189401\n",
            "[8]\teval-rmse:0.17612\ttrain-rmse:0.173206\n",
            "[9]\teval-rmse:0.162712\ttrain-rmse:0.158808\n",
            "[10]\teval-rmse:0.151498\ttrain-rmse:0.146001\n",
            "[11]\teval-rmse:0.141276\ttrain-rmse:0.134703\n",
            "[12]\teval-rmse:0.132219\ttrain-rmse:0.124789\n",
            "[13]\teval-rmse:0.124883\ttrain-rmse:0.116119\n",
            "[14]\teval-rmse:0.118428\ttrain-rmse:0.108577\n",
            "[15]\teval-rmse:0.113094\ttrain-rmse:0.101915\n",
            "[16]\teval-rmse:0.108567\ttrain-rmse:0.096209\n",
            "[17]\teval-rmse:0.104575\ttrain-rmse:0.091046\n",
            "[18]\teval-rmse:0.101382\ttrain-rmse:0.086741\n",
            "[19]\teval-rmse:0.098645\ttrain-rmse:0.083057\n",
            "[20]\teval-rmse:0.096295\ttrain-rmse:0.079798\n",
            "[21]\teval-rmse:0.094589\ttrain-rmse:0.077045\n",
            "[22]\teval-rmse:0.093233\ttrain-rmse:0.074609\n",
            "[23]\teval-rmse:0.092018\ttrain-rmse:0.072656\n",
            "[24]\teval-rmse:0.090958\ttrain-rmse:0.070895\n",
            "[25]\teval-rmse:0.090129\ttrain-rmse:0.069415\n",
            "[26]\teval-rmse:0.089603\ttrain-rmse:0.068101\n",
            "[27]\teval-rmse:0.089129\ttrain-rmse:0.066917\n",
            "[28]\teval-rmse:0.088787\ttrain-rmse:0.065921\n",
            "[29]\teval-rmse:0.08852\ttrain-rmse:0.065182\n",
            "[30]\teval-rmse:0.088266\ttrain-rmse:0.064525\n",
            "[31]\teval-rmse:0.088023\ttrain-rmse:0.063964\n",
            "[32]\teval-rmse:0.087974\ttrain-rmse:0.06343\n",
            "[33]\teval-rmse:0.087867\ttrain-rmse:0.062981\n",
            "[34]\teval-rmse:0.087947\ttrain-rmse:0.062534\n",
            "[35]\teval-rmse:0.087939\ttrain-rmse:0.062017\n",
            "----RUN  7\n",
            "[14:14:29] WARNING: /workspace/src/objective/regression_obj.cu:152: reg:linear is now deprecated in favor of reg:squarederror.\n",
            "[0]\teval-rmse:0.368416\ttrain-rmse:0.372201\n",
            "[1]\teval-rmse:0.333661\ttrain-rmse:0.336679\n",
            "[2]\teval-rmse:0.302712\ttrain-rmse:0.304851\n",
            "[3]\teval-rmse:0.274839\ttrain-rmse:0.27633\n",
            "[4]\teval-rmse:0.249839\ttrain-rmse:0.250817\n",
            "[5]\teval-rmse:0.227709\ttrain-rmse:0.227979\n",
            "[6]\teval-rmse:0.20833\ttrain-rmse:0.207565\n",
            "[7]\teval-rmse:0.191119\ttrain-rmse:0.189401\n",
            "[8]\teval-rmse:0.17612\ttrain-rmse:0.173206\n",
            "[9]\teval-rmse:0.162712\ttrain-rmse:0.158808\n",
            "[10]\teval-rmse:0.151498\ttrain-rmse:0.146001\n",
            "[11]\teval-rmse:0.141276\ttrain-rmse:0.134703\n",
            "[12]\teval-rmse:0.132219\ttrain-rmse:0.124789\n",
            "[13]\teval-rmse:0.124883\ttrain-rmse:0.116119\n",
            "[14]\teval-rmse:0.118428\ttrain-rmse:0.108577\n",
            "[15]\teval-rmse:0.113094\ttrain-rmse:0.101915\n",
            "[16]\teval-rmse:0.108567\ttrain-rmse:0.096209\n",
            "[17]\teval-rmse:0.104575\ttrain-rmse:0.091046\n",
            "[18]\teval-rmse:0.101382\ttrain-rmse:0.086741\n",
            "[19]\teval-rmse:0.098645\ttrain-rmse:0.083057\n",
            "[20]\teval-rmse:0.096295\ttrain-rmse:0.079798\n",
            "[21]\teval-rmse:0.094589\ttrain-rmse:0.077045\n",
            "[22]\teval-rmse:0.093233\ttrain-rmse:0.074609\n",
            "[23]\teval-rmse:0.092018\ttrain-rmse:0.072656\n",
            "[24]\teval-rmse:0.090958\ttrain-rmse:0.070895\n",
            "[25]\teval-rmse:0.090129\ttrain-rmse:0.069415\n",
            "[26]\teval-rmse:0.089603\ttrain-rmse:0.068101\n",
            "[27]\teval-rmse:0.089129\ttrain-rmse:0.066917\n",
            "[28]\teval-rmse:0.088787\ttrain-rmse:0.065921\n",
            "[29]\teval-rmse:0.08852\ttrain-rmse:0.065182\n",
            "[30]\teval-rmse:0.088266\ttrain-rmse:0.064525\n",
            "[31]\teval-rmse:0.088023\ttrain-rmse:0.063964\n",
            "[32]\teval-rmse:0.087974\ttrain-rmse:0.06343\n",
            "[33]\teval-rmse:0.087867\ttrain-rmse:0.062981\n",
            "[34]\teval-rmse:0.087947\ttrain-rmse:0.062534\n",
            "[35]\teval-rmse:0.087939\ttrain-rmse:0.062017\n",
            "----RUN  8\n",
            "[14:14:31] WARNING: /workspace/src/objective/regression_obj.cu:152: reg:linear is now deprecated in favor of reg:squarederror.\n",
            "[0]\teval-rmse:0.368416\ttrain-rmse:0.372201\n",
            "[1]\teval-rmse:0.333661\ttrain-rmse:0.336679\n",
            "[2]\teval-rmse:0.302712\ttrain-rmse:0.304851\n",
            "[3]\teval-rmse:0.274839\ttrain-rmse:0.27633\n",
            "[4]\teval-rmse:0.249839\ttrain-rmse:0.250817\n",
            "[5]\teval-rmse:0.227709\ttrain-rmse:0.227979\n",
            "[6]\teval-rmse:0.20833\ttrain-rmse:0.207565\n",
            "[7]\teval-rmse:0.191119\ttrain-rmse:0.189401\n",
            "[8]\teval-rmse:0.17612\ttrain-rmse:0.173206\n",
            "[9]\teval-rmse:0.162712\ttrain-rmse:0.158808\n",
            "[10]\teval-rmse:0.151498\ttrain-rmse:0.146001\n",
            "[11]\teval-rmse:0.141276\ttrain-rmse:0.134703\n",
            "[12]\teval-rmse:0.132219\ttrain-rmse:0.124789\n",
            "[13]\teval-rmse:0.124883\ttrain-rmse:0.116119\n",
            "[14]\teval-rmse:0.118428\ttrain-rmse:0.108577\n",
            "[15]\teval-rmse:0.113094\ttrain-rmse:0.101915\n",
            "[16]\teval-rmse:0.108567\ttrain-rmse:0.096209\n",
            "[17]\teval-rmse:0.104575\ttrain-rmse:0.091046\n",
            "[18]\teval-rmse:0.101382\ttrain-rmse:0.086741\n",
            "[19]\teval-rmse:0.098645\ttrain-rmse:0.083057\n",
            "[20]\teval-rmse:0.096295\ttrain-rmse:0.079798\n",
            "[21]\teval-rmse:0.094589\ttrain-rmse:0.077045\n",
            "[22]\teval-rmse:0.093233\ttrain-rmse:0.074609\n",
            "[23]\teval-rmse:0.092018\ttrain-rmse:0.072656\n",
            "[24]\teval-rmse:0.090958\ttrain-rmse:0.070895\n",
            "[25]\teval-rmse:0.090129\ttrain-rmse:0.069415\n",
            "[26]\teval-rmse:0.089603\ttrain-rmse:0.068101\n",
            "[27]\teval-rmse:0.089129\ttrain-rmse:0.066917\n",
            "[28]\teval-rmse:0.088787\ttrain-rmse:0.065921\n",
            "[29]\teval-rmse:0.08852\ttrain-rmse:0.065182\n",
            "[30]\teval-rmse:0.088266\ttrain-rmse:0.064525\n",
            "[31]\teval-rmse:0.088023\ttrain-rmse:0.063964\n",
            "[32]\teval-rmse:0.087974\ttrain-rmse:0.06343\n",
            "[33]\teval-rmse:0.087867\ttrain-rmse:0.062981\n",
            "[34]\teval-rmse:0.087947\ttrain-rmse:0.062534\n",
            "[35]\teval-rmse:0.087939\ttrain-rmse:0.062017\n",
            "----RUN  9\n",
            "[14:14:34] WARNING: /workspace/src/objective/regression_obj.cu:152: reg:linear is now deprecated in favor of reg:squarederror.\n",
            "[0]\teval-rmse:0.329412\ttrain-rmse:0.332758\n",
            "[1]\teval-rmse:0.26826\ttrain-rmse:0.270141\n",
            "[2]\teval-rmse:0.220569\ttrain-rmse:0.220671\n",
            "[3]\teval-rmse:0.183337\ttrain-rmse:0.181775\n",
            "[4]\teval-rmse:0.154799\ttrain-rmse:0.151508\n",
            "[5]\teval-rmse:0.134138\ttrain-rmse:0.128105\n",
            "[6]\teval-rmse:0.118809\ttrain-rmse:0.110568\n",
            "[7]\teval-rmse:0.10906\ttrain-rmse:0.097315\n",
            "[8]\teval-rmse:0.102135\ttrain-rmse:0.087087\n",
            "[9]\teval-rmse:0.097448\ttrain-rmse:0.080062\n",
            "[10]\teval-rmse:0.0943\ttrain-rmse:0.07499\n",
            "[11]\teval-rmse:0.092287\ttrain-rmse:0.071035\n",
            "[12]\teval-rmse:0.09111\ttrain-rmse:0.068604\n",
            "[13]\teval-rmse:0.09042\ttrain-rmse:0.066548\n",
            "[14]\teval-rmse:0.089756\ttrain-rmse:0.065102\n",
            "[15]\teval-rmse:0.089231\ttrain-rmse:0.063815\n",
            "[16]\teval-rmse:0.089243\ttrain-rmse:0.062673\n",
            "[17]\teval-rmse:0.089193\ttrain-rmse:0.06208\n",
            "[18]\teval-rmse:0.08899\ttrain-rmse:0.061641\n",
            "[19]\teval-rmse:0.088725\ttrain-rmse:0.06077\n",
            "[20]\teval-rmse:0.088962\ttrain-rmse:0.060048\n",
            "[21]\teval-rmse:0.088988\ttrain-rmse:0.059486\n",
            "[22]\teval-rmse:0.088882\ttrain-rmse:0.058845\n",
            "[23]\teval-rmse:0.088505\ttrain-rmse:0.057931\n",
            "[24]\teval-rmse:0.088705\ttrain-rmse:0.057698\n",
            "[25]\teval-rmse:0.088885\ttrain-rmse:0.057176\n",
            "[26]\teval-rmse:0.088789\ttrain-rmse:0.056708\n",
            "[27]\teval-rmse:0.088896\ttrain-rmse:0.056366\n",
            "[28]\teval-rmse:0.08894\ttrain-rmse:0.055887\n",
            "[29]\teval-rmse:0.088917\ttrain-rmse:0.055747\n",
            "[30]\teval-rmse:0.088999\ttrain-rmse:0.055533\n",
            "[31]\teval-rmse:0.089055\ttrain-rmse:0.055149\n",
            "[32]\teval-rmse:0.088968\ttrain-rmse:0.054737\n",
            "[33]\teval-rmse:0.088983\ttrain-rmse:0.054292\n",
            "[34]\teval-rmse:0.089113\ttrain-rmse:0.053699\n",
            "[35]\teval-rmse:0.089194\ttrain-rmse:0.053624\n",
            "----RUN  10\n",
            "[14:14:37] WARNING: /workspace/src/objective/regression_obj.cu:152: reg:linear is now deprecated in favor of reg:squarederror.\n",
            "[0]\teval-rmse:0.329412\ttrain-rmse:0.332758\n",
            "[1]\teval-rmse:0.26826\ttrain-rmse:0.270141\n",
            "[2]\teval-rmse:0.220569\ttrain-rmse:0.220671\n",
            "[3]\teval-rmse:0.183337\ttrain-rmse:0.181775\n",
            "[4]\teval-rmse:0.154799\ttrain-rmse:0.151508\n",
            "[5]\teval-rmse:0.134138\ttrain-rmse:0.128105\n",
            "[6]\teval-rmse:0.118809\ttrain-rmse:0.110568\n",
            "[7]\teval-rmse:0.10906\ttrain-rmse:0.097315\n",
            "[8]\teval-rmse:0.102135\ttrain-rmse:0.087087\n",
            "[9]\teval-rmse:0.097448\ttrain-rmse:0.080062\n",
            "[10]\teval-rmse:0.0943\ttrain-rmse:0.07499\n",
            "[11]\teval-rmse:0.092287\ttrain-rmse:0.071035\n",
            "[12]\teval-rmse:0.09111\ttrain-rmse:0.068604\n",
            "[13]\teval-rmse:0.09042\ttrain-rmse:0.066548\n",
            "[14]\teval-rmse:0.089756\ttrain-rmse:0.065102\n",
            "[15]\teval-rmse:0.089231\ttrain-rmse:0.063815\n",
            "[16]\teval-rmse:0.089243\ttrain-rmse:0.062673\n",
            "[17]\teval-rmse:0.089193\ttrain-rmse:0.06208\n",
            "[18]\teval-rmse:0.08899\ttrain-rmse:0.061641\n",
            "[19]\teval-rmse:0.088725\ttrain-rmse:0.06077\n",
            "[20]\teval-rmse:0.088962\ttrain-rmse:0.060048\n",
            "[21]\teval-rmse:0.088988\ttrain-rmse:0.059486\n",
            "[22]\teval-rmse:0.088882\ttrain-rmse:0.058845\n",
            "[23]\teval-rmse:0.088505\ttrain-rmse:0.057931\n",
            "[24]\teval-rmse:0.088705\ttrain-rmse:0.057698\n",
            "[25]\teval-rmse:0.088885\ttrain-rmse:0.057176\n",
            "[26]\teval-rmse:0.088789\ttrain-rmse:0.056708\n",
            "[27]\teval-rmse:0.088896\ttrain-rmse:0.056366\n",
            "[28]\teval-rmse:0.08894\ttrain-rmse:0.055887\n",
            "[29]\teval-rmse:0.088917\ttrain-rmse:0.055747\n",
            "[30]\teval-rmse:0.088999\ttrain-rmse:0.055533\n",
            "[31]\teval-rmse:0.089055\ttrain-rmse:0.055149\n",
            "[32]\teval-rmse:0.088968\ttrain-rmse:0.054737\n",
            "[33]\teval-rmse:0.088983\ttrain-rmse:0.054292\n",
            "[34]\teval-rmse:0.089113\ttrain-rmse:0.053699\n",
            "[35]\teval-rmse:0.089194\ttrain-rmse:0.053624\n",
            "----RUN  11\n",
            "[14:14:39] WARNING: /workspace/src/objective/regression_obj.cu:152: reg:linear is now deprecated in favor of reg:squarederror.\n",
            "[0]\teval-rmse:0.329412\ttrain-rmse:0.332758\n",
            "[1]\teval-rmse:0.26826\ttrain-rmse:0.270141\n",
            "[2]\teval-rmse:0.220569\ttrain-rmse:0.220671\n",
            "[3]\teval-rmse:0.183337\ttrain-rmse:0.181775\n",
            "[4]\teval-rmse:0.154799\ttrain-rmse:0.151508\n",
            "[5]\teval-rmse:0.134138\ttrain-rmse:0.128105\n",
            "[6]\teval-rmse:0.118809\ttrain-rmse:0.110568\n",
            "[7]\teval-rmse:0.10906\ttrain-rmse:0.097315\n",
            "[8]\teval-rmse:0.102135\ttrain-rmse:0.087087\n",
            "[9]\teval-rmse:0.097448\ttrain-rmse:0.080062\n",
            "[10]\teval-rmse:0.0943\ttrain-rmse:0.07499\n",
            "[11]\teval-rmse:0.092287\ttrain-rmse:0.071035\n",
            "[12]\teval-rmse:0.09111\ttrain-rmse:0.068604\n",
            "[13]\teval-rmse:0.09042\ttrain-rmse:0.066548\n",
            "[14]\teval-rmse:0.089756\ttrain-rmse:0.065102\n",
            "[15]\teval-rmse:0.089231\ttrain-rmse:0.063815\n",
            "[16]\teval-rmse:0.089243\ttrain-rmse:0.062673\n",
            "[17]\teval-rmse:0.089193\ttrain-rmse:0.06208\n",
            "[18]\teval-rmse:0.08899\ttrain-rmse:0.061641\n",
            "[19]\teval-rmse:0.088725\ttrain-rmse:0.06077\n",
            "[20]\teval-rmse:0.088962\ttrain-rmse:0.060048\n",
            "[21]\teval-rmse:0.088988\ttrain-rmse:0.059486\n",
            "[22]\teval-rmse:0.088882\ttrain-rmse:0.058845\n",
            "[23]\teval-rmse:0.088505\ttrain-rmse:0.057931\n",
            "[24]\teval-rmse:0.088705\ttrain-rmse:0.057698\n",
            "[25]\teval-rmse:0.088885\ttrain-rmse:0.057176\n",
            "[26]\teval-rmse:0.088789\ttrain-rmse:0.056708\n",
            "[27]\teval-rmse:0.088896\ttrain-rmse:0.056366\n",
            "[28]\teval-rmse:0.08894\ttrain-rmse:0.055887\n",
            "[29]\teval-rmse:0.088917\ttrain-rmse:0.055747\n",
            "[30]\teval-rmse:0.088999\ttrain-rmse:0.055533\n",
            "[31]\teval-rmse:0.089055\ttrain-rmse:0.055149\n",
            "[32]\teval-rmse:0.088968\ttrain-rmse:0.054737\n",
            "[33]\teval-rmse:0.088983\ttrain-rmse:0.054292\n",
            "[34]\teval-rmse:0.089113\ttrain-rmse:0.053699\n",
            "[35]\teval-rmse:0.089194\ttrain-rmse:0.053624\n",
            "----RUN  12\n",
            "[14:14:42] WARNING: /workspace/src/objective/regression_obj.cu:152: reg:linear is now deprecated in favor of reg:squarederror.\n",
            "[0]\teval-rmse:0.329412\ttrain-rmse:0.332758\n",
            "[1]\teval-rmse:0.26826\ttrain-rmse:0.270141\n",
            "[2]\teval-rmse:0.220569\ttrain-rmse:0.220671\n",
            "[3]\teval-rmse:0.183337\ttrain-rmse:0.181775\n",
            "[4]\teval-rmse:0.154799\ttrain-rmse:0.151508\n",
            "[5]\teval-rmse:0.134138\ttrain-rmse:0.128105\n",
            "[6]\teval-rmse:0.118809\ttrain-rmse:0.110568\n",
            "[7]\teval-rmse:0.10906\ttrain-rmse:0.097315\n",
            "[8]\teval-rmse:0.102135\ttrain-rmse:0.087087\n",
            "[9]\teval-rmse:0.097448\ttrain-rmse:0.080062\n",
            "[10]\teval-rmse:0.0943\ttrain-rmse:0.07499\n",
            "[11]\teval-rmse:0.092287\ttrain-rmse:0.071035\n",
            "[12]\teval-rmse:0.09111\ttrain-rmse:0.068604\n",
            "[13]\teval-rmse:0.09042\ttrain-rmse:0.066548\n",
            "[14]\teval-rmse:0.089756\ttrain-rmse:0.065102\n",
            "[15]\teval-rmse:0.089231\ttrain-rmse:0.063815\n",
            "[16]\teval-rmse:0.089243\ttrain-rmse:0.062673\n",
            "[17]\teval-rmse:0.089193\ttrain-rmse:0.06208\n",
            "[18]\teval-rmse:0.08899\ttrain-rmse:0.061641\n",
            "[19]\teval-rmse:0.088725\ttrain-rmse:0.06077\n",
            "[20]\teval-rmse:0.088962\ttrain-rmse:0.060048\n",
            "[21]\teval-rmse:0.088988\ttrain-rmse:0.059486\n",
            "[22]\teval-rmse:0.088882\ttrain-rmse:0.058845\n",
            "[23]\teval-rmse:0.088505\ttrain-rmse:0.057931\n",
            "[24]\teval-rmse:0.088705\ttrain-rmse:0.057698\n",
            "[25]\teval-rmse:0.088885\ttrain-rmse:0.057176\n",
            "[26]\teval-rmse:0.088789\ttrain-rmse:0.056708\n",
            "[27]\teval-rmse:0.088896\ttrain-rmse:0.056366\n",
            "[28]\teval-rmse:0.08894\ttrain-rmse:0.055887\n",
            "[29]\teval-rmse:0.088917\ttrain-rmse:0.055747\n",
            "[30]\teval-rmse:0.088999\ttrain-rmse:0.055533\n",
            "[31]\teval-rmse:0.089055\ttrain-rmse:0.055149\n",
            "[32]\teval-rmse:0.088968\ttrain-rmse:0.054737\n",
            "[33]\teval-rmse:0.088983\ttrain-rmse:0.054292\n",
            "[34]\teval-rmse:0.089113\ttrain-rmse:0.053699\n",
            "[35]\teval-rmse:0.089194\ttrain-rmse:0.053624\n",
            "----RUN  13\n",
            "[14:14:44] WARNING: /workspace/src/objective/regression_obj.cu:152: reg:linear is now deprecated in favor of reg:squarederror.\n",
            "[0]\teval-rmse:0.290804\ttrain-rmse:0.293582\n",
            "[1]\teval-rmse:0.212453\ttrain-rmse:0.212501\n",
            "[2]\teval-rmse:0.160382\ttrain-rmse:0.157461\n",
            "[3]\teval-rmse:0.127522\ttrain-rmse:0.121364\n",
            "[4]\teval-rmse:0.109145\ttrain-rmse:0.098278\n",
            "[5]\teval-rmse:0.098193\ttrain-rmse:0.08405\n",
            "[6]\teval-rmse:0.092595\ttrain-rmse:0.075316\n",
            "[7]\teval-rmse:0.089748\ttrain-rmse:0.070572\n",
            "[8]\teval-rmse:0.088171\ttrain-rmse:0.067781\n",
            "[9]\teval-rmse:0.087828\ttrain-rmse:0.065747\n",
            "[10]\teval-rmse:0.087672\ttrain-rmse:0.064149\n",
            "[11]\teval-rmse:0.087908\ttrain-rmse:0.063032\n",
            "[12]\teval-rmse:0.08832\ttrain-rmse:0.062061\n",
            "[13]\teval-rmse:0.088472\ttrain-rmse:0.061481\n",
            "[14]\teval-rmse:0.088727\ttrain-rmse:0.060519\n",
            "[15]\teval-rmse:0.0885\ttrain-rmse:0.059804\n",
            "[16]\teval-rmse:0.088569\ttrain-rmse:0.05947\n",
            "[17]\teval-rmse:0.088525\ttrain-rmse:0.058878\n",
            "[18]\teval-rmse:0.088658\ttrain-rmse:0.058498\n",
            "[19]\teval-rmse:0.088683\ttrain-rmse:0.057879\n",
            "[20]\teval-rmse:0.088742\ttrain-rmse:0.057553\n",
            "[21]\teval-rmse:0.088869\ttrain-rmse:0.057214\n",
            "[22]\teval-rmse:0.089047\ttrain-rmse:0.05598\n",
            "[23]\teval-rmse:0.089127\ttrain-rmse:0.055317\n",
            "[24]\teval-rmse:0.089246\ttrain-rmse:0.05469\n",
            "[25]\teval-rmse:0.089337\ttrain-rmse:0.054376\n",
            "[26]\teval-rmse:0.088926\ttrain-rmse:0.053425\n",
            "[27]\teval-rmse:0.089312\ttrain-rmse:0.052898\n",
            "[28]\teval-rmse:0.089317\ttrain-rmse:0.05278\n",
            "[29]\teval-rmse:0.089422\ttrain-rmse:0.052406\n",
            "[30]\teval-rmse:0.089443\ttrain-rmse:0.051465\n",
            "[31]\teval-rmse:0.089475\ttrain-rmse:0.050811\n",
            "[32]\teval-rmse:0.089515\ttrain-rmse:0.050449\n",
            "[33]\teval-rmse:0.090087\ttrain-rmse:0.049599\n",
            "[34]\teval-rmse:0.090235\ttrain-rmse:0.04923\n",
            "[35]\teval-rmse:0.090313\ttrain-rmse:0.04885\n",
            "----RUN  14\n",
            "[14:14:47] WARNING: /workspace/src/objective/regression_obj.cu:152: reg:linear is now deprecated in favor of reg:squarederror.\n",
            "[0]\teval-rmse:0.290804\ttrain-rmse:0.293582\n",
            "[1]\teval-rmse:0.212453\ttrain-rmse:0.212501\n",
            "[2]\teval-rmse:0.160382\ttrain-rmse:0.157461\n",
            "[3]\teval-rmse:0.127522\ttrain-rmse:0.121364\n",
            "[4]\teval-rmse:0.109145\ttrain-rmse:0.098278\n",
            "[5]\teval-rmse:0.098193\ttrain-rmse:0.08405\n",
            "[6]\teval-rmse:0.092595\ttrain-rmse:0.075316\n",
            "[7]\teval-rmse:0.089748\ttrain-rmse:0.070572\n",
            "[8]\teval-rmse:0.088171\ttrain-rmse:0.067781\n",
            "[9]\teval-rmse:0.087828\ttrain-rmse:0.065747\n",
            "[10]\teval-rmse:0.087672\ttrain-rmse:0.064149\n",
            "[11]\teval-rmse:0.087908\ttrain-rmse:0.063032\n",
            "[12]\teval-rmse:0.08832\ttrain-rmse:0.062061\n",
            "[13]\teval-rmse:0.088472\ttrain-rmse:0.061481\n",
            "[14]\teval-rmse:0.088727\ttrain-rmse:0.060519\n",
            "[15]\teval-rmse:0.0885\ttrain-rmse:0.059804\n",
            "[16]\teval-rmse:0.088569\ttrain-rmse:0.05947\n",
            "[17]\teval-rmse:0.088525\ttrain-rmse:0.058878\n",
            "[18]\teval-rmse:0.088658\ttrain-rmse:0.058498\n",
            "[19]\teval-rmse:0.088683\ttrain-rmse:0.057879\n",
            "[20]\teval-rmse:0.088742\ttrain-rmse:0.057553\n",
            "[21]\teval-rmse:0.088869\ttrain-rmse:0.057214\n",
            "[22]\teval-rmse:0.089047\ttrain-rmse:0.05598\n",
            "[23]\teval-rmse:0.089127\ttrain-rmse:0.055317\n",
            "[24]\teval-rmse:0.089246\ttrain-rmse:0.05469\n",
            "[25]\teval-rmse:0.089337\ttrain-rmse:0.054376\n",
            "[26]\teval-rmse:0.088926\ttrain-rmse:0.053425\n",
            "[27]\teval-rmse:0.089312\ttrain-rmse:0.052898\n",
            "[28]\teval-rmse:0.089317\ttrain-rmse:0.05278\n",
            "[29]\teval-rmse:0.089422\ttrain-rmse:0.052406\n",
            "[30]\teval-rmse:0.089443\ttrain-rmse:0.051465\n",
            "[31]\teval-rmse:0.089475\ttrain-rmse:0.050811\n",
            "[32]\teval-rmse:0.089515\ttrain-rmse:0.050449\n",
            "[33]\teval-rmse:0.090087\ttrain-rmse:0.049599\n",
            "[34]\teval-rmse:0.090235\ttrain-rmse:0.04923\n",
            "[35]\teval-rmse:0.090313\ttrain-rmse:0.04885\n",
            "----RUN  15\n",
            "[14:14:49] WARNING: /workspace/src/objective/regression_obj.cu:152: reg:linear is now deprecated in favor of reg:squarederror.\n",
            "[0]\teval-rmse:0.290804\ttrain-rmse:0.293582\n",
            "[1]\teval-rmse:0.212453\ttrain-rmse:0.212501\n",
            "[2]\teval-rmse:0.160382\ttrain-rmse:0.157461\n",
            "[3]\teval-rmse:0.127522\ttrain-rmse:0.121364\n",
            "[4]\teval-rmse:0.109145\ttrain-rmse:0.098278\n",
            "[5]\teval-rmse:0.098193\ttrain-rmse:0.08405\n",
            "[6]\teval-rmse:0.092595\ttrain-rmse:0.075316\n",
            "[7]\teval-rmse:0.089748\ttrain-rmse:0.070572\n",
            "[8]\teval-rmse:0.088171\ttrain-rmse:0.067781\n",
            "[9]\teval-rmse:0.087828\ttrain-rmse:0.065747\n",
            "[10]\teval-rmse:0.087672\ttrain-rmse:0.064149\n",
            "[11]\teval-rmse:0.087908\ttrain-rmse:0.063032\n",
            "[12]\teval-rmse:0.08832\ttrain-rmse:0.062061\n",
            "[13]\teval-rmse:0.088472\ttrain-rmse:0.061481\n",
            "[14]\teval-rmse:0.088727\ttrain-rmse:0.060519\n",
            "[15]\teval-rmse:0.0885\ttrain-rmse:0.059804\n",
            "[16]\teval-rmse:0.088569\ttrain-rmse:0.05947\n",
            "[17]\teval-rmse:0.088525\ttrain-rmse:0.058878\n",
            "[18]\teval-rmse:0.088658\ttrain-rmse:0.058498\n",
            "[19]\teval-rmse:0.088683\ttrain-rmse:0.057879\n",
            "[20]\teval-rmse:0.088742\ttrain-rmse:0.057553\n",
            "[21]\teval-rmse:0.088869\ttrain-rmse:0.057214\n",
            "[22]\teval-rmse:0.089047\ttrain-rmse:0.05598\n",
            "[23]\teval-rmse:0.089127\ttrain-rmse:0.055317\n",
            "[24]\teval-rmse:0.089246\ttrain-rmse:0.05469\n",
            "[25]\teval-rmse:0.089337\ttrain-rmse:0.054376\n",
            "[26]\teval-rmse:0.088926\ttrain-rmse:0.053425\n",
            "[27]\teval-rmse:0.089312\ttrain-rmse:0.052898\n",
            "[28]\teval-rmse:0.089317\ttrain-rmse:0.05278\n",
            "[29]\teval-rmse:0.089422\ttrain-rmse:0.052406\n",
            "[30]\teval-rmse:0.089443\ttrain-rmse:0.051465\n",
            "[31]\teval-rmse:0.089475\ttrain-rmse:0.050811\n",
            "[32]\teval-rmse:0.089515\ttrain-rmse:0.050449\n",
            "[33]\teval-rmse:0.090087\ttrain-rmse:0.049599\n",
            "[34]\teval-rmse:0.090235\ttrain-rmse:0.04923\n",
            "[35]\teval-rmse:0.090313\ttrain-rmse:0.04885\n",
            "----RUN  16\n",
            "[14:14:52] WARNING: /workspace/src/objective/regression_obj.cu:152: reg:linear is now deprecated in favor of reg:squarederror.\n",
            "[0]\teval-rmse:0.290804\ttrain-rmse:0.293582\n",
            "[1]\teval-rmse:0.212453\ttrain-rmse:0.212501\n",
            "[2]\teval-rmse:0.160382\ttrain-rmse:0.157461\n",
            "[3]\teval-rmse:0.127522\ttrain-rmse:0.121364\n",
            "[4]\teval-rmse:0.109145\ttrain-rmse:0.098278\n",
            "[5]\teval-rmse:0.098193\ttrain-rmse:0.08405\n",
            "[6]\teval-rmse:0.092595\ttrain-rmse:0.075316\n",
            "[7]\teval-rmse:0.089748\ttrain-rmse:0.070572\n",
            "[8]\teval-rmse:0.088171\ttrain-rmse:0.067781\n",
            "[9]\teval-rmse:0.087828\ttrain-rmse:0.065747\n",
            "[10]\teval-rmse:0.087672\ttrain-rmse:0.064149\n",
            "[11]\teval-rmse:0.087908\ttrain-rmse:0.063032\n",
            "[12]\teval-rmse:0.08832\ttrain-rmse:0.062061\n",
            "[13]\teval-rmse:0.088472\ttrain-rmse:0.061481\n",
            "[14]\teval-rmse:0.088727\ttrain-rmse:0.060519\n",
            "[15]\teval-rmse:0.0885\ttrain-rmse:0.059804\n",
            "[16]\teval-rmse:0.088569\ttrain-rmse:0.05947\n",
            "[17]\teval-rmse:0.088525\ttrain-rmse:0.058878\n",
            "[18]\teval-rmse:0.088658\ttrain-rmse:0.058498\n",
            "[19]\teval-rmse:0.088683\ttrain-rmse:0.057879\n",
            "[20]\teval-rmse:0.088742\ttrain-rmse:0.057553\n",
            "[21]\teval-rmse:0.088869\ttrain-rmse:0.057214\n",
            "[22]\teval-rmse:0.089047\ttrain-rmse:0.05598\n",
            "[23]\teval-rmse:0.089127\ttrain-rmse:0.055317\n",
            "[24]\teval-rmse:0.089246\ttrain-rmse:0.05469\n",
            "[25]\teval-rmse:0.089337\ttrain-rmse:0.054376\n",
            "[26]\teval-rmse:0.088926\ttrain-rmse:0.053425\n",
            "[27]\teval-rmse:0.089312\ttrain-rmse:0.052898\n",
            "[28]\teval-rmse:0.089317\ttrain-rmse:0.05278\n",
            "[29]\teval-rmse:0.089422\ttrain-rmse:0.052406\n",
            "[30]\teval-rmse:0.089443\ttrain-rmse:0.051465\n",
            "[31]\teval-rmse:0.089475\ttrain-rmse:0.050811\n",
            "[32]\teval-rmse:0.089515\ttrain-rmse:0.050449\n",
            "[33]\teval-rmse:0.090087\ttrain-rmse:0.049599\n",
            "[34]\teval-rmse:0.090235\ttrain-rmse:0.04923\n",
            "[35]\teval-rmse:0.090313\ttrain-rmse:0.04885\n",
            "Root mean squared error on valid: 0.087939376368955\n",
            "Root mean squared error on valid inverse transformed from normalization: [[87.41174011]]\n"
          ]
        }
      ],
      "source": [
        "from sklearn.model_selection import ParameterSampler, ParameterGrid\n",
        "\n",
        "all_params = {\n",
        "        #'min_child_weight': [1, 5, 10],\n",
        "        #'gamma': [0.5, 1, 1.5, 2, 5],\n",
        "        #'subsample': [0.6, 0.8, 1.0],\n",
        "        #'colsample_bytree': [0.6, 0.8, 1.0],\n",
        "        #'max_depth': [3, 4, 5],\n",
        "        'n_estimators':[30,100,200,500],\n",
        "        'learning_rate':[0.01, 0.1, 0.2, 0.3],\n",
        "        'objective': ['reg:linear'],\n",
        "        'eval_metric': ['rmse'],\n",
        "        'tree_method': ['gpu_hist'],\n",
        "        }\n",
        "\n",
        "best_score = 10000.0\n",
        "run = 1\n",
        "\n",
        "evallist = [(dmatrix_valid, 'eval'), (dmatrix_train, 'train')]\n",
        "for param_sample in ParameterGrid(all_params):\n",
        "    print(\"----RUN \",run)\n",
        "    xg_reg = xgb.train(param_sample, dmatrix_train, num_round*3, evallist)\n",
        "    \n",
        "    xgb_predictions = xg_reg.predict(dmatrix_valid)\n",
        "    score = sqrt(mean_squared_error(y_valid_rolled, xgb_predictions))\n",
        "\n",
        "    if score < best_score:\n",
        "        best_score = score\n",
        "        best_model = xg_reg\n",
        "    run+=1\n",
        "\n",
        "print(\"Root mean squared error on valid:\",best_score)\n",
        "print(\"Root mean squared error on valid inverse transformed from normalization:\",normalizers[\"pm2.5\"].inverse_transform(np.array([best_score]).reshape(1, -1)))"
      ]
    },
    {
      "cell_type": "markdown",
      "metadata": {
        "id": "3WhgWXn90k2O"
      },
      "source": [
        "No, the answer is: We not get any better at first glance. We could try to exhaustively search all parameters, but that would take exorbitant amount of time and is not promising.\n",
        "\n",
        "We need to try a more sophisticated model."
      ]
    },
    {
      "cell_type": "markdown",
      "source": [
        "# Deep Learning"
      ],
      "metadata": {
        "id": "sg3wpdyJhY_n"
      }
    },
    {
      "cell_type": "code",
      "source": [
        "from tensorflow.keras import Sequential\n",
        "from tensorflow.keras.layers import Dense, Dropout, LSTM, Conv1D, MaxPooling1D, Flatten, TimeDistributed\n",
        "from tensorflow.keras import backend as be\n",
        "from tensorflow.keras.callbacks import ReduceLROnPlateau"
      ],
      "metadata": {
        "id": "JV-vD0nRjfMd"
      },
      "execution_count": null,
      "outputs": []
    },
    {
      "cell_type": "code",
      "execution_count": null,
      "metadata": {
        "ExecuteTime": {
          "end_time": "2019-05-01T10:17:26.874550Z",
          "start_time": "2019-05-01T10:17:26.857975Z"
        },
        "id": "jTiXEzXO0k2O"
      },
      "outputs": [],
      "source": [
        "BATCH_SIZE = 100\n",
        "EPOCHS = 40\n",
        "column_count=len(X_train_norm.columns)"
      ]
    },
    {
      "cell_type": "code",
      "source": [
        "from keras.callbacks import ModelCheckpoint, EarlyStopping, ReduceLROnPlateau\n",
        "\n",
        "earlystop = EarlyStopping(patience = 5)\n",
        "learning_rate_reduction = ReduceLROnPlateau(monitor = 'val_loss',patience = 2, factor = 0.8, min_lr = 0.00001)\n",
        "\n",
        "callbacks = [earlystop, learning_rate_reduction]"
      ],
      "metadata": {
        "id": "1Ispn_G0NX92"
      },
      "execution_count": null,
      "outputs": []
    },
    {
      "cell_type": "markdown",
      "source": [
        "## MLP for Time Series Forecasting\n",
        "*   First we will use a Multilayer Perceptron model or MLP model, here our model will have input features equal to the window size.\n",
        "*   The thing with MLP models is that the model don't take the input as sequenced data, so for the model, it is just receiving inputs and don't treat them as sequenced data, that may be a problem since the model won't see the data with the sequence patter that it has."
      ],
      "metadata": {
        "id": "q8JD36H2gtm8"
      }
    },
    {
      "cell_type": "code",
      "source": [
        "# TODO: Create a model with 1 hidden layer of 100 units\n",
        "model_mlp = ..."
      ],
      "metadata": {
        "id": "yKnjgxk1OSsA"
      },
      "execution_count": null,
      "outputs": []
    },
    {
      "cell_type": "code",
      "source": [
        "mlp_history = model_mlp.fit(x=X_train_rolled,y=y_train_rolled, batch_size=BATCH_SIZE, validation_data=(X_valid_rolled,y_valid_rolled), epochs=EPOCHS, callbacks=callbacks)"
      ],
      "metadata": {
        "colab": {
          "base_uri": "https://localhost:8080/"
        },
        "id": "7vYRk5aLhJVD",
        "outputId": "05adabd2-ec03-412d-f725-0ee768e36393"
      },
      "execution_count": null,
      "outputs": [
        {
          "output_type": "stream",
          "name": "stdout",
          "text": [
            "Epoch 1/40\n",
            "350/350 [==============================] - 1s 4ms/step - loss: 0.0084 - val_loss: 0.0097 - lr: 0.0010\n",
            "Epoch 2/40\n",
            "350/350 [==============================] - 1s 4ms/step - loss: 0.0084 - val_loss: 0.0098 - lr: 0.0010\n",
            "Epoch 3/40\n",
            "350/350 [==============================] - 1s 4ms/step - loss: 0.0084 - val_loss: 0.0097 - lr: 0.0010\n",
            "Epoch 4/40\n",
            "350/350 [==============================] - 1s 4ms/step - loss: 0.0084 - val_loss: 0.0096 - lr: 8.0000e-04\n",
            "Epoch 5/40\n",
            "350/350 [==============================] - 1s 4ms/step - loss: 0.0084 - val_loss: 0.0097 - lr: 8.0000e-04\n",
            "Epoch 6/40\n",
            "350/350 [==============================] - 1s 4ms/step - loss: 0.0084 - val_loss: 0.0097 - lr: 6.4000e-04\n",
            "Epoch 7/40\n",
            "350/350 [==============================] - 1s 4ms/step - loss: 0.0084 - val_loss: 0.0097 - lr: 6.4000e-04\n"
          ]
        }
      ]
    },
    {
      "cell_type": "code",
      "source": [
        "rms_MLP = sqrt(min(mlp_history.history['val_loss']))\n",
        "\n",
        "print(\"Root mean squared error on valid:\",rms_MLP)\n",
        "print(\"Root mean squared error on valid inverse transformed from normalization:\",normalizers[\"pm2.5\"].inverse_transform(np.array([rms_MLP]).reshape(1, -1)))"
      ],
      "metadata": {
        "colab": {
          "base_uri": "https://localhost:8080/"
        },
        "id": "i__YNWAriP2-",
        "outputId": "61b21f3c-9eb8-4fe0-ad02-53ea67c10f92"
      },
      "execution_count": null,
      "outputs": [
        {
          "output_type": "stream",
          "name": "stdout",
          "text": [
            "Root mean squared error on valid: 0.09820113755903079\n",
            "Root mean squared error on valid inverse transformed from normalization: [[97.61193073]]\n"
          ]
        }
      ]
    },
    {
      "cell_type": "markdown",
      "source": [
        "## CNN for Time Series Forecasting\n",
        "*   For the CNN model we will use one convolutional hidden layer followed by a max pooling layer. The filter maps are then flattened before being interpreted by a Dense layer and outputting a prediction.\n",
        "*   The convolutional layer should be able to identify patterns between the timesteps."
      ],
      "metadata": {
        "id": "WPYrZMsJiv3l"
      }
    },
    {
      "cell_type": "code",
      "source": [
        "# TODO: Create a CNN model with\n",
        "# Conv1D layer with 64 filters and a kernel size of 2\n",
        "# MaxPooling1D with a pool size of 2\n",
        "# Flatten layer\n",
        "# Hidden layer with 50 units\n",
        "\n",
        "model_cnn = ..."
      ],
      "metadata": {
        "id": "ZQGcPcGTOj_x"
      },
      "execution_count": null,
      "outputs": []
    },
    {
      "cell_type": "code",
      "source": [
        "cnn_history = model_cnn.fit(x=X_train_rolled,y=y_train_rolled, batch_size=BATCH_SIZE, validation_data=(X_valid_rolled,y_valid_rolled), epochs=EPOCHS, callbacks=callbacks)"
      ],
      "metadata": {
        "colab": {
          "base_uri": "https://localhost:8080/"
        },
        "id": "2rEZx9JtjPuw",
        "outputId": "2c4b89cd-37c0-481a-9c7f-ded772071cf8"
      },
      "execution_count": null,
      "outputs": [
        {
          "output_type": "stream",
          "name": "stdout",
          "text": [
            "Epoch 1/40\n",
            "350/350 [==============================] - 2s 4ms/step - loss: 0.0186 - val_loss: 0.0086 - lr: 0.0010\n",
            "Epoch 2/40\n",
            "350/350 [==============================] - 1s 4ms/step - loss: 0.0075 - val_loss: 0.0081 - lr: 0.0010\n",
            "Epoch 3/40\n",
            "350/350 [==============================] - 1s 4ms/step - loss: 0.0071 - val_loss: 0.0080 - lr: 0.0010\n",
            "Epoch 4/40\n",
            "350/350 [==============================] - 1s 4ms/step - loss: 0.0069 - val_loss: 0.0081 - lr: 0.0010\n",
            "Epoch 5/40\n",
            "350/350 [==============================] - 1s 4ms/step - loss: 0.0066 - val_loss: 0.0080 - lr: 0.0010\n",
            "Epoch 6/40\n",
            "350/350 [==============================] - 1s 4ms/step - loss: 0.0063 - val_loss: 0.0080 - lr: 8.0000e-04\n",
            "Epoch 7/40\n",
            "350/350 [==============================] - 1s 4ms/step - loss: 0.0060 - val_loss: 0.0077 - lr: 8.0000e-04\n",
            "Epoch 8/40\n",
            "350/350 [==============================] - 1s 4ms/step - loss: 0.0057 - val_loss: 0.0074 - lr: 8.0000e-04\n",
            "Epoch 9/40\n",
            "350/350 [==============================] - 1s 4ms/step - loss: 0.0054 - val_loss: 0.0098 - lr: 8.0000e-04\n",
            "Epoch 10/40\n",
            "350/350 [==============================] - 1s 4ms/step - loss: 0.0053 - val_loss: 0.0080 - lr: 8.0000e-04\n",
            "Epoch 11/40\n",
            "350/350 [==============================] - 1s 4ms/step - loss: 0.0050 - val_loss: 0.0079 - lr: 6.4000e-04\n",
            "Epoch 12/40\n",
            "350/350 [==============================] - 1s 4ms/step - loss: 0.0048 - val_loss: 0.0099 - lr: 6.4000e-04\n",
            "Epoch 13/40\n",
            "350/350 [==============================] - 1s 3ms/step - loss: 0.0045 - val_loss: 0.0104 - lr: 5.1200e-04\n"
          ]
        }
      ]
    },
    {
      "cell_type": "code",
      "source": [
        "rms_CNN = sqrt(min(cnn_history.history['val_loss']))\n",
        "\n",
        "print(\"Root mean squared error on valid:\",rms_CNN)\n",
        "print(\"Root mean squared error on valid inverse transformed from normalization:\",normalizers[\"pm2.5\"].inverse_transform(np.array([rms_CNN]).reshape(1, -1)))"
      ],
      "metadata": {
        "colab": {
          "base_uri": "https://localhost:8080/"
        },
        "id": "IVHMu0uDjQ-8",
        "outputId": "8faecf69-b7a5-4fee-aeb1-abeb2f6befa1"
      },
      "execution_count": null,
      "outputs": [
        {
          "output_type": "stream",
          "name": "stdout",
          "text": [
            "Root mean squared error on valid: 0.09820113755903079\n",
            "Root mean squared error on valid inverse transformed from normalization: [[97.61193073]]\n"
          ]
        }
      ]
    },
    {
      "cell_type": "markdown",
      "metadata": {
        "id": "eGXNPFcZ0k2O"
      },
      "source": [
        "## Building an LSTM model\n",
        "\n",
        "We believe, that the time dependent structure of this dataset is complex, so we try to use LSTM models from Keras. We are not explicitly utilizing **statefulness**, that is a **major area to be investigated later on**.\n",
        "\n",
        "More information on statefulness can be found [here](https://philipperemy.github.io/keras-stateful-lstm/).\n"
      ]
    },
    {
      "cell_type": "code",
      "source": [
        "# TODO: Create a LSTM model with 100 LSTM cells and a Dropout layer with rate=0.2\n",
        "model_lstm = ..."
      ],
      "metadata": {
        "id": "FaKs3G-iO-AP"
      },
      "execution_count": null,
      "outputs": []
    },
    {
      "cell_type": "code",
      "execution_count": null,
      "metadata": {
        "ExecuteTime": {
          "end_time": "2019-05-01T10:28:26.279239Z",
          "start_time": "2019-05-01T10:21:38.332364Z"
        },
        "colab": {
          "base_uri": "https://localhost:8080/"
        },
        "id": "tTaVOPSZ0k2O",
        "outputId": "2ded991c-8f0d-461e-faa3-0b7a986c4579"
      },
      "outputs": [
        {
          "output_type": "stream",
          "name": "stdout",
          "text": [
            "Epoch 1/40\n",
            "350/350 [==============================] - 8s 11ms/step - loss: 0.0161 - val_loss: 0.0145 - lr: 0.0010\n",
            "Epoch 2/40\n",
            "350/350 [==============================] - 3s 9ms/step - loss: 0.0105 - val_loss: 0.0147 - lr: 0.0010\n",
            "Epoch 3/40\n",
            "350/350 [==============================] - 3s 9ms/step - loss: 0.0092 - val_loss: 0.0244 - lr: 0.0010\n",
            "Epoch 4/40\n",
            "350/350 [==============================] - 3s 9ms/step - loss: 0.0080 - val_loss: 0.0092 - lr: 8.0000e-04\n",
            "Epoch 5/40\n",
            "350/350 [==============================] - 3s 9ms/step - loss: 0.0075 - val_loss: 0.0085 - lr: 8.0000e-04\n",
            "Epoch 6/40\n",
            "350/350 [==============================] - 3s 9ms/step - loss: 0.0079 - val_loss: 0.0099 - lr: 8.0000e-04\n",
            "Epoch 7/40\n",
            "350/350 [==============================] - 3s 9ms/step - loss: 0.0078 - val_loss: 0.0078 - lr: 8.0000e-04\n",
            "Epoch 8/40\n",
            "350/350 [==============================] - 3s 9ms/step - loss: 0.0076 - val_loss: 0.0082 - lr: 8.0000e-04\n",
            "Epoch 9/40\n",
            "350/350 [==============================] - 3s 9ms/step - loss: 0.0074 - val_loss: 0.0086 - lr: 8.0000e-04\n",
            "Epoch 10/40\n",
            "350/350 [==============================] - 3s 9ms/step - loss: 0.0071 - val_loss: 0.0077 - lr: 6.4000e-04\n",
            "Epoch 11/40\n",
            "350/350 [==============================] - 3s 9ms/step - loss: 0.0070 - val_loss: 0.0074 - lr: 6.4000e-04\n",
            "Epoch 12/40\n",
            "350/350 [==============================] - 3s 9ms/step - loss: 0.0070 - val_loss: 0.0075 - lr: 6.4000e-04\n",
            "Epoch 13/40\n",
            "350/350 [==============================] - 3s 9ms/step - loss: 0.0070 - val_loss: 0.0076 - lr: 6.4000e-04\n",
            "Epoch 14/40\n",
            "350/350 [==============================] - 3s 9ms/step - loss: 0.0069 - val_loss: 0.0075 - lr: 5.1200e-04\n"
          ]
        }
      ],
      "source": [
        "lstm_history = model_lstm.fit(x=X_train_rolled,y=y_train_rolled, batch_size=BATCH_SIZE, validation_data=(X_valid_rolled,y_valid_rolled), epochs=EPOCHS, verbose=1, shuffle=False, callbacks=callbacks)"
      ]
    },
    {
      "cell_type": "code",
      "execution_count": null,
      "metadata": {
        "ExecuteTime": {
          "end_time": "2019-05-01T10:28:29.919454Z",
          "start_time": "2019-05-01T10:28:29.763545Z"
        },
        "colab": {
          "base_uri": "https://localhost:8080/",
          "height": 266
        },
        "id": "ECx67Oa60k2O",
        "outputId": "49dd2f0b-1cce-4ae3-dc0a-788eb9dfb85a"
      },
      "outputs": [
        {
          "output_type": "display_data",
          "data": {
            "text/plain": [
              "<Figure size 432x288 with 1 Axes>"
            ],
            "image/png": "[encoded data removed]"
          },
          "metadata": {
            "needs_background": "light"
          }
        }
      ],
      "source": [
        "plt.plot(lstm_history.history['loss'], label='train')\n",
        "plt.plot(lstm_history.history['val_loss'], label='test')\n",
        "plt.legend()\n",
        "plt.show()"
      ]
    },
    {
      "cell_type": "code",
      "execution_count": null,
      "metadata": {
        "ExecuteTime": {
          "end_time": "2019-05-01T10:28:32.599788Z",
          "start_time": "2019-05-01T10:28:32.589245Z"
        },
        "colab": {
          "base_uri": "https://localhost:8080/"
        },
        "id": "1VijTGQj0k2O",
        "outputId": "0d87a3e4-b973-4640-9ae3-0ac9269d85cb"
      },
      "outputs": [
        {
          "output_type": "stream",
          "name": "stdout",
          "text": [
            "Root mean squared error on valid: 0.08620900376211918\n",
            "Root mean squared error on valid inverse transformed from normalization: [[85.69174974]]\n"
          ]
        }
      ],
      "source": [
        "rms_LSTM = sqrt(min(lstm_history.history['val_loss']))\n",
        "\n",
        "print(\"Root mean squared error on valid:\", rms_LSTM)\n",
        "print(\"Root mean squared error on valid inverse transformed from normalization:\",normalizers[\"pm2.5\"].inverse_transform(np.array([rms_LSTM]).reshape(1, -1)))"
      ]
    },
    {
      "cell_type": "markdown",
      "source": [
        "## CNN-LSTM for Time Series Forecasting\n",
        "*   Input shape **[samples, subsequences, timesteps, features]**.\n",
        "*   Model explanation from the [article](https://machinelearningmastery.com/how-to-get-started-with-deep-learning-for-time-series-forecasting-7-day-mini-course/)\n",
        "> \"The benefit of this model is that the model can support very long input sequences that can be read as blocks or subsequences by the CNN model, then pieced together by the LSTM model.\"\n",
        "> \n",
        "> \"When using a hybrid CNN-LSTM model, we will further divide each sample into further subsequences. The CNN model will interpret each sub-sequence and the LSTM will piece together the interpretations from the subsequences. As such, we will split each sample into 2 subsequences of 2 times per subsequence.\"\n",
        "> \n",
        "> \"The CNN will be defined to expect 2 timesteps per subsequence with one feature. The entire CNN model is then wrapped in TimeDistributed wrapper layers so that it can be applied to each subsequence in the sample. The results are then interpreted by the LSTM layer before the model outputs a prediction.\"\n",
        "\n",
        "Data preprocess\n",
        "*   Reshape from [samples, timesteps, features] into [samples, subsequences, timesteps, features]."
      ],
      "metadata": {
        "id": "Cy6Vc-vElb3z"
      }
    },
    {
      "cell_type": "code",
      "source": [
        "X_train_rolled.shape"
      ],
      "metadata": {
        "colab": {
          "base_uri": "https://localhost:8080/"
        },
        "id": "lZ5cLPy5p3qs",
        "outputId": "85d31e3f-5da4-4775-9574-d75a2726be35"
      },
      "execution_count": null,
      "outputs": [
        {
          "output_type": "execute_result",
          "data": {
            "text/plain": [
              "(34917, 100, 18)"
            ]
          },
          "metadata": {},
          "execution_count": 68
        }
      ]
    },
    {
      "cell_type": "code",
      "source": [
        "subsequences = 2\n",
        "timesteps = X_train_rolled.shape[1]//subsequences\n",
        "X_train_series_sub = X_train_rolled.reshape((X_train_rolled.shape[0], subsequences, timesteps, X_train_rolled.shape[2]))\n",
        "X_valid_series_sub = X_valid_rolled.reshape((X_valid_rolled.shape[0], subsequences, timesteps, X_valid_rolled.shape[2]))\n",
        "\n",
        "print('Train set shape', X_train_series_sub.shape)\n",
        "print('Validation set shape', X_valid_series_sub.shape)"
      ],
      "metadata": {
        "colab": {
          "base_uri": "https://localhost:8080/"
        },
        "id": "p9twAMkgl_iZ",
        "outputId": "dba7ae98-45cd-4ca5-b684-f14edf8bd226"
      },
      "execution_count": null,
      "outputs": [
        {
          "output_type": "stream",
          "name": "stdout",
          "text": [
            "Train set shape (34917, 2, 50, 18)\n",
            "Validation set shape (4257, 2, 50, 18)\n"
          ]
        }
      ]
    },
    {
      "cell_type": "code",
      "source": [
        "model_cnn_lstm = Sequential()\n",
        "model_cnn_lstm.add(TimeDistributed(Conv1D(filters=64, kernel_size=1, activation='relu'), input_shape=(None, X_train_series_sub.shape[2], X_train_series_sub.shape[3])))\n",
        "model_cnn_lstm.add(TimeDistributed(MaxPooling1D(pool_size=2)))\n",
        "model_cnn_lstm.add(TimeDistributed(Flatten()))\n",
        "model_cnn_lstm.add(LSTM(50, activation='relu'))\n",
        "model_cnn_lstm.add(Dense(1))\n",
        "model_cnn_lstm.compile(loss='mse', optimizer=\"adam\")"
      ],
      "metadata": {
        "colab": {
          "base_uri": "https://localhost:8080/"
        },
        "id": "r8G4QxI4mFun",
        "outputId": "bbf6933f-49c5-44b1-fe7a-d537fa96edbc"
      },
      "execution_count": null,
      "outputs": [
        {
          "output_type": "stream",
          "name": "stderr",
          "text": [
            "WARNING:tensorflow:Layer lstm_4 will not use cuDNN kernels since it doesn't meet the criteria. It will use a generic GPU kernel as fallback when running on GPU.\n"
          ]
        }
      ]
    },
    {
      "cell_type": "code",
      "source": [
        "cnn_lstm_history = model_cnn_lstm.fit(x=X_train_series_sub,y=y_train_rolled, batch_size=BATCH_SIZE, validation_data=(X_valid_series_sub,y_valid_rolled), epochs=EPOCHS, callbacks=callbacks)"
      ],
      "metadata": {
        "colab": {
          "base_uri": "https://localhost:8080/"
        },
        "id": "Ds9Exxt6mJ9u",
        "outputId": "9693b432-f8e3-42c9-f163-55232e465254"
      },
      "execution_count": null,
      "outputs": [
        {
          "output_type": "stream",
          "name": "stdout",
          "text": [
            "Epoch 1/40\n",
            "350/350 [==============================] - 5s 11ms/step - loss: 0.0089 - val_loss: 0.0078 - lr: 0.0010\n",
            "Epoch 2/40\n",
            "350/350 [==============================] - 4s 12ms/step - loss: 0.0066 - val_loss: 0.0076 - lr: 0.0010\n",
            "Epoch 3/40\n",
            "350/350 [==============================] - 3s 8ms/step - loss: 0.0059 - val_loss: 0.0098 - lr: 0.0010\n",
            "Epoch 4/40\n",
            "350/350 [==============================] - 3s 9ms/step - loss: 0.0053 - val_loss: 0.0111 - lr: 0.0010\n",
            "Epoch 5/40\n",
            "350/350 [==============================] - 3s 8ms/step - loss: 0.0046 - val_loss: 0.0105 - lr: 8.0000e-04\n",
            "Epoch 6/40\n",
            "350/350 [==============================] - 3s 8ms/step - loss: 0.0039 - val_loss: 0.0105 - lr: 8.0000e-04\n",
            "Epoch 7/40\n",
            "350/350 [==============================] - 4s 13ms/step - loss: 0.0033 - val_loss: 0.0165 - lr: 6.4000e-04\n"
          ]
        }
      ]
    },
    {
      "cell_type": "code",
      "source": [
        "rms_CNN_LSTM = sqrt(min(cnn_lstm_history.history['val_loss']))\n",
        "\n",
        "print(\"Root mean squared error on valid:\", rms_CNN_LSTM)\n",
        "print(\"Root mean squared error on valid inverse transformed from normalization:\",normalizers[\"pm2.5\"].inverse_transform(np.array([rms_CNN_LSTM]).reshape(1, -1)))"
      ],
      "metadata": {
        "colab": {
          "base_uri": "https://localhost:8080/"
        },
        "id": "ROKoSSgoqYJ3",
        "outputId": "be485859-1cde-4143-d7ca-1f2afde777a3"
      },
      "execution_count": null,
      "outputs": [
        {
          "output_type": "stream",
          "name": "stdout",
          "text": [
            "Root mean squared error on valid: 0.0871823354912541\n",
            "Root mean squared error on valid inverse transformed from normalization: [[86.65924148]]\n"
          ]
        }
      ]
    }
  ],
  "metadata": {
    "kernelspec": {
      "display_name": "Python 3",
      "language": "python",
      "name": "python3"
    },
    "language_info": {
      "codemirror_mode": {
        "name": "ipython",
        "version": 3
      },
      "file_extension": ".py",
      "mimetype": "text/x-python",
      "name": "python",
      "nbconvert_exporter": "python",
      "pygments_lexer": "ipython3",
      "version": "3.7.9"
    },
    "toc": {
      "base_numbering": 1,
      "nav_menu": {},
      "number_sections": true,
      "sideBar": true,
      "skip_h1_title": false,
      "title_cell": "Table of Contents",
      "title_sidebar": "Contents",
      "toc_cell": false,
      "toc_position": {},
      "toc_section_display": true,
      "toc_window_display": false
    },
    "varInspector": {
      "cols": {
        "lenName": 16,
        "lenType": 16,
        "lenVar": 40
      },
      "kernels_config": {
        "python": {
          "delete_cmd_postfix": "",
          "delete_cmd_prefix": "del ",
          "library": "var_list.py",
          "varRefreshCmd": "print(var_dic_list())"
        },
        "r": {
          "delete_cmd_postfix": ") ",
          "delete_cmd_prefix": "rm(",
          "library": "var_list.r",
          "varRefreshCmd": "cat(var_dic_list()) "
        }
      },
      "types_to_exclude": [
        "module",
        "function",
        "builtin_function_or_method",
        "instance",
        "_Feature"
      ],
      "window_display": false
    },
    "colab": {
      "provenance": [],
      "include_colab_link": true
    },
    "accelerator": "GPU",
    "gpuClass": "standard"
  },
  "nbformat": 4,
  "nbformat_minor": 0
}